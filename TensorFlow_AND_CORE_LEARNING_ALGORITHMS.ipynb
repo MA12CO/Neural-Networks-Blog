{
  "nbformat": 4,
  "nbformat_minor": 0,
  "metadata": {
    "colab": {
      "provenance": []
    },
    "kernelspec": {
      "name": "python3",
      "display_name": "Python 3"
    },
    "language_info": {
      "name": "python"
    }
  },
  "cells": [
    {
      "cell_type": "markdown",
      "source": [
        "REMEMBER:\n",
        "\n",
        "- TO PRINT AN ITERABLE (ARRAY, LIST, DIC...) WITH SEPARATORS USE\n",
        "\n",
        "\n",
        "\n",
        "```\n",
        "print(*myArray, sep = \"\\n\")\n",
        "```\n",
        "\n",
        "\n",
        "- TO CONVERT A TENSOR TO AN ARRAY (FOR VISIBILITY USE:\n",
        "\n",
        "```\n",
        "myTensor.numpy()\n",
        "```\n",
        "\n"
      ],
      "metadata": {
        "id": "lQj-9hDHB15V"
      }
    },
    {
      "cell_type": "markdown",
      "source": [],
      "metadata": {
        "id": "Ps9m0Z32rAMN"
      }
    },
    {
      "cell_type": "markdown",
      "source": [
        "##TensorFlow\n",
        "\n"
      ],
      "metadata": {
        "id": "83q-HX4N3Pn_"
      }
    },
    {
      "cell_type": "code",
      "source": [
        "%tensorflow_version 2.x\n",
        "import tensorflow as tf\n",
        "print(tf.version)"
      ],
      "metadata": {
        "colab": {
          "base_uri": "https://localhost:8080/"
        },
        "id": "TZ46qFUI3q8y",
        "outputId": "ea05e6cd-3040-4a25-e9f5-739a3c4535a2"
      },
      "execution_count": null,
      "outputs": [
        {
          "output_type": "stream",
          "name": "stdout",
          "text": [
            "<module 'tensorflow._api.v2.version' from '/usr/local/lib/python3.7/dist-packages/tensorflow/_api/v2/version/__init__.py'>\n"
          ]
        }
      ]
    },
    {
      "cell_type": "markdown",
      "source": [
        "###Tensors\n",
        "\n",
        "A Tensor is a generalisztion of vectors and matrices to potentially higher dimentions\n",
        "\n",
        "each tensor has a datatype and a shape\n"
      ],
      "metadata": {
        "id": "pOCeFmXl-qBG"
      }
    },
    {
      "cell_type": "code",
      "source": [
        "string = tf.Variable(\"this is a string\", tf.string)\n",
        "number = tf.Variable(324, tf.int16)\n",
        "float_number = tf.Variable(3.567, tf.float64)\n",
        "\n",
        "print(tf.rank(string))\n",
        "print(string.shape)"
      ],
      "metadata": {
        "colab": {
          "base_uri": "https://localhost:8080/"
        },
        "id": "nLEodAAV-etJ",
        "outputId": "c8cc4dcd-71fb-4bcd-c6cc-43e2a07bb8b1"
      },
      "execution_count": null,
      "outputs": [
        {
          "output_type": "stream",
          "name": "stdout",
          "text": [
            "tf.Tensor(0, shape=(), dtype=int32)\n",
            "()\n"
          ]
        }
      ]
    },
    {
      "cell_type": "markdown",
      "source": [
        "#####Rank/ Degree of Tensor\n",
        "\n",
        "*   The number of dimensions of the tensor\n",
        "*   Note that arrays are rank 1 and 2D matrices are rank 2 and so on\n",
        "\n",
        "#####Shape of Tensor\n",
        "\n",
        "*   The shape is the length of each dimension\n",
        "*   Rank 1 tensors have 1D shape, rank 2 have 2D shape and so on\n"
      ],
      "metadata": {
        "id": "HXmV1BqnA6_c"
      }
    },
    {
      "cell_type": "code",
      "source": [
        "rank1_tensor = tf.Variable([\"test\", \"ok\", \"yes\"], tf.string)\n",
        "rank2_tensor = tf.Variable([[\"test\", \"ok\"],[\"test\", \"ok\"],[\"test\", \"ok\"]], tf.string)\n",
        "\n",
        "print(tf.rank(rank1_tensor))\n",
        "print(rank1_tensor.shape)\n",
        "\n",
        "print(tf.rank(rank2_tensor))\n",
        "print(rank2_tensor.shape)"
      ],
      "metadata": {
        "colab": {
          "base_uri": "https://localhost:8080/"
        },
        "id": "kboSy3E7BPLj",
        "outputId": "0b63f93e-abc4-4b36-eea7-c71870708b56"
      },
      "execution_count": null,
      "outputs": [
        {
          "output_type": "stream",
          "name": "stdout",
          "text": [
            "tf.Tensor(1, shape=(), dtype=int32)\n",
            "(3,)\n",
            "tf.Tensor(2, shape=(), dtype=int32)\n",
            "(3, 2)\n"
          ]
        }
      ]
    },
    {
      "cell_type": "markdown",
      "source": [
        "#####Changing Shapes:"
      ],
      "metadata": {
        "id": "TsUZSjQ9F8hb"
      }
    },
    {
      "cell_type": "code",
      "source": [
        "tensor1 = tf.ones([1,2,3])\n",
        "tensor2 = tf.reshape(tensor1, [2,3,1])\n",
        "# -1 TELLS THE TENSOR TO FIGURE OUT THE SIZE OF THAT DIMENSION\n",
        "tensor3 = tf.reshape(tensor2, [3, -1])\n",
        "# IN THAT CASE IT WILL BE [3,2]\n",
        "\n",
        "\n",
        "print(tensor1)\n",
        "print(tensor2)\n",
        "print(tensor3)"
      ],
      "metadata": {
        "colab": {
          "base_uri": "https://localhost:8080/"
        },
        "id": "Mmck6F8nGBvn",
        "outputId": "e48ce532-afa4-4fa0-8e7d-fcce40257fee"
      },
      "execution_count": null,
      "outputs": [
        {
          "output_type": "stream",
          "name": "stdout",
          "text": [
            "tf.Tensor(\n",
            "[[[1. 1. 1.]\n",
            "  [1. 1. 1.]]], shape=(1, 2, 3), dtype=float32)\n",
            "tf.Tensor(\n",
            "[[[1.]\n",
            "  [1.]\n",
            "  [1.]]\n",
            "\n",
            " [[1.]\n",
            "  [1.]\n",
            "  [1.]]], shape=(2, 3, 1), dtype=float32)\n",
            "tf.Tensor(\n",
            "[[1. 1.]\n",
            " [1. 1.]\n",
            " [1. 1.]], shape=(3, 2), dtype=float32)\n"
          ]
        }
      ]
    },
    {
      "cell_type": "markdown",
      "source": [
        "practicing reshaping..."
      ],
      "metadata": {
        "id": "VZktzLxmMznr"
      }
    },
    {
      "cell_type": "code",
      "source": [
        "t = tf.zeros([5,5,5,5])\n",
        "\n",
        "# TO FLATTEN THE TENSOR INTO 1D:\n",
        "t = tf.reshape(t, [625])\n",
        "# t = tf.reshape(t, 625)\n",
        "# t = tf.reshape(t, -1)\n",
        "# ALL OF THE ABOVE DO THE SAME\n",
        "\n",
        "print(t)"
      ],
      "metadata": {
        "colab": {
          "base_uri": "https://localhost:8080/"
        },
        "id": "LOgZlAQ_MJhg",
        "outputId": "301b924b-1ba0-458e-c934-6b0b3171b052"
      },
      "execution_count": null,
      "outputs": [
        {
          "output_type": "stream",
          "name": "stdout",
          "text": [
            "tf.Tensor(\n",
            "[0. 0. 0. 0. 0. 0. 0. 0. 0. 0. 0. 0. 0. 0. 0. 0. 0. 0. 0. 0. 0. 0. 0. 0.\n",
            " 0. 0. 0. 0. 0. 0. 0. 0. 0. 0. 0. 0. 0. 0. 0. 0. 0. 0. 0. 0. 0. 0. 0. 0.\n",
            " 0. 0. 0. 0. 0. 0. 0. 0. 0. 0. 0. 0. 0. 0. 0. 0. 0. 0. 0. 0. 0. 0. 0. 0.\n",
            " 0. 0. 0. 0. 0. 0. 0. 0. 0. 0. 0. 0. 0. 0. 0. 0. 0. 0. 0. 0. 0. 0. 0. 0.\n",
            " 0. 0. 0. 0. 0. 0. 0. 0. 0. 0. 0. 0. 0. 0. 0. 0. 0. 0. 0. 0. 0. 0. 0. 0.\n",
            " 0. 0. 0. 0. 0. 0. 0. 0. 0. 0. 0. 0. 0. 0. 0. 0. 0. 0. 0. 0. 0. 0. 0. 0.\n",
            " 0. 0. 0. 0. 0. 0. 0. 0. 0. 0. 0. 0. 0. 0. 0. 0. 0. 0. 0. 0. 0. 0. 0. 0.\n",
            " 0. 0. 0. 0. 0. 0. 0. 0. 0. 0. 0. 0. 0. 0. 0. 0. 0. 0. 0. 0. 0. 0. 0. 0.\n",
            " 0. 0. 0. 0. 0. 0. 0. 0. 0. 0. 0. 0. 0. 0. 0. 0. 0. 0. 0. 0. 0. 0. 0. 0.\n",
            " 0. 0. 0. 0. 0. 0. 0. 0. 0. 0. 0. 0. 0. 0. 0. 0. 0. 0. 0. 0. 0. 0. 0. 0.\n",
            " 0. 0. 0. 0. 0. 0. 0. 0. 0. 0. 0. 0. 0. 0. 0. 0. 0. 0. 0. 0. 0. 0. 0. 0.\n",
            " 0. 0. 0. 0. 0. 0. 0. 0. 0. 0. 0. 0. 0. 0. 0. 0. 0. 0. 0. 0. 0. 0. 0. 0.\n",
            " 0. 0. 0. 0. 0. 0. 0. 0. 0. 0. 0. 0. 0. 0. 0. 0. 0. 0. 0. 0. 0. 0. 0. 0.\n",
            " 0. 0. 0. 0. 0. 0. 0. 0. 0. 0. 0. 0. 0. 0. 0. 0. 0. 0. 0. 0. 0. 0. 0. 0.\n",
            " 0. 0. 0. 0. 0. 0. 0. 0. 0. 0. 0. 0. 0. 0. 0. 0. 0. 0. 0. 0. 0. 0. 0. 0.\n",
            " 0. 0. 0. 0. 0. 0. 0. 0. 0. 0. 0. 0. 0. 0. 0. 0. 0. 0. 0. 0. 0. 0. 0. 0.\n",
            " 0. 0. 0. 0. 0. 0. 0. 0. 0. 0. 0. 0. 0. 0. 0. 0. 0. 0. 0. 0. 0. 0. 0. 0.\n",
            " 0. 0. 0. 0. 0. 0. 0. 0. 0. 0. 0. 0. 0. 0. 0. 0. 0. 0. 0. 0. 0. 0. 0. 0.\n",
            " 0. 0. 0. 0. 0. 0. 0. 0. 0. 0. 0. 0. 0. 0. 0. 0. 0. 0. 0. 0. 0. 0. 0. 0.\n",
            " 0. 0. 0. 0. 0. 0. 0. 0. 0. 0. 0. 0. 0. 0. 0. 0. 0. 0. 0. 0. 0. 0. 0. 0.\n",
            " 0. 0. 0. 0. 0. 0. 0. 0. 0. 0. 0. 0. 0. 0. 0. 0. 0. 0. 0. 0. 0. 0. 0. 0.\n",
            " 0. 0. 0. 0. 0. 0. 0. 0. 0. 0. 0. 0. 0. 0. 0. 0. 0. 0. 0. 0. 0. 0. 0. 0.\n",
            " 0. 0. 0. 0. 0. 0. 0. 0. 0. 0. 0. 0. 0. 0. 0. 0. 0. 0. 0. 0. 0. 0. 0. 0.\n",
            " 0. 0. 0. 0. 0. 0. 0. 0. 0. 0. 0. 0. 0. 0. 0. 0. 0. 0. 0. 0. 0. 0. 0. 0.\n",
            " 0. 0. 0. 0. 0. 0. 0. 0. 0. 0. 0. 0. 0. 0. 0. 0. 0. 0. 0. 0. 0. 0. 0. 0.\n",
            " 0. 0. 0. 0. 0. 0. 0. 0. 0. 0. 0. 0. 0. 0. 0. 0. 0. 0. 0. 0. 0. 0. 0. 0.\n",
            " 0.], shape=(625,), dtype=float32)\n"
          ]
        }
      ]
    },
    {
      "cell_type": "markdown",
      "source": [
        "####Tensor Types\n",
        "\n",
        "\n",
        "*   Variable\n",
        "*   Constant\n",
        "*   Placeholder\n",
        "*   SparseTensor\n",
        "\n",
        "Variable is the only one that is NOT immuttable (its value can change during excution)\n"
      ],
      "metadata": {
        "id": "TEL4TpSjKw6h"
      }
    },
    {
      "cell_type": "markdown",
      "source": [
        "####Evaluating Tensors\n",
        "\n",
        "We need to run a session to evaluate the value of the tensor\n",
        "\n",
        "\n",
        "\n",
        "```\n",
        "with tf.Session() as sess:    #CREATES A SESSION USING DEFAULT GRAPH\n",
        "  TENSOR.eval()\n",
        "```\n",
        "\n"
      ],
      "metadata": {
        "id": "1X_N3U1VL25I"
      }
    },
    {
      "cell_type": "markdown",
      "source": [
        "Core Learning Algorithms\n",
        "\n",
        "\n",
        "*   Linear Regression\n",
        "*   Classification\n",
        "*   Clustering\n",
        "*   Hidden Malkov Models\n",
        "\n",
        "\n"
      ],
      "metadata": {
        "id": "AT62RltTOP11"
      }
    },
    {
      "cell_type": "markdown",
      "source": [
        "###Linear Regression\n",
        "\n",
        "If data points are related linearly, we can generate a line of best fit for these points and use it to predict future values."
      ],
      "metadata": {
        "id": "mVx9YJjIjmtr"
      }
    },
    {
      "cell_type": "code",
      "source": [
        "import matplotlib.pyplot as plt\n",
        "import numpy as np\n",
        "\n",
        "x = [1, 2, 2.5, 3, 4]\n",
        "y = [1, 4, 7, 9, 15]\n",
        "\n",
        "\n",
        "plt.plot(x, y, 'ro')\n",
        "plt.axis([0, 6, 0, 20])\n",
        "plt.plot(np.unique(x), np.poly1d(np.polyfit(x, y, 1))(np.unique(x)))\n",
        "plt.show()"
      ],
      "metadata": {
        "colab": {
          "base_uri": "https://localhost:8080/",
          "height": 269
        },
        "id": "ZVsfhXlRzBdv",
        "outputId": "8c245902-74d7-4a83-b2f7-55a7e4b695cc"
      },
      "execution_count": null,
      "outputs": [
        {
          "output_type": "display_data",
          "data": {
            "text/plain": [
              "<Figure size 432x288 with 1 Axes>"
            ],
            "image/png": "[encoded data removed]"
          },
          "metadata": {
            "needs_background": "light"
          }
        }
      ]
    },
    {
      "cell_type": "code",
      "source": [
        "# YOU HAVE TO INSTALL SKLEARN\n",
        "\n",
        "!pip install -q sklearn"
      ],
      "metadata": {
        "id": "ZuM9oNMdhj27"
      },
      "execution_count": null,
      "outputs": []
    },
    {
      "cell_type": "code",
      "source": [
        "# YOU HAVE TO USE TENSORFLOW V 2.X\n",
        "\n",
        "%tensorflow_version 2.x"
      ],
      "metadata": {
        "id": "3UQ_-Ctth4Iy"
      },
      "execution_count": null,
      "outputs": []
    },
    {
      "cell_type": "code",
      "source": [
        "from __future__ import absolute_import, division, print_function, unicode_literals\n",
        "\n",
        "import numpy as np\n",
        "import pandas as pd          # DATA ANALYTICS TOOL (LOAD, SAVE, MANUPLATE TABLES)\n",
        "import matplotlib.pyplot as plt\n",
        "from IPython.display import clear_output   # FOR THIS NOTEBOOK TO CLEAR OUTPUTS\n",
        "from six.moves import urllib\n",
        "\n",
        "import tensorflow.compat.v2.feature_column as fc\n",
        "\n",
        "import tensorflow as tf"
      ],
      "metadata": {
        "id": "cEfajbFwiDoq"
      },
      "execution_count": null,
      "outputs": []
    },
    {
      "cell_type": "code",
      "source": [
        "# YOU NEED TO LOAD 2 DATA FRAMES (SETS), ONE FOR TRAINING AND ONE FOR TESTING\n",
        "\n",
        "dftrain = pd.read_csv('https://storage.googleapis.com/tf-datasets/titanic/train.csv') # training data\n",
        "dfeval = pd.read_csv('https://storage.googleapis.com/tf-datasets/titanic/eval.csv') # testing data\n",
        "\n",
        "# TO GET A LOOK AT THE DATASET (HEADER AND FIRST 4 RESULTS):\n",
        "print(dftrain.head())\n",
        "\n",
        "# TO ACCESS ONE ROW ===> dftrain.loc[ROW_NUMBER]:\n",
        "print(dftrain.loc[0])\n",
        "\n",
        "# TO ACCESS ONE COLUMN ===> dftrain[\"COLUMN_NAME\"]\n",
        "print(dftrain[\"age\"])\n",
        "\n",
        "# TO GET A STATISTICAL ANALYSIS OF DATA:\n",
        "print(dftrain.describe())\n",
        "\n",
        "# TO GET THE DATASET SHAPE (ROWS, COLUMNS):\n",
        "print(dftrain.shape)\n",
        "\n",
        "# YOU NEED TO SEPARATE THE OUTPUT FROM THE INPUTS (LABELS FROM FEATURES)\n",
        "# WE ARE LOOKING FOR THE SURVIVAL PROBABILITY, SO THE SURVIVED COLUMN IS SEPARATED FROM THE INPUTS (AGE, SEX, ALONE, DECK,...)\n",
        "y_train = dftrain.pop('survived')\n",
        "y_eval = dfeval.pop('survived')"
      ],
      "metadata": {
        "colab": {
          "base_uri": "https://localhost:8080/"
        },
        "id": "8udF_D79ijD3",
        "outputId": "d38ef4f9-d3cb-49fb-d02e-898b917fdd01"
      },
      "execution_count": null,
      "outputs": [
        {
          "output_type": "stream",
          "name": "stdout",
          "text": [
            "   survived     sex   age  n_siblings_spouses  parch     fare  class     deck  \\\n",
            "0         0    male  22.0                   1      0   7.2500  Third  unknown   \n",
            "1         1  female  38.0                   1      0  71.2833  First        C   \n",
            "2         1  female  26.0                   0      0   7.9250  Third  unknown   \n",
            "3         1  female  35.0                   1      0  53.1000  First        C   \n",
            "4         0    male  28.0                   0      0   8.4583  Third  unknown   \n",
            "\n",
            "   embark_town alone  \n",
            "0  Southampton     n  \n",
            "1    Cherbourg     n  \n",
            "2  Southampton     y  \n",
            "3  Southampton     n  \n",
            "4   Queenstown     y  \n",
            "survived                        0\n",
            "sex                          male\n",
            "age                          22.0\n",
            "n_siblings_spouses              1\n",
            "parch                           0\n",
            "fare                         7.25\n",
            "class                       Third\n",
            "deck                      unknown\n",
            "embark_town           Southampton\n",
            "alone                           n\n",
            "Name: 0, dtype: object\n",
            "0      22.0\n",
            "1      38.0\n",
            "2      26.0\n",
            "3      35.0\n",
            "4      28.0\n",
            "       ... \n",
            "622    28.0\n",
            "623    25.0\n",
            "624    19.0\n",
            "625    28.0\n",
            "626    32.0\n",
            "Name: age, Length: 627, dtype: float64\n",
            "         survived         age  n_siblings_spouses       parch        fare\n",
            "count  627.000000  627.000000          627.000000  627.000000  627.000000\n",
            "mean     0.387560   29.631308            0.545455    0.379585   34.385399\n",
            "std      0.487582   12.511818            1.151090    0.792999   54.597730\n",
            "min      0.000000    0.750000            0.000000    0.000000    0.000000\n",
            "25%      0.000000   23.000000            0.000000    0.000000    7.895800\n",
            "50%      0.000000   28.000000            0.000000    0.000000   15.045800\n",
            "75%      1.000000   35.000000            1.000000    0.000000   31.387500\n",
            "max      1.000000   80.000000            8.000000    5.000000  512.329200\n",
            "(627, 10)\n"
          ]
        }
      ]
    },
    {
      "cell_type": "code",
      "source": [
        "dftrain.head()"
      ],
      "metadata": {
        "colab": {
          "base_uri": "https://localhost:8080/",
          "height": 206
        },
        "id": "Lc7IfrhkwKPJ",
        "outputId": "71d322cc-e478-431f-bbb7-dd15565667c1"
      },
      "execution_count": null,
      "outputs": [
        {
          "output_type": "execute_result",
          "data": {
            "text/plain": [
              "      sex   age  n_siblings_spouses  parch     fare  class     deck  \\\n",
              "0    male  22.0                   1      0   7.2500  Third  unknown   \n",
              "1  female  38.0                   1      0  71.2833  First        C   \n",
              "2  female  26.0                   0      0   7.9250  Third  unknown   \n",
              "3  female  35.0                   1      0  53.1000  First        C   \n",
              "4    male  28.0                   0      0   8.4583  Third  unknown   \n",
              "\n",
              "   embark_town alone  \n",
              "0  Southampton     n  \n",
              "1    Cherbourg     n  \n",
              "2  Southampton     y  \n",
              "3  Southampton     n  \n",
              "4   Queenstown     y  "
            ],
            "text/html": [
              "\n",
              "  <div id=\"df-c30116c9-50f0-4179-bfea-c7788243e44a\">\n",
              "    <div class=\"colab-df-container\">\n",
              "      <div>\n",
              "<style scoped>\n",
              "    .dataframe tbody tr th:only-of-type {\n",
              "        vertical-align: middle;\n",
              "    }\n",
              "\n",
              "    .dataframe tbody tr th {\n",
              "        vertical-align: top;\n",
              "    }\n",
              "\n",
              "    .dataframe thead th {\n",
              "        text-align: right;\n",
              "    }\n",
              "</style>\n",
              "<table border=\"1\" class=\"dataframe\">\n",
              "  <thead>\n",
              "    <tr style=\"text-align: right;\">\n",
              "      <th></th>\n",
              "      <th>sex</th>\n",
              "      <th>age</th>\n",
              "      <th>n_siblings_spouses</th>\n",
              "      <th>parch</th>\n",
              "      <th>fare</th>\n",
              "      <th>class</th>\n",
              "      <th>deck</th>\n",
              "      <th>embark_town</th>\n",
              "      <th>alone</th>\n",
              "    </tr>\n",
              "  </thead>\n",
              "  <tbody>\n",
              "    <tr>\n",
              "      <th>0</th>\n",
              "      <td>male</td>\n",
              "      <td>22.0</td>\n",
              "      <td>1</td>\n",
              "      <td>0</td>\n",
              "      <td>7.2500</td>\n",
              "      <td>Third</td>\n",
              "      <td>unknown</td>\n",
              "      <td>Southampton</td>\n",
              "      <td>n</td>\n",
              "    </tr>\n",
              "    <tr>\n",
              "      <th>1</th>\n",
              "      <td>female</td>\n",
              "      <td>38.0</td>\n",
              "      <td>1</td>\n",
              "      <td>0</td>\n",
              "      <td>71.2833</td>\n",
              "      <td>First</td>\n",
              "      <td>C</td>\n",
              "      <td>Cherbourg</td>\n",
              "      <td>n</td>\n",
              "    </tr>\n",
              "    <tr>\n",
              "      <th>2</th>\n",
              "      <td>female</td>\n",
              "      <td>26.0</td>\n",
              "      <td>0</td>\n",
              "      <td>0</td>\n",
              "      <td>7.9250</td>\n",
              "      <td>Third</td>\n",
              "      <td>unknown</td>\n",
              "      <td>Southampton</td>\n",
              "      <td>y</td>\n",
              "    </tr>\n",
              "    <tr>\n",
              "      <th>3</th>\n",
              "      <td>female</td>\n",
              "      <td>35.0</td>\n",
              "      <td>1</td>\n",
              "      <td>0</td>\n",
              "      <td>53.1000</td>\n",
              "      <td>First</td>\n",
              "      <td>C</td>\n",
              "      <td>Southampton</td>\n",
              "      <td>n</td>\n",
              "    </tr>\n",
              "    <tr>\n",
              "      <th>4</th>\n",
              "      <td>male</td>\n",
              "      <td>28.0</td>\n",
              "      <td>0</td>\n",
              "      <td>0</td>\n",
              "      <td>8.4583</td>\n",
              "      <td>Third</td>\n",
              "      <td>unknown</td>\n",
              "      <td>Queenstown</td>\n",
              "      <td>y</td>\n",
              "    </tr>\n",
              "  </tbody>\n",
              "</table>\n",
              "</div>\n",
              "      <button class=\"colab-df-convert\" onclick=\"convertToInteractive('df-c30116c9-50f0-4179-bfea-c7788243e44a')\"\n",
              "              title=\"Convert this dataframe to an interactive table.\"\n",
              "              style=\"display:none;\">\n",
              "        \n",
              "  <svg xmlns=\"http://www.w3.org/2000/svg\" height=\"24px\"viewBox=\"0 0 24 24\"\n",
              "       width=\"24px\">\n",
              "    <path d=\"M0 0h24v24H0V0z\" fill=\"none\"/>\n",
              "    <path d=\"M18.56 5.44l.94 2.06.94-2.06 2.06-.94-2.06-.94-.94-2.06-.94 2.06-2.06.94zm-11 1L8.5 8.5l.94-2.06 2.06-.94-2.06-.94L8.5 2.5l-.94 2.06-2.06.94zm10 10l.94 2.06.94-2.06 2.06-.94-2.06-.94-.94-2.06-.94 2.06-2.06.94z\"/><path d=\"M17.41 7.96l-1.37-1.37c-.4-.4-.92-.59-1.43-.59-.52 0-1.04.2-1.43.59L10.3 9.45l-7.72 7.72c-.78.78-.78 2.05 0 2.83L4 21.41c.39.39.9.59 1.41.59.51 0 1.02-.2 1.41-.59l7.78-7.78 2.81-2.81c.8-.78.8-2.07 0-2.86zM5.41 20L4 18.59l7.72-7.72 1.47 1.35L5.41 20z\"/>\n",
              "  </svg>\n",
              "      </button>\n",
              "      \n",
              "  <style>\n",
              "    .colab-df-container {\n",
              "      display:flex;\n",
              "      flex-wrap:wrap;\n",
              "      gap: 12px;\n",
              "    }\n",
              "\n",
              "    .colab-df-convert {\n",
              "      background-color: #E8F0FE;\n",
              "      border: none;\n",
              "      border-radius: 50%;\n",
              "      cursor: pointer;\n",
              "      display: none;\n",
              "      fill: #1967D2;\n",
              "      height: 32px;\n",
              "      padding: 0 0 0 0;\n",
              "      width: 32px;\n",
              "    }\n",
              "\n",
              "    .colab-df-convert:hover {\n",
              "      background-color: #E2EBFA;\n",
              "      box-shadow: 0px 1px 2px rgba(60, 64, 67, 0.3), 0px 1px 3px 1px rgba(60, 64, 67, 0.15);\n",
              "      fill: #174EA6;\n",
              "    }\n",
              "\n",
              "    [theme=dark] .colab-df-convert {\n",
              "      background-color: #3B4455;\n",
              "      fill: #D2E3FC;\n",
              "    }\n",
              "\n",
              "    [theme=dark] .colab-df-convert:hover {\n",
              "      background-color: #434B5C;\n",
              "      box-shadow: 0px 1px 3px 1px rgba(0, 0, 0, 0.15);\n",
              "      filter: drop-shadow(0px 1px 2px rgba(0, 0, 0, 0.3));\n",
              "      fill: #FFFFFF;\n",
              "    }\n",
              "  </style>\n",
              "\n",
              "      <script>\n",
              "        const buttonEl =\n",
              "          document.querySelector('#df-c30116c9-50f0-4179-bfea-c7788243e44a button.colab-df-convert');\n",
              "        buttonEl.style.display =\n",
              "          google.colab.kernel.accessAllowed ? 'block' : 'none';\n",
              "\n",
              "        async function convertToInteractive(key) {\n",
              "          const element = document.querySelector('#df-c30116c9-50f0-4179-bfea-c7788243e44a');\n",
              "          const dataTable =\n",
              "            await google.colab.kernel.invokeFunction('convertToInteractive',\n",
              "                                                     [key], {});\n",
              "          if (!dataTable) return;\n",
              "\n",
              "          const docLinkHtml = 'Like what you see? Visit the ' +\n",
              "            '<a target=\"_blank\" href=https://colab.research.google.com/notebooks/data_table.ipynb>data table notebook</a>'\n",
              "            + ' to learn more about interactive tables.';\n",
              "          element.innerHTML = '';\n",
              "          dataTable['output_type'] = 'display_data';\n",
              "          await google.colab.output.renderOutput(dataTable, element);\n",
              "          const docLink = document.createElement('div');\n",
              "          docLink.innerHTML = docLinkHtml;\n",
              "          element.appendChild(docLink);\n",
              "        }\n",
              "      </script>\n",
              "    </div>\n",
              "  </div>\n",
              "  "
            ]
          },
          "metadata": {},
          "execution_count": 11
        }
      ]
    },
    {
      "cell_type": "code",
      "source": [
        "dftrain.describe()"
      ],
      "metadata": {
        "colab": {
          "base_uri": "https://localhost:8080/",
          "height": 300
        },
        "id": "6wai2lolwUdH",
        "outputId": "fb347a81-a1c6-4ccc-b605-59e014c9c8ae"
      },
      "execution_count": null,
      "outputs": [
        {
          "output_type": "execute_result",
          "data": {
            "text/plain": [
              "              age  n_siblings_spouses       parch        fare\n",
              "count  627.000000          627.000000  627.000000  627.000000\n",
              "mean    29.631308            0.545455    0.379585   34.385399\n",
              "std     12.511818            1.151090    0.792999   54.597730\n",
              "min      0.750000            0.000000    0.000000    0.000000\n",
              "25%     23.000000            0.000000    0.000000    7.895800\n",
              "50%     28.000000            0.000000    0.000000   15.045800\n",
              "75%     35.000000            1.000000    0.000000   31.387500\n",
              "max     80.000000            8.000000    5.000000  512.329200"
            ],
            "text/html": [
              "\n",
              "  <div id=\"df-f752b418-0e82-4f15-84c5-bebb3cfa0363\">\n",
              "    <div class=\"colab-df-container\">\n",
              "      <div>\n",
              "<style scoped>\n",
              "    .dataframe tbody tr th:only-of-type {\n",
              "        vertical-align: middle;\n",
              "    }\n",
              "\n",
              "    .dataframe tbody tr th {\n",
              "        vertical-align: top;\n",
              "    }\n",
              "\n",
              "    .dataframe thead th {\n",
              "        text-align: right;\n",
              "    }\n",
              "</style>\n",
              "<table border=\"1\" class=\"dataframe\">\n",
              "  <thead>\n",
              "    <tr style=\"text-align: right;\">\n",
              "      <th></th>\n",
              "      <th>age</th>\n",
              "      <th>n_siblings_spouses</th>\n",
              "      <th>parch</th>\n",
              "      <th>fare</th>\n",
              "    </tr>\n",
              "  </thead>\n",
              "  <tbody>\n",
              "    <tr>\n",
              "      <th>count</th>\n",
              "      <td>627.000000</td>\n",
              "      <td>627.000000</td>\n",
              "      <td>627.000000</td>\n",
              "      <td>627.000000</td>\n",
              "    </tr>\n",
              "    <tr>\n",
              "      <th>mean</th>\n",
              "      <td>29.631308</td>\n",
              "      <td>0.545455</td>\n",
              "      <td>0.379585</td>\n",
              "      <td>34.385399</td>\n",
              "    </tr>\n",
              "    <tr>\n",
              "      <th>std</th>\n",
              "      <td>12.511818</td>\n",
              "      <td>1.151090</td>\n",
              "      <td>0.792999</td>\n",
              "      <td>54.597730</td>\n",
              "    </tr>\n",
              "    <tr>\n",
              "      <th>min</th>\n",
              "      <td>0.750000</td>\n",
              "      <td>0.000000</td>\n",
              "      <td>0.000000</td>\n",
              "      <td>0.000000</td>\n",
              "    </tr>\n",
              "    <tr>\n",
              "      <th>25%</th>\n",
              "      <td>23.000000</td>\n",
              "      <td>0.000000</td>\n",
              "      <td>0.000000</td>\n",
              "      <td>7.895800</td>\n",
              "    </tr>\n",
              "    <tr>\n",
              "      <th>50%</th>\n",
              "      <td>28.000000</td>\n",
              "      <td>0.000000</td>\n",
              "      <td>0.000000</td>\n",
              "      <td>15.045800</td>\n",
              "    </tr>\n",
              "    <tr>\n",
              "      <th>75%</th>\n",
              "      <td>35.000000</td>\n",
              "      <td>1.000000</td>\n",
              "      <td>0.000000</td>\n",
              "      <td>31.387500</td>\n",
              "    </tr>\n",
              "    <tr>\n",
              "      <th>max</th>\n",
              "      <td>80.000000</td>\n",
              "      <td>8.000000</td>\n",
              "      <td>5.000000</td>\n",
              "      <td>512.329200</td>\n",
              "    </tr>\n",
              "  </tbody>\n",
              "</table>\n",
              "</div>\n",
              "      <button class=\"colab-df-convert\" onclick=\"convertToInteractive('df-f752b418-0e82-4f15-84c5-bebb3cfa0363')\"\n",
              "              title=\"Convert this dataframe to an interactive table.\"\n",
              "              style=\"display:none;\">\n",
              "        \n",
              "  <svg xmlns=\"http://www.w3.org/2000/svg\" height=\"24px\"viewBox=\"0 0 24 24\"\n",
              "       width=\"24px\">\n",
              "    <path d=\"M0 0h24v24H0V0z\" fill=\"none\"/>\n",
              "    <path d=\"M18.56 5.44l.94 2.06.94-2.06 2.06-.94-2.06-.94-.94-2.06-.94 2.06-2.06.94zm-11 1L8.5 8.5l.94-2.06 2.06-.94-2.06-.94L8.5 2.5l-.94 2.06-2.06.94zm10 10l.94 2.06.94-2.06 2.06-.94-2.06-.94-.94-2.06-.94 2.06-2.06.94z\"/><path d=\"M17.41 7.96l-1.37-1.37c-.4-.4-.92-.59-1.43-.59-.52 0-1.04.2-1.43.59L10.3 9.45l-7.72 7.72c-.78.78-.78 2.05 0 2.83L4 21.41c.39.39.9.59 1.41.59.51 0 1.02-.2 1.41-.59l7.78-7.78 2.81-2.81c.8-.78.8-2.07 0-2.86zM5.41 20L4 18.59l7.72-7.72 1.47 1.35L5.41 20z\"/>\n",
              "  </svg>\n",
              "      </button>\n",
              "      \n",
              "  <style>\n",
              "    .colab-df-container {\n",
              "      display:flex;\n",
              "      flex-wrap:wrap;\n",
              "      gap: 12px;\n",
              "    }\n",
              "\n",
              "    .colab-df-convert {\n",
              "      background-color: #E8F0FE;\n",
              "      border: none;\n",
              "      border-radius: 50%;\n",
              "      cursor: pointer;\n",
              "      display: none;\n",
              "      fill: #1967D2;\n",
              "      height: 32px;\n",
              "      padding: 0 0 0 0;\n",
              "      width: 32px;\n",
              "    }\n",
              "\n",
              "    .colab-df-convert:hover {\n",
              "      background-color: #E2EBFA;\n",
              "      box-shadow: 0px 1px 2px rgba(60, 64, 67, 0.3), 0px 1px 3px 1px rgba(60, 64, 67, 0.15);\n",
              "      fill: #174EA6;\n",
              "    }\n",
              "\n",
              "    [theme=dark] .colab-df-convert {\n",
              "      background-color: #3B4455;\n",
              "      fill: #D2E3FC;\n",
              "    }\n",
              "\n",
              "    [theme=dark] .colab-df-convert:hover {\n",
              "      background-color: #434B5C;\n",
              "      box-shadow: 0px 1px 3px 1px rgba(0, 0, 0, 0.15);\n",
              "      filter: drop-shadow(0px 1px 2px rgba(0, 0, 0, 0.3));\n",
              "      fill: #FFFFFF;\n",
              "    }\n",
              "  </style>\n",
              "\n",
              "      <script>\n",
              "        const buttonEl =\n",
              "          document.querySelector('#df-f752b418-0e82-4f15-84c5-bebb3cfa0363 button.colab-df-convert');\n",
              "        buttonEl.style.display =\n",
              "          google.colab.kernel.accessAllowed ? 'block' : 'none';\n",
              "\n",
              "        async function convertToInteractive(key) {\n",
              "          const element = document.querySelector('#df-f752b418-0e82-4f15-84c5-bebb3cfa0363');\n",
              "          const dataTable =\n",
              "            await google.colab.kernel.invokeFunction('convertToInteractive',\n",
              "                                                     [key], {});\n",
              "          if (!dataTable) return;\n",
              "\n",
              "          const docLinkHtml = 'Like what you see? Visit the ' +\n",
              "            '<a target=\"_blank\" href=https://colab.research.google.com/notebooks/data_table.ipynb>data table notebook</a>'\n",
              "            + ' to learn more about interactive tables.';\n",
              "          element.innerHTML = '';\n",
              "          dataTable['output_type'] = 'display_data';\n",
              "          await google.colab.output.renderOutput(dataTable, element);\n",
              "          const docLink = document.createElement('div');\n",
              "          docLink.innerHTML = docLinkHtml;\n",
              "          element.appendChild(docLink);\n",
              "        }\n",
              "      </script>\n",
              "    </div>\n",
              "  </div>\n",
              "  "
            ]
          },
          "metadata": {},
          "execution_count": 12
        }
      ]
    },
    {
      "cell_type": "code",
      "source": [
        "# WE CAN SOME GRAPHS TO VISUALISE THE DATA\n",
        "\n",
        "# TO VISUALISE AGE GROUPS\n",
        "dftrain.age.hist(bins=20)"
      ],
      "metadata": {
        "colab": {
          "base_uri": "https://localhost:8080/",
          "height": 282
        },
        "id": "BW4TnP-BxbmY",
        "outputId": "e6597152-cf81-4734-9d7b-d384a427e9d8"
      },
      "execution_count": null,
      "outputs": [
        {
          "output_type": "execute_result",
          "data": {
            "text/plain": [
              "<matplotlib.axes._subplots.AxesSubplot at 0x7f10e003cfd0>"
            ]
          },
          "metadata": {},
          "execution_count": 13
        },
        {
          "output_type": "display_data",
          "data": {
            "text/plain": [
              "<Figure size 432x288 with 1 Axes>"
            ],
            "image/png": "[encoded data removed]"
          },
          "metadata": {
            "needs_background": "light"
          }
        }
      ]
    },
    {
      "cell_type": "code",
      "source": [
        "# TO VISUALISE THE COUNT OF MALES AND FEMALES\n",
        "\n",
        "dftrain.sex.value_counts().plot(kind='barh')"
      ],
      "metadata": {
        "colab": {
          "base_uri": "https://localhost:8080/",
          "height": 282
        },
        "id": "ZhiH07Hl2dk9",
        "outputId": "12d96379-fdb9-4ce2-bcfa-1923825f003f"
      },
      "execution_count": null,
      "outputs": [
        {
          "output_type": "execute_result",
          "data": {
            "text/plain": [
              "<matplotlib.axes._subplots.AxesSubplot at 0x7f10e0fd6a10>"
            ]
          },
          "metadata": {},
          "execution_count": 14
        },
        {
          "output_type": "display_data",
          "data": {
            "text/plain": [
              "<Figure size 432x288 with 1 Axes>"
            ],
            "image/png": "[encoded data removed]"
          },
          "metadata": {
            "needs_background": "light"
          }
        }
      ]
    },
    {
      "cell_type": "code",
      "source": [
        "# TO VISUALISE THE COUNT OF PEOPLE IN EACH CLASS (FIRST, SECOND AND THIRD)\n",
        "\n",
        "dftrain['class'].value_counts().plot(kind='barh')"
      ],
      "metadata": {
        "colab": {
          "base_uri": "https://localhost:8080/",
          "height": 282
        },
        "id": "TSHB6Mnh2yUO",
        "outputId": "79e4fa65-55e8-4093-8632-0c440ef19b1d"
      },
      "execution_count": null,
      "outputs": [
        {
          "output_type": "execute_result",
          "data": {
            "text/plain": [
              "<matplotlib.axes._subplots.AxesSubplot at 0x7f10dfea0590>"
            ]
          },
          "metadata": {},
          "execution_count": 15
        },
        {
          "output_type": "display_data",
          "data": {
            "text/plain": [
              "<Figure size 432x288 with 1 Axes>"
            ],
            "image/png": "[encoded data removed]"
          },
          "metadata": {
            "needs_background": "light"
          }
        }
      ]
    },
    {
      "cell_type": "code",
      "source": [
        "# TO VISUALISE THE SURVIVAL PROBABILITY FOR EACH SEX:\n",
        "\n",
        "# HERE WE CONCATENATED THE survived DATASET WITH THE TRAINING DATA SET\n",
        "# THEN GROUPED BY SEX\n",
        "# AND EVALUATED THE MEAN OF COL survived\n",
        "pd.concat([dftrain, y_train], axis=1) \\\n",
        ".groupby('sex') \\\n",
        ".survived.mean() \\\n",
        ".plot(kind='barh').set_xlabel('% survive')"
      ],
      "metadata": {
        "colab": {
          "base_uri": "https://localhost:8080/",
          "height": 296
        },
        "id": "AfiTDW893em5",
        "outputId": "8cb2e11e-2b59-4b97-f171-6129dfa10412"
      },
      "execution_count": null,
      "outputs": [
        {
          "output_type": "execute_result",
          "data": {
            "text/plain": [
              "Text(0.5, 0, '% survive')"
            ]
          },
          "metadata": {},
          "execution_count": 16
        },
        {
          "output_type": "display_data",
          "data": {
            "text/plain": [
              "<Figure size 432x288 with 1 Axes>"
            ],
            "image/png": "[encoded data removed]"
          },
          "metadata": {
            "needs_background": "light"
          }
        }
      ]
    },
    {
      "cell_type": "code",
      "source": [
        "# IN ORDER FOR THE MODEL TO TRAIN, WE NEED TO CONVERT ALL CATEGORICAL COLUMNS TO NUMERICAL ONES\n",
        "# I.E, THE SEX COLUMN, WE NEED TO CONVERT MALE TO 0 AND FEMALE TO 1 FOR EXAMPLE..\n",
        "\n",
        "CATEGORICAL_COLUMNS = ['sex', 'n_siblings_spouses', 'parch', 'class', 'deck','embark_town', 'alone']\n",
        "NUMERIC_COLUMNS = ['age', 'fare']\n",
        "\n",
        "# CREATE AN EMPTY FEATURE COLUMN TO ADD FEATURES TO\n",
        "feature_columns = []\n",
        "\n",
        "for feature_name in CATEGORICAL_COLUMNS:\n",
        "  # LOOP THROUGH CATEGORICAL COLUMNS, AND GET A LIST OF ALL UNIQUE VALUES IN EACH COLUMNS (IN SEX: MALE AND FEMALE):\n",
        "  vocabulary = dftrain[feature_name].unique()\n",
        "  print(f'{feature_name} ==> {vocabulary}')\n",
        "\n",
        "  # APPEND TO feature_columns A TENSOR OF CATEGORICAL EACH CATEGORICAL FEATURE AND ITS UNIQUE VOCAB\n",
        "  ## VocabularyListCategoricalColumn(key, vocabulary_list, dtype, default_value, num_oov_buckets)\n",
        "  feature_columns.append(tf.feature_column.categorical_column_with_vocabulary_list(feature_name, vocabulary))\n",
        "\n",
        "for feature_name in NUMERIC_COLUMNS:\n",
        "  ## NumericColumn(key, shape, default_value, dtype, normalizer_fn)\n",
        "  feature_columns.append(tf.feature_column.numeric_column(feature_name, dtype=tf.float32))\n",
        "\n",
        "print(\"\\n\")\n",
        "\n",
        "print(*feature_columns, sep = '\\n')"
      ],
      "metadata": {
        "colab": {
          "base_uri": "https://localhost:8080/"
        },
        "id": "9mXHo1nc3Rxj",
        "outputId": "f9004a20-9ea3-43d4-f889-3603cb00f69f"
      },
      "execution_count": null,
      "outputs": [
        {
          "output_type": "stream",
          "name": "stdout",
          "text": [
            "sex ==> ['male' 'female']\n",
            "n_siblings_spouses ==> [1 0 3 4 2 5 8]\n",
            "parch ==> [0 1 2 5 3 4]\n",
            "class ==> ['Third' 'First' 'Second']\n",
            "deck ==> ['unknown' 'C' 'G' 'A' 'B' 'D' 'F' 'E']\n",
            "embark_town ==> ['Southampton' 'Cherbourg' 'Queenstown' 'unknown']\n",
            "alone ==> ['n' 'y']\n",
            "\n",
            "\n",
            "VocabularyListCategoricalColumn(key='sex', vocabulary_list=('male', 'female'), dtype=tf.string, default_value=-1, num_oov_buckets=0)\n",
            "VocabularyListCategoricalColumn(key='n_siblings_spouses', vocabulary_list=(1, 0, 3, 4, 2, 5, 8), dtype=tf.int64, default_value=-1, num_oov_buckets=0)\n",
            "VocabularyListCategoricalColumn(key='parch', vocabulary_list=(0, 1, 2, 5, 3, 4), dtype=tf.int64, default_value=-1, num_oov_buckets=0)\n",
            "VocabularyListCategoricalColumn(key='class', vocabulary_list=('Third', 'First', 'Second'), dtype=tf.string, default_value=-1, num_oov_buckets=0)\n",
            "VocabularyListCategoricalColumn(key='deck', vocabulary_list=('unknown', 'C', 'G', 'A', 'B', 'D', 'F', 'E'), dtype=tf.string, default_value=-1, num_oov_buckets=0)\n",
            "VocabularyListCategoricalColumn(key='embark_town', vocabulary_list=('Southampton', 'Cherbourg', 'Queenstown', 'unknown'), dtype=tf.string, default_value=-1, num_oov_buckets=0)\n",
            "VocabularyListCategoricalColumn(key='alone', vocabulary_list=('n', 'y'), dtype=tf.string, default_value=-1, num_oov_buckets=0)\n",
            "NumericColumn(key='age', shape=(1,), default_value=None, dtype=tf.float32, normalizer_fn=None)\n",
            "NumericColumn(key='fare', shape=(1,), default_value=None, dtype=tf.float32, normalizer_fn=None)\n"
          ]
        }
      ]
    },
    {
      "cell_type": "markdown",
      "source": [
        "WHEN WE LOAD THE DATA TO THE ML MODEL, WE NEED TO DO SO IN BATCHES (OF 32)\n",
        "\n",
        "An epoch is simply one stream of our entire dataset. The number of epochs we define is the amount of times our model will see the entire dataset (IN DIFFERENT ORDER).\n",
        "\n",
        "We use multiple epochs in hope that after seeing the same data multiple times the model will better determine how to estimate it.\n",
        "\n",
        "OVERFITTING: WHEN THE MODEL SEES THE SAME DATA TOO MANY TIMES\n",
        "\n",
        "TO OVERCOME THIS, START WITH A LOW NUMBER OF EPOCHS AND THEN WORK YOUR WAY UP"
      ],
      "metadata": {
        "id": "zVpE62liIwK-"
      }
    },
    {
      "cell_type": "code",
      "source": [
        "# The TensorFlow model we are going to use requires that the data we pass it comes in as a tf.data.Dataset object.\n",
        "# This means we must create a input function that can convert our current pandas dataframe into that object.\n",
        "def make_input_fn(data_df, label_df, num_epochs=10, shuffle=True, batch_size=32):\n",
        "  # WE HAVE A FUNC IN A FUNC, BECAUSE WE WANT THE RETURN TYPE TO BE A FUNC\n",
        "  def input_function():  # inner function, this will be returned\n",
        "    # create tf.data.Dataset object with data and its label\n",
        "    ds = tf.data.Dataset.from_tensor_slices((dict(data_df), label_df))\n",
        "\n",
        "    if shuffle:\n",
        "      ds = ds.shuffle(1000)  # randomize order of data\n",
        "\n",
        "    # split dataset into batches (of 32) and repeat process for number of epochs\n",
        "    ds = ds.batch(batch_size).repeat(num_epochs)\n",
        "    return ds  # return a batch of the dataset\n",
        "  return input_function  # return a function object for use\n",
        "\n",
        "train_input_fn = make_input_fn(dftrain, y_train)  # here we will call the input_function that was returned to us to get a dataset object we can feed to the model\n",
        "eval_input_fn = make_input_fn(dfeval, y_eval, num_epochs=1, shuffle=False)\n",
        "\n",
        "# We create a linear estimtor MODEL by passing the feature columns we created earlier\n",
        "linear_est = tf.estimator.LinearClassifier(feature_columns=feature_columns)\n"
      ],
      "metadata": {
        "id": "4MWXLgORFpxj",
        "colab": {
          "base_uri": "https://localhost:8080/"
        },
        "outputId": "27dcf4f3-fa08-401c-d166-bf47b7cbad1a"
      },
      "execution_count": null,
      "outputs": [
        {
          "output_type": "stream",
          "name": "stdout",
          "text": [
            "INFO:tensorflow:Using default config.\n",
            "WARNING:tensorflow:Using temporary folder as model directory: /tmp/tmpxm_0pmrb\n",
            "INFO:tensorflow:Using config: {'_model_dir': '/tmp/tmpxm_0pmrb', '_tf_random_seed': None, '_save_summary_steps': 100, '_save_checkpoints_steps': None, '_save_checkpoints_secs': 600, '_session_config': allow_soft_placement: true\n",
            "graph_options {\n",
            "  rewrite_options {\n",
            "    meta_optimizer_iterations: ONE\n",
            "  }\n",
            "}\n",
            ", '_keep_checkpoint_max': 5, '_keep_checkpoint_every_n_hours': 10000, '_log_step_count_steps': 100, '_train_distribute': None, '_device_fn': None, '_protocol': None, '_eval_distribute': None, '_experimental_distribute': None, '_experimental_max_worker_delay_secs': None, '_session_creation_timeout_secs': 7200, '_checkpoint_save_graph_def': True, '_service': None, '_cluster_spec': ClusterSpec({}), '_task_type': 'worker', '_task_id': 0, '_global_id_in_cluster': 0, '_master': '', '_evaluation_master': '', '_is_chief': True, '_num_ps_replicas': 0, '_num_worker_replicas': 1}\n"
          ]
        }
      ]
    },
    {
      "cell_type": "markdown",
      "source": [
        "TRAINING AND EVALUATING THE MODEL"
      ],
      "metadata": {
        "id": "EGa9lIVQYFoZ"
      }
    },
    {
      "cell_type": "code",
      "metadata": {
        "id": "J11OJrlZgPhb",
        "colab": {
          "base_uri": "https://localhost:8080/"
        },
        "outputId": "29f48c2c-e19d-4d4e-af79-6a1803aba6a0"
      },
      "source": [
        "linear_est.train(train_input_fn)  # train\n",
        "model = linear_est.evaluate(eval_input_fn)  # get model metrics/stats by testing on tetsing data\n",
        "\n",
        "clear_output()  # clears console output\n",
        "print(model['accuracy'])  # the result variable is simply a dict of stats about our model"
      ],
      "execution_count": null,
      "outputs": [
        {
          "output_type": "stream",
          "name": "stdout",
          "text": [
            "0.71590906\n"
          ]
        }
      ]
    },
    {
      "cell_type": "code",
      "source": [
        "print(model)"
      ],
      "metadata": {
        "colab": {
          "base_uri": "https://localhost:8080/"
        },
        "id": "-fufjXlnZh0c",
        "outputId": "31bb2043-bebe-4070-ebc5-5ae708279762"
      },
      "execution_count": null,
      "outputs": [
        {
          "output_type": "stream",
          "name": "stdout",
          "text": [
            "{'accuracy': 0.71590906, 'accuracy_baseline': 0.625, 'auc': 0.8137741, 'auc_precision_recall': 0.7758043, 'average_loss': 0.6192116, 'label/mean': 0.375, 'loss': 0.619078, 'precision': 0.5882353, 'prediction/mean': 0.57147443, 'recall': 0.8080808, 'global_step': 200}\n"
          ]
        }
      ]
    },
    {
      "cell_type": "markdown",
      "source": [
        "NOW LETS USE THE MODEL TO PREDICT:"
      ],
      "metadata": {
        "id": "UCL1E721gdvI"
      }
    },
    {
      "cell_type": "code",
      "source": [
        "# WE NEED TO PASS AN INPUT FUNC TO linear_est.predict() IN ORDER TO MAKE THE PREDICTION\n",
        "# AND WE NEED IT TO BE A LIST TO LOOP THROUGH IT\n",
        "predictions = list(linear_est.predict(make_input_fn(dfeval, y_eval, num_epochs=1, shuffle=False)))\n",
        "\n",
        "# predictions ^^ IS A LIST OF DICTIONARIES"
      ],
      "metadata": {
        "colab": {
          "base_uri": "https://localhost:8080/"
        },
        "id": "V6nzR4970fUh",
        "outputId": "5285cde7-1700-47a0-bd2d-63ecfdb5a658"
      },
      "execution_count": null,
      "outputs": [
        {
          "output_type": "stream",
          "name": "stdout",
          "text": [
            "INFO:tensorflow:Calling model_fn.\n"
          ]
        },
        {
          "output_type": "stream",
          "name": "stderr",
          "text": [
            "/usr/local/lib/python3.7/dist-packages/tensorflow_estimator/python/estimator/canned/linear.py:1478: UserWarning: `layer.add_variable` is deprecated and will be removed in a future version. Please use `layer.add_weight` method instead.\n",
            "  getter=tf.compat.v1.get_variable)\n"
          ]
        },
        {
          "output_type": "stream",
          "name": "stdout",
          "text": [
            "INFO:tensorflow:Done calling model_fn.\n",
            "INFO:tensorflow:Graph was finalized.\n",
            "INFO:tensorflow:Restoring parameters from /tmp/tmpxm_0pmrb/model.ckpt-200\n",
            "INFO:tensorflow:Running local_init_op.\n",
            "INFO:tensorflow:Done running local_init_op.\n"
          ]
        }
      ]
    },
    {
      "cell_type": "code",
      "source": [
        "print(predictions)\n",
        "\n",
        "print(\"\\n\")\n",
        "\n",
        "person_index = 2\n",
        "\n",
        "# EACH DICT IS REPRESENTS ONE PASSENGER IN THE TITANIC\n",
        "print(predictions[person_index])\n",
        "\n",
        "print(\"\\n\")\n",
        "\n",
        "print(predictions[person_index][\"probabilities\"])\n",
        "\n",
        "print(\"\\n\")\n",
        "# TO PRINT THE PERSON'S ENTIRE STATS:\n",
        "print(*dfeval.loc[person_index])\n",
        "\n",
        "print(\"\\n\")\n",
        "\n",
        "# TO COMPARE IT TO THE ACTUAL LABEL:\n",
        "print(f'person number {person_index} actual stat in survival is {y_eval[person_index]} and predicted is {predictions[person_index][\"probabilities\"][1]}')\n",
        "\n",
        "print(\"\\n\")\n",
        "\n",
        "# LETS PLOT THE RESULT:\n",
        "probs = pd.Series([prediction['probabilities'][1] for prediction in predictions])\n",
        "\n",
        "probs.plot(kind='hist', bins=20, title='predicted probabilities')"
      ],
      "metadata": {
        "colab": {
          "base_uri": "https://localhost:8080/",
          "height": 579
        },
        "id": "qOSSHEYrFN3W",
        "outputId": "2006dfcb-3821-43ac-fcb8-7f09d1e5da1d"
      },
      "execution_count": null,
      "outputs": [
        {
          "output_type": "stream",
          "name": "stdout",
          "text": [
            "[{'logits': array([-1.2635994], dtype=float32), 'logistic': array([0.22035491], dtype=float32), 'probabilities': array([0.77964514, 0.22035491], dtype=float32), 'class_ids': array([0]), 'classes': array([b'0'], dtype=object), 'all_class_ids': array([0, 1], dtype=int32), 'all_classes': array([b'0', b'1'], dtype=object)}, {'logits': array([1.5433158], dtype=float32), 'logistic': array([0.82394624], dtype=float32), 'probabilities': array([0.17605378, 0.82394624], dtype=float32), 'class_ids': array([1]), 'classes': array([b'1'], dtype=object), 'all_class_ids': array([0, 1], dtype=int32), 'all_classes': array([b'0', b'1'], dtype=object)}, {'logits': array([3.0980394], dtype=float32), 'logistic': array([0.9568118], dtype=float32), 'probabilities': array([0.0431882, 0.9568118], dtype=float32), 'class_ids': array([1]), 'classes': array([b'1'], dtype=object), 'all_class_ids': array([0, 1], dtype=int32), 'all_classes': array([b'0', b'1'], dtype=object)}, {'logits': array([2.4035447], dtype=float32), 'logistic': array([0.9170972], dtype=float32), 'probabilities': array([0.08290279, 0.91709715], dtype=float32), 'class_ids': array([1]), 'classes': array([b'1'], dtype=object), 'all_class_ids': array([0, 1], dtype=int32), 'all_classes': array([b'0', b'1'], dtype=object)}, {'logits': array([0.24529245], dtype=float32), 'logistic': array([0.56101745], dtype=float32), 'probabilities': array([0.43898252, 0.56101745], dtype=float32), 'class_ids': array([1]), 'classes': array([b'1'], dtype=object), 'all_class_ids': array([0, 1], dtype=int32), 'all_classes': array([b'0', b'1'], dtype=object)}, {'logits': array([1.7407532], dtype=float32), 'logistic': array([0.8507827], dtype=float32), 'probabilities': array([0.1492173 , 0.85078275], dtype=float32), 'class_ids': array([1]), 'classes': array([b'1'], dtype=object), 'all_class_ids': array([0, 1], dtype=int32), 'all_classes': array([b'0', b'1'], dtype=object)}, {'logits': array([0.8370958], dtype=float32), 'logistic': array([0.6978532], dtype=float32), 'probabilities': array([0.3021468, 0.6978532], dtype=float32), 'class_ids': array([1]), 'classes': array([b'1'], dtype=object), 'all_class_ids': array([0, 1], dtype=int32), 'all_classes': array([b'0', b'1'], dtype=object)}, {'logits': array([-1.2701919], dtype=float32), 'logistic': array([0.21922442], dtype=float32), 'probabilities': array([0.7807756, 0.2192244], dtype=float32), 'class_ids': array([0]), 'classes': array([b'0'], dtype=object), 'all_class_ids': array([0, 1], dtype=int32), 'all_classes': array([b'0', b'1'], dtype=object)}, {'logits': array([1.3378898], dtype=float32), 'logistic': array([0.7921427], dtype=float32), 'probabilities': array([0.2078573, 0.7921427], dtype=float32), 'class_ids': array([1]), 'classes': array([b'1'], dtype=object), 'all_class_ids': array([0, 1], dtype=int32), 'all_classes': array([b'0', b'1'], dtype=object)}, {'logits': array([1.7403742], dtype=float32), 'logistic': array([0.8507346], dtype=float32), 'probabilities': array([0.14926541, 0.8507346 ], dtype=float32), 'class_ids': array([1]), 'classes': array([b'1'], dtype=object), 'all_class_ids': array([0, 1], dtype=int32), 'all_classes': array([b'0', b'1'], dtype=object)}, {'logits': array([1.7426634], dtype=float32), 'logistic': array([0.851025], dtype=float32), 'probabilities': array([0.14897494, 0.851025  ], dtype=float32), 'class_ids': array([1]), 'classes': array([b'1'], dtype=object), 'all_class_ids': array([0, 1], dtype=int32), 'all_classes': array([b'0', b'1'], dtype=object)}, {'logits': array([-1.2739629], dtype=float32), 'logistic': array([0.21857965], dtype=float32), 'probabilities': array([0.7814204 , 0.21857965], dtype=float32), 'class_ids': array([0]), 'classes': array([b'0'], dtype=object), 'all_class_ids': array([0, 1], dtype=int32), 'all_classes': array([b'0', b'1'], dtype=object)}, {'logits': array([2.4182343], dtype=float32), 'logistic': array([0.9182072], dtype=float32), 'probabilities': array([0.08179276, 0.9182072 ], dtype=float32), 'class_ids': array([1]), 'classes': array([b'1'], dtype=object), 'all_class_ids': array([0, 1], dtype=int32), 'all_classes': array([b'0', b'1'], dtype=object)}, {'logits': array([0.8787928], dtype=float32), 'logistic': array([0.706572], dtype=float32), 'probabilities': array([0.29342797, 0.706572  ], dtype=float32), 'class_ids': array([1]), 'classes': array([b'1'], dtype=object), 'all_class_ids': array([0, 1], dtype=int32), 'all_classes': array([b'0', b'1'], dtype=object)}, {'logits': array([2.6898336], dtype=float32), 'logistic': array([0.93642414], dtype=float32), 'probabilities': array([0.06357592, 0.93642414], dtype=float32), 'class_ids': array([1]), 'classes': array([b'1'], dtype=object), 'all_class_ids': array([0, 1], dtype=int32), 'all_classes': array([b'0', b'1'], dtype=object)}, {'logits': array([1.2954886], dtype=float32), 'logistic': array([0.7850747], dtype=float32), 'probabilities': array([0.21492524, 0.7850747 ], dtype=float32), 'class_ids': array([1]), 'classes': array([b'1'], dtype=object), 'all_class_ids': array([0, 1], dtype=int32), 'all_classes': array([b'0', b'1'], dtype=object)}, {'logits': array([-0.45579436], dtype=float32), 'logistic': array([0.38798398], dtype=float32), 'probabilities': array([0.61201596, 0.38798398], dtype=float32), 'class_ids': array([0]), 'classes': array([b'0'], dtype=object), 'all_class_ids': array([0, 1], dtype=int32), 'all_classes': array([b'0', b'1'], dtype=object)}, {'logits': array([2.3026903], dtype=float32), 'logistic': array([0.9090996], dtype=float32), 'probabilities': array([0.0909004, 0.9090996], dtype=float32), 'class_ids': array([1]), 'classes': array([b'1'], dtype=object), 'all_class_ids': array([0, 1], dtype=int32), 'all_classes': array([b'0', b'1'], dtype=object)}, {'logits': array([0.7396924], dtype=float32), 'logistic': array([0.6769285], dtype=float32), 'probabilities': array([0.32307142, 0.6769286 ], dtype=float32), 'class_ids': array([1]), 'classes': array([b'1'], dtype=object), 'all_class_ids': array([0, 1], dtype=int32), 'all_classes': array([b'0', b'1'], dtype=object)}, {'logits': array([-1.2664248], dtype=float32), 'logistic': array([0.21986988], dtype=float32), 'probabilities': array([0.7801301 , 0.21986988], dtype=float32), 'class_ids': array([0]), 'classes': array([b'0'], dtype=object), 'all_class_ids': array([0, 1], dtype=int32), 'all_classes': array([b'0', b'1'], dtype=object)}, {'logits': array([-1.2736163], dtype=float32), 'logistic': array([0.21863884], dtype=float32), 'probabilities': array([0.7813612 , 0.21863884], dtype=float32), 'class_ids': array([0]), 'classes': array([b'0'], dtype=object), 'all_class_ids': array([0, 1], dtype=int32), 'all_classes': array([b'0', b'1'], dtype=object)}, {'logits': array([-1.2179132], dtype=float32), 'logistic': array([0.22830391], dtype=float32), 'probabilities': array([0.7716961 , 0.22830391], dtype=float32), 'class_ids': array([0]), 'classes': array([b'0'], dtype=object), 'all_class_ids': array([0, 1], dtype=int32), 'all_classes': array([b'0', b'1'], dtype=object)}, {'logits': array([1.4419869], dtype=float32), 'logistic': array([0.80876213], dtype=float32), 'probabilities': array([0.19123785, 0.80876213], dtype=float32), 'class_ids': array([1]), 'classes': array([b'1'], dtype=object), 'all_class_ids': array([0, 1], dtype=int32), 'all_classes': array([b'0', b'1'], dtype=object)}, {'logits': array([-1.2645127], dtype=float32), 'logistic': array([0.22019804], dtype=float32), 'probabilities': array([0.77980196, 0.22019805], dtype=float32), 'class_ids': array([0]), 'classes': array([b'0'], dtype=object), 'all_class_ids': array([0, 1], dtype=int32), 'all_classes': array([b'0', b'1'], dtype=object)}, {'logits': array([1.557961], dtype=float32), 'logistic': array([0.8260606], dtype=float32), 'probabilities': array([0.17393944, 0.8260606 ], dtype=float32), 'class_ids': array([1]), 'classes': array([b'1'], dtype=object), 'all_class_ids': array([0, 1], dtype=int32), 'all_classes': array([b'0', b'1'], dtype=object)}, {'logits': array([0.8755322], dtype=float32), 'logistic': array([0.70589554], dtype=float32), 'probabilities': array([0.29410446, 0.7058955 ], dtype=float32), 'class_ids': array([1]), 'classes': array([b'1'], dtype=object), 'all_class_ids': array([0, 1], dtype=int32), 'all_classes': array([b'0', b'1'], dtype=object)}, {'logits': array([0.27783552], dtype=float32), 'logistic': array([0.5690155], dtype=float32), 'probabilities': array([0.4309845 , 0.56901544], dtype=float32), 'class_ids': array([1]), 'classes': array([b'1'], dtype=object), 'all_class_ids': array([0, 1], dtype=int32), 'all_classes': array([b'0', b'1'], dtype=object)}, {'logits': array([1.5976516], dtype=float32), 'logistic': array([0.83168995], dtype=float32), 'probabilities': array([0.16831009, 0.8316899 ], dtype=float32), 'class_ids': array([1]), 'classes': array([b'1'], dtype=object), 'all_class_ids': array([0, 1], dtype=int32), 'all_classes': array([b'0', b'1'], dtype=object)}, {'logits': array([-0.5108434], dtype=float32), 'logistic': array([0.37499586], dtype=float32), 'probabilities': array([0.6250041 , 0.37499583], dtype=float32), 'class_ids': array([0]), 'classes': array([b'0'], dtype=object), 'all_class_ids': array([0, 1], dtype=int32), 'all_classes': array([b'0', b'1'], dtype=object)}, {'logits': array([2.7944393], dtype=float32), 'logistic': array([0.9423746], dtype=float32), 'probabilities': array([0.05762541, 0.94237465], dtype=float32), 'class_ids': array([1]), 'classes': array([b'1'], dtype=object), 'all_class_ids': array([0, 1], dtype=int32), 'all_classes': array([b'0', b'1'], dtype=object)}, {'logits': array([-0.6350611], dtype=float32), 'logistic': array([0.34636384], dtype=float32), 'probabilities': array([0.65363616, 0.34636384], dtype=float32), 'class_ids': array([0]), 'classes': array([b'0'], dtype=object), 'all_class_ids': array([0, 1], dtype=int32), 'all_classes': array([b'0', b'1'], dtype=object)}, {'logits': array([2.6257765], dtype=float32), 'logistic': array([0.9325022], dtype=float32), 'probabilities': array([0.0674978, 0.9325022], dtype=float32), 'class_ids': array([1]), 'classes': array([b'1'], dtype=object), 'all_class_ids': array([0, 1], dtype=int32), 'all_classes': array([b'0', b'1'], dtype=object)}, {'logits': array([-0.37404558], dtype=float32), 'logistic': array([0.40756384], dtype=float32), 'probabilities': array([0.59243613, 0.4075638 ], dtype=float32), 'class_ids': array([0]), 'classes': array([b'0'], dtype=object), 'all_class_ids': array([0, 1], dtype=int32), 'all_classes': array([b'0', b'1'], dtype=object)}, {'logits': array([1.6507239], dtype=float32), 'logistic': array([0.8389889], dtype=float32), 'probabilities': array([0.16101113, 0.83898884], dtype=float32), 'class_ids': array([1]), 'classes': array([b'1'], dtype=object), 'all_class_ids': array([0, 1], dtype=int32), 'all_classes': array([b'0', b'1'], dtype=object)}, {'logits': array([0.09536878], dtype=float32), 'logistic': array([0.52382416], dtype=float32), 'probabilities': array([0.47617584, 0.52382416], dtype=float32), 'class_ids': array([1]), 'classes': array([b'1'], dtype=object), 'all_class_ids': array([0, 1], dtype=int32), 'all_classes': array([b'0', b'1'], dtype=object)}, {'logits': array([-1.271201], dtype=float32), 'logistic': array([0.21905175], dtype=float32), 'probabilities': array([0.7809483 , 0.21905173], dtype=float32), 'class_ids': array([0]), 'classes': array([b'0'], dtype=object), 'all_class_ids': array([0, 1], dtype=int32), 'all_classes': array([b'0', b'1'], dtype=object)}, {'logits': array([-0.06837865], dtype=float32), 'logistic': array([0.482912], dtype=float32), 'probabilities': array([0.517088, 0.482912], dtype=float32), 'class_ids': array([0]), 'classes': array([b'0'], dtype=object), 'all_class_ids': array([0, 1], dtype=int32), 'all_classes': array([b'0', b'1'], dtype=object)}, {'logits': array([-0.36604038], dtype=float32), 'logistic': array([0.40949816], dtype=float32), 'probabilities': array([0.59050184, 0.40949816], dtype=float32), 'class_ids': array([0]), 'classes': array([b'0'], dtype=object), 'all_class_ids': array([0, 1], dtype=int32), 'all_classes': array([b'0', b'1'], dtype=object)}, {'logits': array([3.7688284], dtype=float32), 'logistic': array([0.97744155], dtype=float32), 'probabilities': array([0.02255846, 0.9774416 ], dtype=float32), 'class_ids': array([1]), 'classes': array([b'1'], dtype=object), 'all_class_ids': array([0, 1], dtype=int32), 'all_classes': array([b'0', b'1'], dtype=object)}, {'logits': array([-1.2659539], dtype=float32), 'logistic': array([0.2199507], dtype=float32), 'probabilities': array([0.7800493 , 0.21995066], dtype=float32), 'class_ids': array([0]), 'classes': array([b'0'], dtype=object), 'all_class_ids': array([0, 1], dtype=int32), 'all_classes': array([b'0', b'1'], dtype=object)}, {'logits': array([2.3927104], dtype=float32), 'logistic': array([0.9162698], dtype=float32), 'probabilities': array([0.08373025, 0.9162697 ], dtype=float32), 'class_ids': array([1]), 'classes': array([b'1'], dtype=object), 'all_class_ids': array([0, 1], dtype=int32), 'all_classes': array([b'0', b'1'], dtype=object)}, {'logits': array([-1.3650029], dtype=float32), 'logistic': array([0.20342839], dtype=float32), 'probabilities': array([0.7965716 , 0.20342842], dtype=float32), 'class_ids': array([0]), 'classes': array([b'0'], dtype=object), 'all_class_ids': array([0, 1], dtype=int32), 'all_classes': array([b'0', b'1'], dtype=object)}, {'logits': array([1.3891091], dtype=float32), 'logistic': array([0.80044997], dtype=float32), 'probabilities': array([0.19955002, 0.80045   ], dtype=float32), 'class_ids': array([1]), 'classes': array([b'1'], dtype=object), 'all_class_ids': array([0, 1], dtype=int32), 'all_classes': array([b'0', b'1'], dtype=object)}, {'logits': array([0.21989933], dtype=float32), 'logistic': array([0.5547544], dtype=float32), 'probabilities': array([0.4452456, 0.5547543], dtype=float32), 'class_ids': array([1]), 'classes': array([b'1'], dtype=object), 'all_class_ids': array([0, 1], dtype=int32), 'all_classes': array([b'0', b'1'], dtype=object)}, {'logits': array([0.83792335], dtype=float32), 'logistic': array([0.6980277], dtype=float32), 'probabilities': array([0.30197233, 0.6980277 ], dtype=float32), 'class_ids': array([1]), 'classes': array([b'1'], dtype=object), 'all_class_ids': array([0, 1], dtype=int32), 'all_classes': array([b'0', b'1'], dtype=object)}, {'logits': array([1.5991113], dtype=float32), 'logistic': array([0.83189416], dtype=float32), 'probabilities': array([0.16810586, 0.83189416], dtype=float32), 'class_ids': array([1]), 'classes': array([b'1'], dtype=object), 'all_class_ids': array([0, 1], dtype=int32), 'all_classes': array([b'0', b'1'], dtype=object)}, {'logits': array([-1.2720774], dtype=float32), 'logistic': array([0.21890184], dtype=float32), 'probabilities': array([0.7810981 , 0.21890183], dtype=float32), 'class_ids': array([0]), 'classes': array([b'0'], dtype=object), 'all_class_ids': array([0, 1], dtype=int32), 'all_classes': array([b'0', b'1'], dtype=object)}, {'logits': array([1.3612841], dtype=float32), 'logistic': array([0.7959683], dtype=float32), 'probabilities': array([0.20403168, 0.7959683 ], dtype=float32), 'class_ids': array([1]), 'classes': array([b'1'], dtype=object), 'all_class_ids': array([0, 1], dtype=int32), 'all_classes': array([b'0', b'1'], dtype=object)}, {'logits': array([0.15988508], dtype=float32), 'logistic': array([0.53988636], dtype=float32), 'probabilities': array([0.4601137 , 0.53988636], dtype=float32), 'class_ids': array([1]), 'classes': array([b'1'], dtype=object), 'all_class_ids': array([0, 1], dtype=int32), 'all_classes': array([b'0', b'1'], dtype=object)}, {'logits': array([1.0074722], dtype=float32), 'logistic': array([0.7325251], dtype=float32), 'probabilities': array([0.26747486, 0.73252517], dtype=float32), 'class_ids': array([1]), 'classes': array([b'1'], dtype=object), 'all_class_ids': array([0, 1], dtype=int32), 'all_classes': array([b'0', b'1'], dtype=object)}, {'logits': array([-0.7389982], dtype=float32), 'logistic': array([0.3232233], dtype=float32), 'probabilities': array([0.67677677, 0.32322326], dtype=float32), 'class_ids': array([0]), 'classes': array([b'0'], dtype=object), 'all_class_ids': array([0, 1], dtype=int32), 'all_classes': array([b'0', b'1'], dtype=object)}, {'logits': array([-0.37687096], dtype=float32), 'logistic': array([0.4068818], dtype=float32), 'probabilities': array([0.5931182, 0.4068818], dtype=float32), 'class_ids': array([0]), 'classes': array([b'0'], dtype=object), 'all_class_ids': array([0, 1], dtype=int32), 'all_classes': array([b'0', b'1'], dtype=object)}, {'logits': array([-1.2792897], dtype=float32), 'logistic': array([0.21767116], dtype=float32), 'probabilities': array([0.78232884, 0.21767117], dtype=float32), 'class_ids': array([0]), 'classes': array([b'0'], dtype=object), 'all_class_ids': array([0, 1], dtype=int32), 'all_classes': array([b'0', b'1'], dtype=object)}, {'logits': array([-0.639293], dtype=float32), 'logistic': array([0.34540638], dtype=float32), 'probabilities': array([0.6545936 , 0.34540632], dtype=float32), 'class_ids': array([0]), 'classes': array([b'0'], dtype=object), 'all_class_ids': array([0, 1], dtype=int32), 'all_classes': array([b'0', b'1'], dtype=object)}, {'logits': array([-1.2716047], dtype=float32), 'logistic': array([0.2189827], dtype=float32), 'probabilities': array([0.7810173 , 0.21898268], dtype=float32), 'class_ids': array([0]), 'classes': array([b'0'], dtype=object), 'all_class_ids': array([0, 1], dtype=int32), 'all_classes': array([b'0', b'1'], dtype=object)}, {'logits': array([-1.2838631], dtype=float32), 'logistic': array([0.21689337], dtype=float32), 'probabilities': array([0.7831067 , 0.21689337], dtype=float32), 'class_ids': array([0]), 'classes': array([b'0'], dtype=object), 'all_class_ids': array([0, 1], dtype=int32), 'all_classes': array([b'0', b'1'], dtype=object)}, {'logits': array([-0.37169114], dtype=float32), 'logistic': array([0.40813246], dtype=float32), 'probabilities': array([0.59186757, 0.40813246], dtype=float32), 'class_ids': array([0]), 'classes': array([b'0'], dtype=object), 'all_class_ids': array([0, 1], dtype=int32), 'all_classes': array([b'0', b'1'], dtype=object)}, {'logits': array([4.946619], dtype=float32), 'logistic': array([0.9929427], dtype=float32), 'probabilities': array([0.00705724, 0.9929428 ], dtype=float32), 'class_ids': array([1]), 'classes': array([b'1'], dtype=object), 'all_class_ids': array([0, 1], dtype=int32), 'all_classes': array([b'0', b'1'], dtype=object)}, {'logits': array([-0.37310383], dtype=float32), 'logistic': array([0.40779126], dtype=float32), 'probabilities': array([0.59220874, 0.40779123], dtype=float32), 'class_ids': array([0]), 'classes': array([b'0'], dtype=object), 'all_class_ids': array([0, 1], dtype=int32), 'all_classes': array([b'0', b'1'], dtype=object)}, {'logits': array([-1.2692215], dtype=float32), 'logistic': array([0.21939054], dtype=float32), 'probabilities': array([0.7806094 , 0.21939053], dtype=float32), 'class_ids': array([0]), 'classes': array([b'0'], dtype=object), 'all_class_ids': array([0, 1], dtype=int32), 'all_classes': array([b'0', b'1'], dtype=object)}, {'logits': array([1.4111096], dtype=float32), 'logistic': array([0.8039409], dtype=float32), 'probabilities': array([0.19605911, 0.8039409 ], dtype=float32), 'class_ids': array([1]), 'classes': array([b'1'], dtype=object), 'all_class_ids': array([0, 1], dtype=int32), 'all_classes': array([b'0', b'1'], dtype=object)}, {'logits': array([0.8786418], dtype=float32), 'logistic': array([0.70654064], dtype=float32), 'probabilities': array([0.29345933, 0.7065407 ], dtype=float32), 'class_ids': array([1]), 'classes': array([b'1'], dtype=object), 'all_class_ids': array([0, 1], dtype=int32), 'all_classes': array([b'0', b'1'], dtype=object)}, {'logits': array([-0.4122258], dtype=float32), 'logistic': array([0.39837855], dtype=float32), 'probabilities': array([0.60162145, 0.3983785 ], dtype=float32), 'class_ids': array([0]), 'classes': array([b'0'], dtype=object), 'all_class_ids': array([0, 1], dtype=int32), 'all_classes': array([b'0', b'1'], dtype=object)}, {'logits': array([2.2586913], dtype=float32), 'logistic': array([0.9053976], dtype=float32), 'probabilities': array([0.0946024 , 0.90539753], dtype=float32), 'class_ids': array([1]), 'classes': array([b'1'], dtype=object), 'all_class_ids': array([0, 1], dtype=int32), 'all_classes': array([b'0', b'1'], dtype=object)}, {'logits': array([-0.40987137], dtype=float32), 'logistic': array([0.39894298], dtype=float32), 'probabilities': array([0.60105705, 0.39894298], dtype=float32), 'class_ids': array([0]), 'classes': array([b'0'], dtype=object), 'all_class_ids': array([0, 1], dtype=int32), 'all_classes': array([b'0', b'1'], dtype=object)}, {'logits': array([1.445756], dtype=float32), 'logistic': array([0.8093444], dtype=float32), 'probabilities': array([0.19065559, 0.8093444 ], dtype=float32), 'class_ids': array([1]), 'classes': array([b'1'], dtype=object), 'all_class_ids': array([0, 1], dtype=int32), 'all_classes': array([b'0', b'1'], dtype=object)}, {'logits': array([1.3549062], dtype=float32), 'logistic': array([0.7949306], dtype=float32), 'probabilities': array([0.20506942, 0.7949306 ], dtype=float32), 'class_ids': array([1]), 'classes': array([b'1'], dtype=object), 'all_class_ids': array([0, 1], dtype=int32), 'all_classes': array([b'0', b'1'], dtype=object)}, {'logits': array([-0.08066341], dtype=float32), 'logistic': array([0.47984508], dtype=float32), 'probabilities': array([0.5201549 , 0.47984508], dtype=float32), 'class_ids': array([0]), 'classes': array([b'0'], dtype=object), 'all_class_ids': array([0, 1], dtype=int32), 'all_classes': array([b'0', b'1'], dtype=object)}, {'logits': array([0.38171068], dtype=float32), 'logistic': array([0.5942856], dtype=float32), 'probabilities': array([0.4057144, 0.5942856], dtype=float32), 'class_ids': array([1]), 'classes': array([b'1'], dtype=object), 'all_class_ids': array([0, 1], dtype=int32), 'all_classes': array([b'0', b'1'], dtype=object)}, {'logits': array([1.9148035], dtype=float32), 'logistic': array([0.87155783], dtype=float32), 'probabilities': array([0.12844217, 0.87155783], dtype=float32), 'class_ids': array([1]), 'classes': array([b'1'], dtype=object), 'all_class_ids': array([0, 1], dtype=int32), 'all_classes': array([b'0', b'1'], dtype=object)}, {'logits': array([4.3409753], dtype=float32), 'logistic': array([0.98714364], dtype=float32), 'probabilities': array([0.01285638, 0.9871436 ], dtype=float32), 'class_ids': array([1]), 'classes': array([b'1'], dtype=object), 'all_class_ids': array([0, 1], dtype=int32), 'all_classes': array([b'0', b'1'], dtype=object)}, {'logits': array([2.0755146], dtype=float32), 'logistic': array([0.88850045], dtype=float32), 'probabilities': array([0.11149956, 0.88850045], dtype=float32), 'class_ids': array([1]), 'classes': array([b'1'], dtype=object), 'all_class_ids': array([0, 1], dtype=int32), 'all_classes': array([b'0', b'1'], dtype=object)}, {'logits': array([-0.95812577], dtype=float32), 'logistic': array([0.2772536], dtype=float32), 'probabilities': array([0.7227464, 0.2772536], dtype=float32), 'class_ids': array([0]), 'classes': array([b'0'], dtype=object), 'all_class_ids': array([0, 1], dtype=int32), 'all_classes': array([b'0', b'1'], dtype=object)}, {'logits': array([-1.2711338], dtype=float32), 'logistic': array([0.21906325], dtype=float32), 'probabilities': array([0.7809368 , 0.21906324], dtype=float32), 'class_ids': array([0]), 'classes': array([b'0'], dtype=object), 'all_class_ids': array([0, 1], dtype=int32), 'all_classes': array([b'0', b'1'], dtype=object)}, {'logits': array([-0.62349635], dtype=float32), 'logistic': array([0.3489867], dtype=float32), 'probabilities': array([0.6510133, 0.3489867], dtype=float32), 'class_ids': array([0]), 'classes': array([b'0'], dtype=object), 'all_class_ids': array([0, 1], dtype=int32), 'all_classes': array([b'0', b'1'], dtype=object)}, {'logits': array([-1.2440826], dtype=float32), 'logistic': array([0.22372615], dtype=float32), 'probabilities': array([0.77627385, 0.22372617], dtype=float32), 'class_ids': array([0]), 'classes': array([b'0'], dtype=object), 'all_class_ids': array([0, 1], dtype=int32), 'all_classes': array([b'0', b'1'], dtype=object)}, {'logits': array([-1.2720469], dtype=float32), 'logistic': array([0.21890706], dtype=float32), 'probabilities': array([0.78109294, 0.21890706], dtype=float32), 'class_ids': array([0]), 'classes': array([b'0'], dtype=object), 'all_class_ids': array([0, 1], dtype=int32), 'all_classes': array([b'0', b'1'], dtype=object)}, {'logits': array([-0.36604038], dtype=float32), 'logistic': array([0.40949816], dtype=float32), 'probabilities': array([0.59050184, 0.40949816], dtype=float32), 'class_ids': array([0]), 'classes': array([b'0'], dtype=object), 'all_class_ids': array([0, 1], dtype=int32), 'all_classes': array([b'0', b'1'], dtype=object)}, {'logits': array([1.7398381], dtype=float32), 'logistic': array([0.8506665], dtype=float32), 'probabilities': array([0.1493335, 0.8506665], dtype=float32), 'class_ids': array([1]), 'classes': array([b'1'], dtype=object), 'all_class_ids': array([0, 1], dtype=int32), 'all_classes': array([b'0', b'1'], dtype=object)}, {'logits': array([5.1203113], dtype=float32), 'logistic': array([0.99406135], dtype=float32), 'probabilities': array([0.00593868, 0.9940613 ], dtype=float32), 'class_ids': array([1]), 'classes': array([b'1'], dtype=object), 'all_class_ids': array([0, 1], dtype=int32), 'all_classes': array([b'0', b'1'], dtype=object)}, {'logits': array([1.4615], dtype=float32), 'logistic': array([0.81176203], dtype=float32), 'probabilities': array([0.18823801, 0.811762  ], dtype=float32), 'class_ids': array([1]), 'classes': array([b'1'], dtype=object), 'all_class_ids': array([0, 1], dtype=int32), 'all_classes': array([b'0', b'1'], dtype=object)}, {'logits': array([0.8787928], dtype=float32), 'logistic': array([0.706572], dtype=float32), 'probabilities': array([0.29342797, 0.706572  ], dtype=float32), 'class_ids': array([1]), 'classes': array([b'1'], dtype=object), 'all_class_ids': array([0, 1], dtype=int32), 'all_classes': array([b'0', b'1'], dtype=object)}, {'logits': array([-0.6495893], dtype=float32), 'logistic': array([0.34308213], dtype=float32), 'probabilities': array([0.6569179 , 0.34308213], dtype=float32), 'class_ids': array([0]), 'classes': array([b'0'], dtype=object), 'all_class_ids': array([0, 1], dtype=int32), 'all_classes': array([b'0', b'1'], dtype=object)}, {'logits': array([4.818136], dtype=float32), 'logistic': array([0.991983], dtype=float32), 'probabilities': array([0.00801704, 0.991983  ], dtype=float32), 'class_ids': array([1]), 'classes': array([b'1'], dtype=object), 'all_class_ids': array([0, 1], dtype=int32), 'all_classes': array([b'0', b'1'], dtype=object)}, {'logits': array([-1.000552], dtype=float32), 'logistic': array([0.26883292], dtype=float32), 'probabilities': array([0.73116714, 0.2688329 ], dtype=float32), 'class_ids': array([0]), 'classes': array([b'0'], dtype=object), 'all_class_ids': array([0, 1], dtype=int32), 'all_classes': array([b'0', b'1'], dtype=object)}, {'logits': array([2.0994155], dtype=float32), 'logistic': array([0.8908464], dtype=float32), 'probabilities': array([0.10915364, 0.8908463 ], dtype=float32), 'class_ids': array([1]), 'classes': array([b'1'], dtype=object), 'all_class_ids': array([0, 1], dtype=int32), 'all_classes': array([b'0', b'1'], dtype=object)}, {'logits': array([1.4474214], dtype=float32), 'logistic': array([0.80960125], dtype=float32), 'probabilities': array([0.19039872, 0.80960125], dtype=float32), 'class_ids': array([1]), 'classes': array([b'1'], dtype=object), 'all_class_ids': array([0, 1], dtype=int32), 'all_classes': array([b'0', b'1'], dtype=object)}, {'logits': array([-0.34530595], dtype=float32), 'logistic': array([0.4145212], dtype=float32), 'probabilities': array([0.5854788, 0.4145212], dtype=float32), 'class_ids': array([0]), 'classes': array([b'0'], dtype=object), 'all_class_ids': array([0, 1], dtype=int32), 'all_classes': array([b'0', b'1'], dtype=object)}, {'logits': array([2.6325886], dtype=float32), 'logistic': array([0.93292975], dtype=float32), 'probabilities': array([0.06707029, 0.9329297 ], dtype=float32), 'class_ids': array([1]), 'classes': array([b'1'], dtype=object), 'all_class_ids': array([0, 1], dtype=int32), 'all_classes': array([b'0', b'1'], dtype=object)}, {'logits': array([2.9644465], dtype=float32), 'logistic': array([0.9509419], dtype=float32), 'probabilities': array([0.04905815, 0.95094186], dtype=float32), 'class_ids': array([1]), 'classes': array([b'1'], dtype=object), 'all_class_ids': array([0, 1], dtype=int32), 'all_classes': array([b'0', b'1'], dtype=object)}, {'logits': array([4.51166], dtype=float32), 'logistic': array([0.9891391], dtype=float32), 'probabilities': array([0.01086096, 0.989139  ], dtype=float32), 'class_ids': array([1]), 'classes': array([b'1'], dtype=object), 'all_class_ids': array([0, 1], dtype=int32), 'all_classes': array([b'0', b'1'], dtype=object)}, {'logits': array([0.4033542], dtype=float32), 'logistic': array([0.59949327], dtype=float32), 'probabilities': array([0.40050673, 0.59949327], dtype=float32), 'class_ids': array([1]), 'classes': array([b'1'], dtype=object), 'all_class_ids': array([0, 1], dtype=int32), 'all_classes': array([b'0', b'1'], dtype=object)}, {'logits': array([-1.3812643], dtype=float32), 'logistic': array([0.20080602], dtype=float32), 'probabilities': array([0.799194, 0.200806], dtype=float32), 'class_ids': array([0]), 'classes': array([b'0'], dtype=object), 'all_class_ids': array([0, 1], dtype=int32), 'all_classes': array([b'0', b'1'], dtype=object)}, {'logits': array([6.133694], dtype=float32), 'logistic': array([0.9978362], dtype=float32), 'probabilities': array([0.00216386, 0.9978362 ], dtype=float32), 'class_ids': array([1]), 'classes': array([b'1'], dtype=object), 'all_class_ids': array([0, 1], dtype=int32), 'all_classes': array([b'0', b'1'], dtype=object)}, {'logits': array([0.30670622], dtype=float32), 'logistic': array([0.5760811], dtype=float32), 'probabilities': array([0.42391893, 0.5760811 ], dtype=float32), 'class_ids': array([1]), 'classes': array([b'1'], dtype=object), 'all_class_ids': array([0, 1], dtype=int32), 'all_classes': array([b'0', b'1'], dtype=object)}, {'logits': array([5.594308], dtype=float32), 'logistic': array([0.99629486], dtype=float32), 'probabilities': array([0.00370519, 0.9962948 ], dtype=float32), 'class_ids': array([1]), 'classes': array([b'1'], dtype=object), 'all_class_ids': array([0, 1], dtype=int32), 'all_classes': array([b'0', b'1'], dtype=object)}, {'logits': array([-1.0462598], dtype=float32), 'logistic': array([0.25994396], dtype=float32), 'probabilities': array([0.74005604, 0.25994396], dtype=float32), 'class_ids': array([0]), 'classes': array([b'0'], dtype=object), 'all_class_ids': array([0, 1], dtype=int32), 'all_classes': array([b'0', b'1'], dtype=object)}, {'logits': array([-1.2510644], dtype=float32), 'logistic': array([0.22251591], dtype=float32), 'probabilities': array([0.77748406, 0.22251593], dtype=float32), 'class_ids': array([0]), 'classes': array([b'0'], dtype=object), 'all_class_ids': array([0, 1], dtype=int32), 'all_classes': array([b'0', b'1'], dtype=object)}, {'logits': array([-1.2515268], dtype=float32), 'logistic': array([0.22243595], dtype=float32), 'probabilities': array([0.77756405, 0.22243595], dtype=float32), 'class_ids': array([0]), 'classes': array([b'0'], dtype=object), 'all_class_ids': array([0, 1], dtype=int32), 'all_classes': array([b'0', b'1'], dtype=object)}, {'logits': array([0.49315777], dtype=float32), 'logistic': array([0.62085], dtype=float32), 'probabilities': array([0.37914997, 0.62085   ], dtype=float32), 'class_ids': array([1]), 'classes': array([b'1'], dtype=object), 'all_class_ids': array([0, 1], dtype=int32), 'all_classes': array([b'0', b'1'], dtype=object)}, {'logits': array([-1.2780209], dtype=float32), 'logistic': array([0.21788731], dtype=float32), 'probabilities': array([0.7821127 , 0.21788731], dtype=float32), 'class_ids': array([0]), 'classes': array([b'0'], dtype=object), 'all_class_ids': array([0, 1], dtype=int32), 'all_classes': array([b'0', b'1'], dtype=object)}, {'logits': array([2.2990918], dtype=float32), 'logistic': array([0.9088018], dtype=float32), 'probabilities': array([0.09119821, 0.90880185], dtype=float32), 'class_ids': array([1]), 'classes': array([b'1'], dtype=object), 'all_class_ids': array([0, 1], dtype=int32), 'all_classes': array([b'0', b'1'], dtype=object)}, {'logits': array([2.5036907], dtype=float32), 'logistic': array([0.9244002], dtype=float32), 'probabilities': array([0.07559985, 0.92440015], dtype=float32), 'class_ids': array([1]), 'classes': array([b'1'], dtype=object), 'all_class_ids': array([0, 1], dtype=int32), 'all_classes': array([b'0', b'1'], dtype=object)}, {'logits': array([0.8347413], dtype=float32), 'logistic': array([0.6973565], dtype=float32), 'probabilities': array([0.3026435, 0.6973565], dtype=float32), 'class_ids': array([1]), 'classes': array([b'1'], dtype=object), 'all_class_ids': array([0, 1], dtype=int32), 'all_classes': array([b'0', b'1'], dtype=object)}, {'logits': array([1.4364244], dtype=float32), 'logistic': array([0.80790037], dtype=float32), 'probabilities': array([0.19209968, 0.80790037], dtype=float32), 'class_ids': array([1]), 'classes': array([b'1'], dtype=object), 'all_class_ids': array([0, 1], dtype=int32), 'all_classes': array([b'0', b'1'], dtype=object)}, {'logits': array([-0.69975734], dtype=float32), 'logistic': array([0.33186603], dtype=float32), 'probabilities': array([0.668134  , 0.33186603], dtype=float32), 'class_ids': array([0]), 'classes': array([b'0'], dtype=object), 'all_class_ids': array([0, 1], dtype=int32), 'all_classes': array([b'0', b'1'], dtype=object)}, {'logits': array([1.9090984], dtype=float32), 'logistic': array([0.87091786], dtype=float32), 'probabilities': array([0.12908217, 0.8709178 ], dtype=float32), 'class_ids': array([1]), 'classes': array([b'1'], dtype=object), 'all_class_ids': array([0, 1], dtype=int32), 'all_classes': array([b'0', b'1'], dtype=object)}, {'logits': array([3.418354], dtype=float32), 'logistic': array([0.9682732], dtype=float32), 'probabilities': array([0.03172676, 0.9682732 ], dtype=float32), 'class_ids': array([1]), 'classes': array([b'1'], dtype=object), 'all_class_ids': array([0, 1], dtype=int32), 'all_classes': array([b'0', b'1'], dtype=object)}, {'logits': array([2.3493466], dtype=float32), 'logistic': array([0.91288227], dtype=float32), 'probabilities': array([0.08711772, 0.9128823 ], dtype=float32), 'class_ids': array([1]), 'classes': array([b'1'], dtype=object), 'all_class_ids': array([0, 1], dtype=int32), 'all_classes': array([b'0', b'1'], dtype=object)}, {'logits': array([-1.5275822], dtype=float32), 'logistic': array([0.17834774], dtype=float32), 'probabilities': array([0.8216523 , 0.17834772], dtype=float32), 'class_ids': array([0]), 'classes': array([b'0'], dtype=object), 'all_class_ids': array([0, 1], dtype=int32), 'all_classes': array([b'0', b'1'], dtype=object)}, {'logits': array([2.3403], dtype=float32), 'logistic': array([0.91216016], dtype=float32), 'probabilities': array([0.08783987, 0.91216016], dtype=float32), 'class_ids': array([1]), 'classes': array([b'1'], dtype=object), 'all_class_ids': array([0, 1], dtype=int32), 'all_classes': array([b'0', b'1'], dtype=object)}, {'logits': array([1.5584319], dtype=float32), 'logistic': array([0.82612824], dtype=float32), 'probabilities': array([0.17387177, 0.8261282 ], dtype=float32), 'class_ids': array([1]), 'classes': array([b'1'], dtype=object), 'all_class_ids': array([0, 1], dtype=int32), 'all_classes': array([b'0', b'1'], dtype=object)}, {'logits': array([1.4567882], dtype=float32), 'logistic': array([0.81104094], dtype=float32), 'probabilities': array([0.18895906, 0.81104094], dtype=float32), 'class_ids': array([1]), 'classes': array([b'1'], dtype=object), 'all_class_ids': array([0, 1], dtype=int32), 'all_classes': array([b'0', b'1'], dtype=object)}, {'logits': array([-1.2605903], dtype=float32), 'logistic': array([0.22087231], dtype=float32), 'probabilities': array([0.7791277, 0.2208723], dtype=float32), 'class_ids': array([0]), 'classes': array([b'0'], dtype=object), 'all_class_ids': array([0, 1], dtype=int32), 'all_classes': array([b'0', b'1'], dtype=object)}, {'logits': array([4.4228396], dtype=float32), 'logistic': array([0.9881422], dtype=float32), 'probabilities': array([0.01185781, 0.9881422 ], dtype=float32), 'class_ids': array([1]), 'classes': array([b'1'], dtype=object), 'all_class_ids': array([0, 1], dtype=int32), 'all_classes': array([b'0', b'1'], dtype=object)}, {'logits': array([1.4083588], dtype=float32), 'logistic': array([0.803507], dtype=float32), 'probabilities': array([0.19649304, 0.803507  ], dtype=float32), 'class_ids': array([1]), 'classes': array([b'1'], dtype=object), 'all_class_ids': array([0, 1], dtype=int32), 'all_classes': array([b'0', b'1'], dtype=object)}, {'logits': array([-1.2690644], dtype=float32), 'logistic': array([0.21941748], dtype=float32), 'probabilities': array([0.7805825 , 0.21941744], dtype=float32), 'class_ids': array([0]), 'classes': array([b'0'], dtype=object), 'all_class_ids': array([0, 1], dtype=int32), 'all_classes': array([b'0', b'1'], dtype=object)}, {'logits': array([1.6610994], dtype=float32), 'logistic': array([0.84038556], dtype=float32), 'probabilities': array([0.15961446, 0.8403855 ], dtype=float32), 'class_ids': array([1]), 'classes': array([b'1'], dtype=object), 'all_class_ids': array([0, 1], dtype=int32), 'all_classes': array([b'0', b'1'], dtype=object)}, {'logits': array([-1.2789626], dtype=float32), 'logistic': array([0.21772689], dtype=float32), 'probabilities': array([0.7822731 , 0.21772686], dtype=float32), 'class_ids': array([0]), 'classes': array([b'0'], dtype=object), 'all_class_ids': array([0, 1], dtype=int32), 'all_classes': array([b'0', b'1'], dtype=object)}, {'logits': array([2.6253057], dtype=float32), 'logistic': array([0.9324726], dtype=float32), 'probabilities': array([0.06752744, 0.9324726 ], dtype=float32), 'class_ids': array([1]), 'classes': array([b'1'], dtype=object), 'all_class_ids': array([0, 1], dtype=int32), 'all_classes': array([b'0', b'1'], dtype=object)}, {'logits': array([1.3636614], dtype=float32), 'logistic': array([0.7963541], dtype=float32), 'probabilities': array([0.20364587, 0.7963541 ], dtype=float32), 'class_ids': array([1]), 'classes': array([b'1'], dtype=object), 'all_class_ids': array([0, 1], dtype=int32), 'all_classes': array([b'0', b'1'], dtype=object)}, {'logits': array([-1.1888187], dtype=float32), 'logistic': array([0.23347029], dtype=float32), 'probabilities': array([0.7665297 , 0.23347028], dtype=float32), 'class_ids': array([0]), 'classes': array([b'0'], dtype=object), 'all_class_ids': array([0, 1], dtype=int32), 'all_classes': array([b'0', b'1'], dtype=object)}, {'logits': array([1.1993831], dtype=float32), 'logistic': array([0.768415], dtype=float32), 'probabilities': array([0.23158498, 0.76841503], dtype=float32), 'class_ids': array([1]), 'classes': array([b'1'], dtype=object), 'all_class_ids': array([0, 1], dtype=int32), 'all_classes': array([b'0', b'1'], dtype=object)}, {'logits': array([2.412231], dtype=float32), 'logistic': array([0.91775525], dtype=float32), 'probabilities': array([0.08224477, 0.91775525], dtype=float32), 'class_ids': array([1]), 'classes': array([b'1'], dtype=object), 'all_class_ids': array([0, 1], dtype=int32), 'all_classes': array([b'0', b'1'], dtype=object)}, {'logits': array([-1.0035096], dtype=float32), 'logistic': array([0.26825196], dtype=float32), 'probabilities': array([0.73174804, 0.26825196], dtype=float32), 'class_ids': array([0]), 'classes': array([b'0'], dtype=object), 'all_class_ids': array([0, 1], dtype=int32), 'all_classes': array([b'0', b'1'], dtype=object)}, {'logits': array([-1.2668957], dtype=float32), 'logistic': array([0.21978912], dtype=float32), 'probabilities': array([0.78021085, 0.21978913], dtype=float32), 'class_ids': array([0]), 'classes': array([b'0'], dtype=object), 'all_class_ids': array([0, 1], dtype=int32), 'all_classes': array([b'0', b'1'], dtype=object)}, {'logits': array([2.3182297], dtype=float32), 'logistic': array([0.9103756], dtype=float32), 'probabilities': array([0.0896244 , 0.91037565], dtype=float32), 'class_ids': array([1]), 'classes': array([b'1'], dtype=object), 'all_class_ids': array([0, 1], dtype=int32), 'all_classes': array([b'0', b'1'], dtype=object)}, {'logits': array([-0.9755489], dtype=float32), 'logistic': array([0.27377588], dtype=float32), 'probabilities': array([0.7262242, 0.2737759], dtype=float32), 'class_ids': array([0]), 'classes': array([b'0'], dtype=object), 'all_class_ids': array([0, 1], dtype=int32), 'all_classes': array([b'0', b'1'], dtype=object)}, {'logits': array([-0.36321506], dtype=float32), 'logistic': array([0.41018152], dtype=float32), 'probabilities': array([0.5898185, 0.4101815], dtype=float32), 'class_ids': array([0]), 'classes': array([b'0'], dtype=object), 'all_class_ids': array([0, 1], dtype=int32), 'all_classes': array([b'0', b'1'], dtype=object)}, {'logits': array([-0.56872135], dtype=float32), 'logistic': array([0.3615319], dtype=float32), 'probabilities': array([0.6384681, 0.3615319], dtype=float32), 'class_ids': array([0]), 'classes': array([b'0'], dtype=object), 'all_class_ids': array([0, 1], dtype=int32), 'all_classes': array([b'0', b'1'], dtype=object)}, {'logits': array([-1.252948], dtype=float32), 'logistic': array([0.22219026], dtype=float32), 'probabilities': array([0.77780974, 0.22219022], dtype=float32), 'class_ids': array([0]), 'classes': array([b'0'], dtype=object), 'all_class_ids': array([0, 1], dtype=int32), 'all_classes': array([b'0', b'1'], dtype=object)}, {'logits': array([1.4754535], dtype=float32), 'logistic': array([0.81388485], dtype=float32), 'probabilities': array([0.18611513, 0.81388485], dtype=float32), 'class_ids': array([1]), 'classes': array([b'1'], dtype=object), 'all_class_ids': array([0, 1], dtype=int32), 'all_classes': array([b'0', b'1'], dtype=object)}, {'logits': array([-1.2777034], dtype=float32), 'logistic': array([0.21794137], dtype=float32), 'probabilities': array([0.78205866, 0.21794142], dtype=float32), 'class_ids': array([0]), 'classes': array([b'0'], dtype=object), 'all_class_ids': array([0, 1], dtype=int32), 'all_classes': array([b'0', b'1'], dtype=object)}, {'logits': array([-1.256536], dtype=float32), 'logistic': array([0.22157079], dtype=float32), 'probabilities': array([0.7784292 , 0.22157077], dtype=float32), 'class_ids': array([0]), 'classes': array([b'0'], dtype=object), 'all_class_ids': array([0, 1], dtype=int32), 'all_classes': array([b'0', b'1'], dtype=object)}, {'logits': array([-1.2659539], dtype=float32), 'logistic': array([0.2199507], dtype=float32), 'probabilities': array([0.7800493 , 0.21995066], dtype=float32), 'class_ids': array([0]), 'classes': array([b'0'], dtype=object), 'all_class_ids': array([0, 1], dtype=int32), 'all_classes': array([b'0', b'1'], dtype=object)}, {'logits': array([-1.2822589], dtype=float32), 'logistic': array([0.21716595], dtype=float32), 'probabilities': array([0.782834  , 0.21716596], dtype=float32), 'class_ids': array([0]), 'classes': array([b'0'], dtype=object), 'all_class_ids': array([0, 1], dtype=int32), 'all_classes': array([b'0', b'1'], dtype=object)}, {'logits': array([0.4379951], dtype=float32), 'logistic': array([0.6077812], dtype=float32), 'probabilities': array([0.39221877, 0.6077812 ], dtype=float32), 'class_ids': array([1]), 'classes': array([b'1'], dtype=object), 'all_class_ids': array([0, 1], dtype=int32), 'all_classes': array([b'0', b'1'], dtype=object)}, {'logits': array([-0.53842854], dtype=float32), 'logistic': array([0.36855322], dtype=float32), 'probabilities': array([0.63144684, 0.36855325], dtype=float32), 'class_ids': array([0]), 'classes': array([b'0'], dtype=object), 'all_class_ids': array([0, 1], dtype=int32), 'all_classes': array([b'0', b'1'], dtype=object)}, {'logits': array([5.070407], dtype=float32), 'logistic': array([0.9937593], dtype=float32), 'probabilities': array([0.00624067, 0.9937594 ], dtype=float32), 'class_ids': array([1]), 'classes': array([b'1'], dtype=object), 'all_class_ids': array([0, 1], dtype=int32), 'all_classes': array([b'0', b'1'], dtype=object)}, {'logits': array([-1.1605554], dtype=float32), 'logistic': array([0.2385664], dtype=float32), 'probabilities': array([0.7614336, 0.2385664], dtype=float32), 'class_ids': array([0]), 'classes': array([b'0'], dtype=object), 'all_class_ids': array([0, 1], dtype=int32), 'all_classes': array([b'0', b'1'], dtype=object)}, {'logits': array([-1.2726136], dtype=float32), 'logistic': array([0.21881017], dtype=float32), 'probabilities': array([0.78118986, 0.21881017], dtype=float32), 'class_ids': array([0]), 'classes': array([b'0'], dtype=object), 'all_class_ids': array([0, 1], dtype=int32), 'all_classes': array([b'0', b'1'], dtype=object)}, {'logits': array([1.7408413], dtype=float32), 'logistic': array([0.8507939], dtype=float32), 'probabilities': array([0.1492061 , 0.85079384], dtype=float32), 'class_ids': array([1]), 'classes': array([b'1'], dtype=object), 'all_class_ids': array([0, 1], dtype=int32), 'all_classes': array([b'0', b'1'], dtype=object)}, {'logits': array([4.334383], dtype=float32), 'logistic': array([0.9870597], dtype=float32), 'probabilities': array([0.01294031, 0.9870597 ], dtype=float32), 'class_ids': array([1]), 'classes': array([b'1'], dtype=object), 'all_class_ids': array([0, 1], dtype=int32), 'all_classes': array([b'0', b'1'], dtype=object)}, {'logits': array([-1.0485587], dtype=float32), 'logistic': array([0.259502], dtype=float32), 'probabilities': array([0.74049807, 0.25950196], dtype=float32), 'class_ids': array([0]), 'classes': array([b'0'], dtype=object), 'all_class_ids': array([0, 1], dtype=int32), 'all_classes': array([b'0', b'1'], dtype=object)}, {'logits': array([-0.9750779], dtype=float32), 'logistic': array([0.27386954], dtype=float32), 'probabilities': array([0.7261305, 0.2738695], dtype=float32), 'class_ids': array([0]), 'classes': array([b'0'], dtype=object), 'all_class_ids': array([0, 1], dtype=int32), 'all_classes': array([b'0', b'1'], dtype=object)}, {'logits': array([-1.2668957], dtype=float32), 'logistic': array([0.21978912], dtype=float32), 'probabilities': array([0.78021085, 0.21978913], dtype=float32), 'class_ids': array([0]), 'classes': array([b'0'], dtype=object), 'all_class_ids': array([0, 1], dtype=int32), 'all_classes': array([b'0', b'1'], dtype=object)}, {'logits': array([1.1490735], dtype=float32), 'logistic': array([0.7593416], dtype=float32), 'probabilities': array([0.24065836, 0.75934166], dtype=float32), 'class_ids': array([1]), 'classes': array([b'1'], dtype=object), 'all_class_ids': array([0, 1], dtype=int32), 'all_classes': array([b'0', b'1'], dtype=object)}, {'logits': array([-0.72817576], dtype=float32), 'logistic': array([0.3255952], dtype=float32), 'probabilities': array([0.6744048 , 0.32559517], dtype=float32), 'class_ids': array([0]), 'classes': array([b'0'], dtype=object), 'all_class_ids': array([0, 1], dtype=int32), 'all_classes': array([b'0', b'1'], dtype=object)}, {'logits': array([-0.64753366], dtype=float32), 'logistic': array([0.34354556], dtype=float32), 'probabilities': array([0.65645444, 0.34354553], dtype=float32), 'class_ids': array([0]), 'classes': array([b'0'], dtype=object), 'all_class_ids': array([0, 1], dtype=int32), 'all_classes': array([b'0', b'1'], dtype=object)}, {'logits': array([-1.2636014], dtype=float32), 'logistic': array([0.22035456], dtype=float32), 'probabilities': array([0.7796455 , 0.22035457], dtype=float32), 'class_ids': array([0]), 'classes': array([b'0'], dtype=object), 'all_class_ids': array([0, 1], dtype=int32), 'all_classes': array([b'0', b'1'], dtype=object)}, {'logits': array([-0.6474703], dtype=float32), 'logistic': array([0.34355983], dtype=float32), 'probabilities': array([0.65644014, 0.3435598 ], dtype=float32), 'class_ids': array([0]), 'classes': array([b'0'], dtype=object), 'all_class_ids': array([0, 1], dtype=int32), 'all_classes': array([b'0', b'1'], dtype=object)}, {'logits': array([-1.1696056], dtype=float32), 'logistic': array([0.23692629], dtype=float32), 'probabilities': array([0.7630737 , 0.23692626], dtype=float32), 'class_ids': array([0]), 'classes': array([b'0'], dtype=object), 'all_class_ids': array([0, 1], dtype=int32), 'all_classes': array([b'0', b'1'], dtype=object)}, {'logits': array([-0.09102305], dtype=float32), 'logistic': array([0.47725993], dtype=float32), 'probabilities': array([0.52274  , 0.4772599], dtype=float32), 'class_ids': array([0]), 'classes': array([b'0'], dtype=object), 'all_class_ids': array([0, 1], dtype=int32), 'all_classes': array([b'0', b'1'], dtype=object)}, {'logits': array([0.23798278], dtype=float32), 'logistic': array([0.5592165], dtype=float32), 'probabilities': array([0.4407835 , 0.55921644], dtype=float32), 'class_ids': array([1]), 'classes': array([b'1'], dtype=object), 'all_class_ids': array([0, 1], dtype=int32), 'all_classes': array([b'0', b'1'], dtype=object)}, {'logits': array([0.0901889], dtype=float32), 'logistic': array([0.5225319], dtype=float32), 'probabilities': array([0.47746804, 0.522532  ], dtype=float32), 'class_ids': array([1]), 'classes': array([b'1'], dtype=object), 'all_class_ids': array([0, 1], dtype=int32), 'all_classes': array([b'0', b'1'], dtype=object)}, {'logits': array([-0.650359], dtype=float32), 'logistic': array([0.34290865], dtype=float32), 'probabilities': array([0.6570913 , 0.34290862], dtype=float32), 'class_ids': array([0]), 'classes': array([b'0'], dtype=object), 'all_class_ids': array([0, 1], dtype=int32), 'all_classes': array([b'0', b'1'], dtype=object)}, {'logits': array([0.24533704], dtype=float32), 'logistic': array([0.5610285], dtype=float32), 'probabilities': array([0.43897155, 0.5610285 ], dtype=float32), 'class_ids': array([1]), 'classes': array([b'1'], dtype=object), 'all_class_ids': array([0, 1], dtype=int32), 'all_classes': array([b'0', b'1'], dtype=object)}, {'logits': array([-0.36509106], dtype=float32), 'logistic': array([0.40972772], dtype=float32), 'probabilities': array([0.5902723 , 0.40972772], dtype=float32), 'class_ids': array([0]), 'classes': array([b'0'], dtype=object), 'all_class_ids': array([0, 1], dtype=int32), 'all_classes': array([b'0', b'1'], dtype=object)}, {'logits': array([1.4513167], dtype=float32), 'logistic': array([0.810201], dtype=float32), 'probabilities': array([0.18979901, 0.810201  ], dtype=float32), 'class_ids': array([1]), 'classes': array([b'1'], dtype=object), 'all_class_ids': array([0, 1], dtype=int32), 'all_classes': array([b'0', b'1'], dtype=object)}, {'logits': array([-0.6474703], dtype=float32), 'logistic': array([0.34355983], dtype=float32), 'probabilities': array([0.65644014, 0.3435598 ], dtype=float32), 'class_ids': array([0]), 'classes': array([b'0'], dtype=object), 'all_class_ids': array([0, 1], dtype=int32), 'all_classes': array([b'0', b'1'], dtype=object)}, {'logits': array([1.7426634], dtype=float32), 'logistic': array([0.851025], dtype=float32), 'probabilities': array([0.14897494, 0.851025  ], dtype=float32), 'class_ids': array([1]), 'classes': array([b'1'], dtype=object), 'all_class_ids': array([0, 1], dtype=int32), 'all_classes': array([b'0', b'1'], dtype=object)}, {'logits': array([-1.1738437], dtype=float32), 'logistic': array([0.23616093], dtype=float32), 'probabilities': array([0.7638391 , 0.23616093], dtype=float32), 'class_ids': array([0]), 'classes': array([b'0'], dtype=object), 'all_class_ids': array([0, 1], dtype=int32), 'all_classes': array([b'0', b'1'], dtype=object)}, {'logits': array([4.399003], dtype=float32), 'logistic': array([0.9878596], dtype=float32), 'probabilities': array([0.01214038, 0.98785955], dtype=float32), 'class_ids': array([1]), 'classes': array([b'1'], dtype=object), 'all_class_ids': array([0, 1], dtype=int32), 'all_classes': array([b'0', b'1'], dtype=object)}, {'logits': array([2.2634215], dtype=float32), 'logistic': array([0.905802], dtype=float32), 'probabilities': array([0.09419803, 0.905802  ], dtype=float32), 'class_ids': array([1]), 'classes': array([b'1'], dtype=object), 'all_class_ids': array([0, 1], dtype=int32), 'all_classes': array([b'0', b'1'], dtype=object)}, {'logits': array([-1.2668977], dtype=float32), 'logistic': array([0.21978876], dtype=float32), 'probabilities': array([0.7802112 , 0.21978879], dtype=float32), 'class_ids': array([0]), 'classes': array([b'0'], dtype=object), 'all_class_ids': array([0, 1], dtype=int32), 'all_classes': array([b'0', b'1'], dtype=object)}, {'logits': array([5.106961], dtype=float32), 'logistic': array([0.993982], dtype=float32), 'probabilities': array([0.00601802, 0.993982  ], dtype=float32), 'class_ids': array([1]), 'classes': array([b'1'], dtype=object), 'all_class_ids': array([0, 1], dtype=int32), 'all_classes': array([b'0', b'1'], dtype=object)}, {'logits': array([-0.16430125], dtype=float32), 'logistic': array([0.45901686], dtype=float32), 'probabilities': array([0.54098314, 0.45901683], dtype=float32), 'class_ids': array([0]), 'classes': array([b'0'], dtype=object), 'all_class_ids': array([0, 1], dtype=int32), 'all_classes': array([b'0', b'1'], dtype=object)}, {'logits': array([-0.6250966], dtype=float32), 'logistic': array([0.34862322], dtype=float32), 'probabilities': array([0.6513768 , 0.34862322], dtype=float32), 'class_ids': array([0]), 'classes': array([b'0'], dtype=object), 'all_class_ids': array([0, 1], dtype=int32), 'all_classes': array([b'0', b'1'], dtype=object)}, {'logits': array([4.3863854], dtype=float32), 'logistic': array([0.9877074], dtype=float32), 'probabilities': array([0.01229264, 0.9877073 ], dtype=float32), 'class_ids': array([1]), 'classes': array([b'1'], dtype=object), 'all_class_ids': array([0, 1], dtype=int32), 'all_classes': array([b'0', b'1'], dtype=object)}, {'logits': array([-1.269721], dtype=float32), 'logistic': array([0.21930501], dtype=float32), 'probabilities': array([0.78069496, 0.21930501], dtype=float32), 'class_ids': array([0]), 'classes': array([b'0'], dtype=object), 'all_class_ids': array([0, 1], dtype=int32), 'all_classes': array([b'0', b'1'], dtype=object)}, {'logits': array([2.3264303], dtype=float32), 'logistic': array([0.91104245], dtype=float32), 'probabilities': array([0.08895753, 0.9110424 ], dtype=float32), 'class_ids': array([1]), 'classes': array([b'1'], dtype=object), 'all_class_ids': array([0, 1], dtype=int32), 'all_classes': array([b'0', b'1'], dtype=object)}, {'logits': array([-1.2692215], dtype=float32), 'logistic': array([0.21939054], dtype=float32), 'probabilities': array([0.7806094 , 0.21939053], dtype=float32), 'class_ids': array([0]), 'classes': array([b'0'], dtype=object), 'all_class_ids': array([0, 1], dtype=int32), 'all_classes': array([b'0', b'1'], dtype=object)}, {'logits': array([0.46840385], dtype=float32), 'logistic': array([0.6150059], dtype=float32), 'probabilities': array([0.38499412, 0.6150059 ], dtype=float32), 'class_ids': array([1]), 'classes': array([b'1'], dtype=object), 'all_class_ids': array([0, 1], dtype=int32), 'all_classes': array([b'0', b'1'], dtype=object)}, {'logits': array([-1.2593614], dtype=float32), 'logistic': array([0.22108385], dtype=float32), 'probabilities': array([0.7789162 , 0.22108385], dtype=float32), 'class_ids': array([0]), 'classes': array([b'0'], dtype=object), 'all_class_ids': array([0, 1], dtype=int32), 'all_classes': array([b'0', b'1'], dtype=object)}, {'logits': array([-0.9755489], dtype=float32), 'logistic': array([0.27377588], dtype=float32), 'probabilities': array([0.7262242, 0.2737759], dtype=float32), 'class_ids': array([0]), 'classes': array([b'0'], dtype=object), 'all_class_ids': array([0, 1], dtype=int32), 'all_classes': array([b'0', b'1'], dtype=object)}, {'logits': array([1.6554368], dtype=float32), 'logistic': array([0.8396245], dtype=float32), 'probabilities': array([0.16037552, 0.8396245 ], dtype=float32), 'class_ids': array([1]), 'classes': array([b'1'], dtype=object), 'all_class_ids': array([0, 1], dtype=int32), 'all_classes': array([b'0', b'1'], dtype=object)}, {'logits': array([2.87951], dtype=float32), 'logistic': array([0.9468242], dtype=float32), 'probabilities': array([0.05317581, 0.94682425], dtype=float32), 'class_ids': array([1]), 'classes': array([b'1'], dtype=object), 'all_class_ids': array([0, 1], dtype=int32), 'all_classes': array([b'0', b'1'], dtype=object)}, {'logits': array([-0.4553235], dtype=float32), 'logistic': array([0.3880958], dtype=float32), 'probabilities': array([0.6119042 , 0.38809583], dtype=float32), 'class_ids': array([0]), 'classes': array([b'0'], dtype=object), 'all_class_ids': array([0, 1], dtype=int32), 'all_classes': array([b'0', b'1'], dtype=object)}, {'logits': array([1.3268975], dtype=float32), 'logistic': array([0.79032695], dtype=float32), 'probabilities': array([0.20967302, 0.79032695], dtype=float32), 'class_ids': array([1]), 'classes': array([b'1'], dtype=object), 'all_class_ids': array([0, 1], dtype=int32), 'all_classes': array([b'0', b'1'], dtype=object)}, {'logits': array([-1.2731453], dtype=float32), 'logistic': array([0.21871933], dtype=float32), 'probabilities': array([0.7812807 , 0.21871929], dtype=float32), 'class_ids': array([0]), 'classes': array([b'0'], dtype=object), 'all_class_ids': array([0, 1], dtype=int32), 'all_classes': array([b'0', b'1'], dtype=object)}, {'logits': array([-1.148768], dtype=float32), 'logistic': array([0.24071422], dtype=float32), 'probabilities': array([0.7592858 , 0.24071419], dtype=float32), 'class_ids': array([0]), 'classes': array([b'0'], dtype=object), 'all_class_ids': array([0, 1], dtype=int32), 'all_classes': array([b'0', b'1'], dtype=object)}, {'logits': array([-0.17114636], dtype=float32), 'logistic': array([0.45731753], dtype=float32), 'probabilities': array([0.54268247, 0.45731756], dtype=float32), 'class_ids': array([0]), 'classes': array([b'0'], dtype=object), 'all_class_ids': array([0, 1], dtype=int32), 'all_classes': array([b'0', b'1'], dtype=object)}, {'logits': array([-0.05735966], dtype=float32), 'logistic': array([0.485664], dtype=float32), 'probabilities': array([0.514336, 0.485664], dtype=float32), 'class_ids': array([0]), 'classes': array([b'0'], dtype=object), 'all_class_ids': array([0, 1], dtype=int32), 'all_classes': array([b'0', b'1'], dtype=object)}, {'logits': array([4.710516], dtype=float32), 'logistic': array([0.99108016], dtype=float32), 'probabilities': array([0.00891985, 0.9910801 ], dtype=float32), 'class_ids': array([1]), 'classes': array([b'1'], dtype=object), 'all_class_ids': array([0, 1], dtype=int32), 'all_classes': array([b'0', b'1'], dtype=object)}, {'logits': array([0.68421644], dtype=float32), 'logistic': array([0.6646791], dtype=float32), 'probabilities': array([0.3353209, 0.6646791], dtype=float32), 'class_ids': array([1]), 'classes': array([b'1'], dtype=object), 'all_class_ids': array([0, 1], dtype=int32), 'all_classes': array([b'0', b'1'], dtype=object)}, {'logits': array([-1.2734597], dtype=float32), 'logistic': array([0.21866557], dtype=float32), 'probabilities': array([0.7813344 , 0.21866558], dtype=float32), 'class_ids': array([0]), 'classes': array([b'0'], dtype=object), 'all_class_ids': array([0, 1], dtype=int32), 'all_classes': array([b'0', b'1'], dtype=object)}, {'logits': array([1.4337496], dtype=float32), 'logistic': array([0.80748487], dtype=float32), 'probabilities': array([0.19251513, 0.80748487], dtype=float32), 'class_ids': array([1]), 'classes': array([b'1'], dtype=object), 'all_class_ids': array([0, 1], dtype=int32), 'all_classes': array([b'0', b'1'], dtype=object)}, {'logits': array([1.743858], dtype=float32), 'logistic': array([0.85117644], dtype=float32), 'probabilities': array([0.14882357, 0.8511765 ], dtype=float32), 'class_ids': array([1]), 'classes': array([b'1'], dtype=object), 'all_class_ids': array([0, 1], dtype=int32), 'all_classes': array([b'0', b'1'], dtype=object)}, {'logits': array([1.7228707], dtype=float32), 'logistic': array([0.8484982], dtype=float32), 'probabilities': array([0.15150176, 0.8484982 ], dtype=float32), 'class_ids': array([1]), 'classes': array([b'1'], dtype=object), 'all_class_ids': array([0, 1], dtype=int32), 'all_classes': array([b'0', b'1'], dtype=object)}, {'logits': array([-0.3749874], dtype=float32), 'logistic': array([0.40733647], dtype=float32), 'probabilities': array([0.5926636 , 0.40733647], dtype=float32), 'class_ids': array([0]), 'classes': array([b'0'], dtype=object), 'all_class_ids': array([0, 1], dtype=int32), 'all_classes': array([b'0', b'1'], dtype=object)}, {'logits': array([2.5211668], dtype=float32), 'logistic': array([0.92561245], dtype=float32), 'probabilities': array([0.07438757, 0.92561245], dtype=float32), 'class_ids': array([1]), 'classes': array([b'1'], dtype=object), 'all_class_ids': array([0, 1], dtype=int32), 'all_classes': array([b'0', b'1'], dtype=object)}, {'logits': array([-0.64188296], dtype=float32), 'logistic': array([0.34482104], dtype=float32), 'probabilities': array([0.655179  , 0.34482104], dtype=float32), 'class_ids': array([0]), 'classes': array([b'0'], dtype=object), 'all_class_ids': array([0, 1], dtype=int32), 'all_classes': array([b'0', b'1'], dtype=object)}, {'logits': array([0.2830154], dtype=float32), 'logistic': array([0.5702853], dtype=float32), 'probabilities': array([0.42971468, 0.5702853 ], dtype=float32), 'class_ids': array([1]), 'classes': array([b'1'], dtype=object), 'all_class_ids': array([0, 1], dtype=int32), 'all_classes': array([b'0', b'1'], dtype=object)}, {'logits': array([3.5514312], dtype=float32), 'logistic': array([0.97211623], dtype=float32), 'probabilities': array([0.02788376, 0.97211623], dtype=float32), 'class_ids': array([1]), 'classes': array([b'1'], dtype=object), 'all_class_ids': array([0, 1], dtype=int32), 'all_classes': array([b'0', b'1'], dtype=object)}, {'logits': array([-0.3905647], dtype=float32), 'logistic': array([0.40358138], dtype=float32), 'probabilities': array([0.5964186 , 0.40358138], dtype=float32), 'class_ids': array([0]), 'classes': array([b'0'], dtype=object), 'all_class_ids': array([0, 1], dtype=int32), 'all_classes': array([b'0', b'1'], dtype=object)}, {'logits': array([-1.2685438], dtype=float32), 'logistic': array([0.21950665], dtype=float32), 'probabilities': array([0.7804934 , 0.21950662], dtype=float32), 'class_ids': array([0]), 'classes': array([b'0'], dtype=object), 'all_class_ids': array([0, 1], dtype=int32), 'all_classes': array([b'0', b'1'], dtype=object)}, {'logits': array([1.9589448], dtype=float32), 'logistic': array([0.8764187], dtype=float32), 'probabilities': array([0.12358129, 0.87641865], dtype=float32), 'class_ids': array([1]), 'classes': array([b'1'], dtype=object), 'all_class_ids': array([0, 1], dtype=int32), 'all_classes': array([b'0', b'1'], dtype=object)}, {'logits': array([1.7485083], dtype=float32), 'logistic': array([0.85176456], dtype=float32), 'probabilities': array([0.14823543, 0.8517645 ], dtype=float32), 'class_ids': array([1]), 'classes': array([b'1'], dtype=object), 'all_class_ids': array([0, 1], dtype=int32), 'all_classes': array([b'0', b'1'], dtype=object)}, {'logits': array([0.5498422], dtype=float32), 'logistic': array([0.634099], dtype=float32), 'probabilities': array([0.36590102, 0.63409895], dtype=float32), 'class_ids': array([1]), 'classes': array([b'1'], dtype=object), 'all_class_ids': array([0, 1], dtype=int32), 'all_classes': array([b'0', b'1'], dtype=object)}, {'logits': array([-1.4571371], dtype=float32), 'logistic': array([0.18890557], dtype=float32), 'probabilities': array([0.81109446, 0.1889056 ], dtype=float32), 'class_ids': array([0]), 'classes': array([b'0'], dtype=object), 'all_class_ids': array([0, 1], dtype=int32), 'all_classes': array([b'0', b'1'], dtype=object)}, {'logits': array([-0.64894634], dtype=float32), 'logistic': array([0.34322703], dtype=float32), 'probabilities': array([0.656773, 0.343227], dtype=float32), 'class_ids': array([0]), 'classes': array([b'0'], dtype=object), 'all_class_ids': array([0, 1], dtype=int32), 'all_classes': array([b'0', b'1'], dtype=object)}, {'logits': array([-0.3537896], dtype=float32), 'logistic': array([0.41246378], dtype=float32), 'probabilities': array([0.5875362 , 0.41246375], dtype=float32), 'class_ids': array([0]), 'classes': array([b'0'], dtype=object), 'all_class_ids': array([0, 1], dtype=int32), 'all_classes': array([b'0', b'1'], dtype=object)}, {'logits': array([-1.2593614], dtype=float32), 'logistic': array([0.22108385], dtype=float32), 'probabilities': array([0.7789162 , 0.22108385], dtype=float32), 'class_ids': array([0]), 'classes': array([b'0'], dtype=object), 'all_class_ids': array([0, 1], dtype=int32), 'all_classes': array([b'0', b'1'], dtype=object)}, {'logits': array([-0.8848438], dtype=float32), 'logistic': array([0.29217505], dtype=float32), 'probabilities': array([0.707825  , 0.29217505], dtype=float32), 'class_ids': array([0]), 'classes': array([b'0'], dtype=object), 'all_class_ids': array([0, 1], dtype=int32), 'all_classes': array([b'0', b'1'], dtype=object)}, {'logits': array([6.8261], dtype=float32), 'logistic': array([0.99891615], dtype=float32), 'probabilities': array([0.00108391, 0.99891615], dtype=float32), 'class_ids': array([1]), 'classes': array([b'1'], dtype=object), 'all_class_ids': array([0, 1], dtype=int32), 'all_classes': array([b'0', b'1'], dtype=object)}, {'logits': array([2.1506839], dtype=float32), 'logistic': array([0.8957327], dtype=float32), 'probabilities': array([0.10426734, 0.89573264], dtype=float32), 'class_ids': array([1]), 'classes': array([b'1'], dtype=object), 'all_class_ids': array([0, 1], dtype=int32), 'all_classes': array([b'0', b'1'], dtype=object)}, {'logits': array([-1.1871531], dtype=float32), 'logistic': array([0.2337685], dtype=float32), 'probabilities': array([0.76623154, 0.2337685 ], dtype=float32), 'class_ids': array([0]), 'classes': array([b'0'], dtype=object), 'all_class_ids': array([0, 1], dtype=int32), 'all_classes': array([b'0', b'1'], dtype=object)}, {'logits': array([2.3611264], dtype=float32), 'logistic': array([0.9138146], dtype=float32), 'probabilities': array([0.08618544, 0.91381454], dtype=float32), 'class_ids': array([1]), 'classes': array([b'1'], dtype=object), 'all_class_ids': array([0, 1], dtype=int32), 'all_classes': array([b'0', b'1'], dtype=object)}, {'logits': array([1.1518987], dtype=float32), 'logistic': array([0.75985754], dtype=float32), 'probabilities': array([0.24014246, 0.7598576 ], dtype=float32), 'class_ids': array([1]), 'classes': array([b'1'], dtype=object), 'all_class_ids': array([0, 1], dtype=int32), 'all_classes': array([b'0', b'1'], dtype=object)}, {'logits': array([-0.36133143], dtype=float32), 'logistic': array([0.41063732], dtype=float32), 'probabilities': array([0.5893627, 0.4106373], dtype=float32), 'class_ids': array([0]), 'classes': array([b'0'], dtype=object), 'all_class_ids': array([0, 1], dtype=int32), 'all_classes': array([b'0', b'1'], dtype=object)}, {'logits': array([-1.2034582], dtype=float32), 'logistic': array([0.23086059], dtype=float32), 'probabilities': array([0.7691394 , 0.23086059], dtype=float32), 'class_ids': array([0]), 'classes': array([b'0'], dtype=object), 'all_class_ids': array([0, 1], dtype=int32), 'all_classes': array([b'0', b'1'], dtype=object)}, {'logits': array([-0.36980757], dtype=float32), 'logistic': array([0.40858752], dtype=float32), 'probabilities': array([0.5914125 , 0.40858752], dtype=float32), 'class_ids': array([0]), 'classes': array([b'0'], dtype=object), 'all_class_ids': array([0, 1], dtype=int32), 'all_classes': array([b'0', b'1'], dtype=object)}, {'logits': array([-1.2614242], dtype=float32), 'logistic': array([0.22072884], dtype=float32), 'probabilities': array([0.7792712 , 0.22072881], dtype=float32), 'class_ids': array([0]), 'classes': array([b'0'], dtype=object), 'all_class_ids': array([0, 1], dtype=int32), 'all_classes': array([b'0', b'1'], dtype=object)}, {'logits': array([1.7424749], dtype=float32), 'logistic': array([0.85100114], dtype=float32), 'probabilities': array([0.14899886, 0.8510012 ], dtype=float32), 'class_ids': array([1]), 'classes': array([b'1'], dtype=object), 'all_class_ids': array([0, 1], dtype=int32), 'all_classes': array([b'0', b'1'], dtype=object)}, {'logits': array([-1.1452363], dtype=float32), 'logistic': array([0.24136028], dtype=float32), 'probabilities': array([0.75863975, 0.24136028], dtype=float32), 'class_ids': array([0]), 'classes': array([b'0'], dtype=object), 'all_class_ids': array([0, 1], dtype=int32), 'all_classes': array([b'0', b'1'], dtype=object)}, {'logits': array([1.8763201], dtype=float32), 'logistic': array([0.8671879], dtype=float32), 'probabilities': array([0.13281213, 0.86718786], dtype=float32), 'class_ids': array([1]), 'classes': array([b'1'], dtype=object), 'all_class_ids': array([0, 1], dtype=int32), 'all_classes': array([b'0', b'1'], dtype=object)}, {'logits': array([0.8964657], dtype=float32), 'logistic': array([0.71022266], dtype=float32), 'probabilities': array([0.28977734, 0.71022266], dtype=float32), 'class_ids': array([1]), 'classes': array([b'1'], dtype=object), 'all_class_ids': array([0, 1], dtype=int32), 'all_classes': array([b'0', b'1'], dtype=object)}, {'logits': array([-1.2673686], dtype=float32), 'logistic': array([0.21970806], dtype=float32), 'probabilities': array([0.7802919 , 0.21970804], dtype=float32), 'class_ids': array([0]), 'classes': array([b'0'], dtype=object), 'all_class_ids': array([0, 1], dtype=int32), 'all_classes': array([b'0', b'1'], dtype=object)}, {'logits': array([-0.9745237], dtype=float32), 'logistic': array([0.27397978], dtype=float32), 'probabilities': array([0.7260203 , 0.27397975], dtype=float32), 'class_ids': array([0]), 'classes': array([b'0'], dtype=object), 'all_class_ids': array([0, 1], dtype=int32), 'all_classes': array([b'0', b'1'], dtype=object)}, {'logits': array([2.3465211], dtype=float32), 'logistic': array([0.9126573], dtype=float32), 'probabilities': array([0.08734269, 0.9126574 ], dtype=float32), 'class_ids': array([1]), 'classes': array([b'1'], dtype=object), 'all_class_ids': array([0, 1], dtype=int32), 'all_classes': array([b'0', b'1'], dtype=object)}, {'logits': array([1.3242995], dtype=float32), 'logistic': array([0.78989613], dtype=float32), 'probabilities': array([0.21010385, 0.7898961 ], dtype=float32), 'class_ids': array([1]), 'classes': array([b'1'], dtype=object), 'all_class_ids': array([0, 1], dtype=int32), 'all_classes': array([b'0', b'1'], dtype=object)}, {'logits': array([-0.9741362], dtype=float32), 'logistic': array([0.27405685], dtype=float32), 'probabilities': array([0.72594315, 0.27405685], dtype=float32), 'class_ids': array([0]), 'classes': array([b'0'], dtype=object), 'all_class_ids': array([0, 1], dtype=int32), 'all_classes': array([b'0', b'1'], dtype=object)}, {'logits': array([-0.24887577], dtype=float32), 'logistic': array([0.43810025], dtype=float32), 'probabilities': array([0.5618997 , 0.43810022], dtype=float32), 'class_ids': array([0]), 'classes': array([b'0'], dtype=object), 'all_class_ids': array([0, 1], dtype=int32), 'all_classes': array([b'0', b'1'], dtype=object)}, {'logits': array([-0.39996746], dtype=float32), 'logistic': array([0.40132016], dtype=float32), 'probabilities': array([0.59867984, 0.40132016], dtype=float32), 'class_ids': array([0]), 'classes': array([b'0'], dtype=object), 'all_class_ids': array([0, 1], dtype=int32), 'all_classes': array([b'0', b'1'], dtype=object)}, {'logits': array([4.342388], dtype=float32), 'logistic': array([0.9871615], dtype=float32), 'probabilities': array([0.01283846, 0.9871616 ], dtype=float32), 'class_ids': array([1]), 'classes': array([b'1'], dtype=object), 'all_class_ids': array([0, 1], dtype=int32), 'all_classes': array([b'0', b'1'], dtype=object)}, {'logits': array([4.7101064], dtype=float32), 'logistic': array([0.9910766], dtype=float32), 'probabilities': array([0.00892347, 0.99107647], dtype=float32), 'class_ids': array([1]), 'classes': array([b'1'], dtype=object), 'all_class_ids': array([0, 1], dtype=int32), 'all_classes': array([b'0', b'1'], dtype=object)}, {'logits': array([-1.2766944], dtype=float32), 'logistic': array([0.21811345], dtype=float32), 'probabilities': array([0.7818866 , 0.21811344], dtype=float32), 'class_ids': array([0]), 'classes': array([b'0'], dtype=object), 'all_class_ids': array([0, 1], dtype=int32), 'all_classes': array([b'0', b'1'], dtype=object)}, {'logits': array([1.7438407], dtype=float32), 'logistic': array([0.85117424], dtype=float32), 'probabilities': array([0.14882575, 0.85117424], dtype=float32), 'class_ids': array([1]), 'classes': array([b'1'], dtype=object), 'all_class_ids': array([0, 1], dtype=int32), 'all_classes': array([b'0', b'1'], dtype=object)}, {'logits': array([-1.246908], dtype=float32), 'logistic': array([0.22323585], dtype=float32), 'probabilities': array([0.77676415, 0.22323585], dtype=float32), 'class_ids': array([0]), 'classes': array([b'0'], dtype=object), 'all_class_ids': array([0, 1], dtype=int32), 'all_classes': array([b'0', b'1'], dtype=object)}, {'logits': array([-0.64753366], dtype=float32), 'logistic': array([0.34354556], dtype=float32), 'probabilities': array([0.65645444, 0.34354553], dtype=float32), 'class_ids': array([0]), 'classes': array([b'0'], dtype=object), 'all_class_ids': array([0, 1], dtype=int32), 'all_classes': array([b'0', b'1'], dtype=object)}, {'logits': array([2.5271664], dtype=float32), 'logistic': array([0.9260245], dtype=float32), 'probabilities': array([0.07397553, 0.9260245 ], dtype=float32), 'class_ids': array([1]), 'classes': array([b'1'], dtype=object), 'all_class_ids': array([0, 1], dtype=int32), 'all_classes': array([b'0', b'1'], dtype=object)}, {'logits': array([-0.9757374], dtype=float32), 'logistic': array([0.27373844], dtype=float32), 'probabilities': array([0.7262616, 0.2737384], dtype=float32), 'class_ids': array([0]), 'classes': array([b'0'], dtype=object), 'all_class_ids': array([0, 1], dtype=int32), 'all_classes': array([b'0', b'1'], dtype=object)}, {'logits': array([6.2057824], dtype=float32), 'logistic': array([0.9979863], dtype=float32), 'probabilities': array([0.00201367, 0.9979863 ], dtype=float32), 'class_ids': array([1]), 'classes': array([b'1'], dtype=object), 'all_class_ids': array([0, 1], dtype=int32), 'all_classes': array([b'0', b'1'], dtype=object)}, {'logits': array([2.0636785], dtype=float32), 'logistic': array([0.8873225], dtype=float32), 'probabilities': array([0.11267752, 0.8873224 ], dtype=float32), 'class_ids': array([1]), 'classes': array([b'1'], dtype=object), 'all_class_ids': array([0, 1], dtype=int32), 'all_classes': array([b'0', b'1'], dtype=object)}, {'logits': array([-1.2803754], dtype=float32), 'logistic': array([0.21748635], dtype=float32), 'probabilities': array([0.78251374, 0.21748635], dtype=float32), 'class_ids': array([0]), 'classes': array([b'0'], dtype=object), 'all_class_ids': array([0, 1], dtype=int32), 'all_classes': array([b'0', b'1'], dtype=object)}, {'logits': array([1.4382483], dtype=float32), 'logistic': array([0.80818325], dtype=float32), 'probabilities': array([0.19181676, 0.8081832 ], dtype=float32), 'class_ids': array([1]), 'classes': array([b'1'], dtype=object), 'all_class_ids': array([0, 1], dtype=int32), 'all_classes': array([b'0', b'1'], dtype=object)}, {'logits': array([-1.3234124], dtype=float32), 'logistic': array([0.21025115], dtype=float32), 'probabilities': array([0.78974885, 0.21025111], dtype=float32), 'class_ids': array([0]), 'classes': array([b'0'], dtype=object), 'all_class_ids': array([0, 1], dtype=int32), 'all_classes': array([b'0', b'1'], dtype=object)}, {'logits': array([-0.6653664], dtype=float32), 'logistic': array([0.33953518], dtype=float32), 'probabilities': array([0.6604649 , 0.33953518], dtype=float32), 'class_ids': array([0]), 'classes': array([b'0'], dtype=object), 'all_class_ids': array([0, 1], dtype=int32), 'all_classes': array([b'0', b'1'], dtype=object)}, {'logits': array([-1.2835817], dtype=float32), 'logistic': array([0.21694115], dtype=float32), 'probabilities': array([0.7830588 , 0.21694113], dtype=float32), 'class_ids': array([0]), 'classes': array([b'0'], dtype=object), 'all_class_ids': array([0, 1], dtype=int32), 'all_classes': array([b'0', b'1'], dtype=object)}, {'logits': array([1.4424597], dtype=float32), 'logistic': array([0.80883527], dtype=float32), 'probabilities': array([0.19116473, 0.8088352 ], dtype=float32), 'class_ids': array([1]), 'classes': array([b'1'], dtype=object), 'all_class_ids': array([0, 1], dtype=int32), 'all_classes': array([b'0', b'1'], dtype=object)}, {'logits': array([0.87741584], dtype=float32), 'logistic': array([0.70628643], dtype=float32), 'probabilities': array([0.29371357, 0.70628643], dtype=float32), 'class_ids': array([1]), 'classes': array([b'1'], dtype=object), 'all_class_ids': array([0, 1], dtype=int32), 'all_classes': array([b'0', b'1'], dtype=object)}, {'logits': array([-1.2839663], dtype=float32), 'logistic': array([0.21687585], dtype=float32), 'probabilities': array([0.78312415, 0.21687582], dtype=float32), 'class_ids': array([0]), 'classes': array([b'0'], dtype=object), 'all_class_ids': array([0, 1], dtype=int32), 'all_classes': array([b'0', b'1'], dtype=object)}, {'logits': array([-0.16643748], dtype=float32), 'logistic': array([0.45848644], dtype=float32), 'probabilities': array([0.5415136, 0.4584864], dtype=float32), 'class_ids': array([0]), 'classes': array([b'0'], dtype=object), 'all_class_ids': array([0, 1], dtype=int32), 'all_classes': array([b'0', b'1'], dtype=object)}, {'logits': array([2.413201], dtype=float32), 'logistic': array([0.91782844], dtype=float32), 'probabilities': array([0.08217157, 0.91782844], dtype=float32), 'class_ids': array([1]), 'classes': array([b'1'], dtype=object), 'all_class_ids': array([0, 1], dtype=int32), 'all_classes': array([b'0', b'1'], dtype=object)}, {'logits': array([0.33120218], dtype=float32), 'logistic': array([0.5820519], dtype=float32), 'probabilities': array([0.4179482, 0.5820519], dtype=float32), 'class_ids': array([1]), 'classes': array([b'1'], dtype=object), 'all_class_ids': array([0, 1], dtype=int32), 'all_classes': array([b'0', b'1'], dtype=object)}, {'logits': array([4.433586], dtype=float32), 'logistic': array([0.9882674], dtype=float32), 'probabilities': array([0.01173255, 0.9882675 ], dtype=float32), 'class_ids': array([1]), 'classes': array([b'1'], dtype=object), 'all_class_ids': array([0, 1], dtype=int32), 'all_classes': array([b'0', b'1'], dtype=object)}, {'logits': array([-0.18469456], dtype=float32), 'logistic': array([0.45395717], dtype=float32), 'probabilities': array([0.5460428 , 0.45395717], dtype=float32), 'class_ids': array([0]), 'classes': array([b'0'], dtype=object), 'all_class_ids': array([0, 1], dtype=int32), 'all_classes': array([b'0', b'1'], dtype=object)}, {'logits': array([-0.5342688], dtype=float32), 'logistic': array([0.36952183], dtype=float32), 'probabilities': array([0.6304782, 0.3695218], dtype=float32), 'class_ids': array([0]), 'classes': array([b'0'], dtype=object), 'all_class_ids': array([0, 1], dtype=int32), 'all_classes': array([b'0', b'1'], dtype=object)}, {'logits': array([-1.2725484], dtype=float32), 'logistic': array([0.21882135], dtype=float32), 'probabilities': array([0.7811787 , 0.21882133], dtype=float32), 'class_ids': array([0]), 'classes': array([b'0'], dtype=object), 'all_class_ids': array([0, 1], dtype=int32), 'all_classes': array([b'0', b'1'], dtype=object)}, {'logits': array([-1.2628368], dtype=float32), 'logistic': array([0.22048593], dtype=float32), 'probabilities': array([0.7795141 , 0.22048596], dtype=float32), 'class_ids': array([0]), 'classes': array([b'0'], dtype=object), 'all_class_ids': array([0, 1], dtype=int32), 'all_classes': array([b'0', b'1'], dtype=object)}, {'logits': array([-1.2493826], dtype=float32), 'logistic': array([0.22280705], dtype=float32), 'probabilities': array([0.77719295, 0.22280703], dtype=float32), 'class_ids': array([0]), 'classes': array([b'0'], dtype=object), 'all_class_ids': array([0, 1], dtype=int32), 'all_classes': array([b'0', b'1'], dtype=object)}, {'logits': array([2.2967162], dtype=float32), 'logistic': array([0.90860474], dtype=float32), 'probabilities': array([0.09139529, 0.90860474], dtype=float32), 'class_ids': array([1]), 'classes': array([b'1'], dtype=object), 'all_class_ids': array([0, 1], dtype=int32), 'all_classes': array([b'0', b'1'], dtype=object)}, {'logits': array([2.6328402], dtype=float32), 'logistic': array([0.9329455], dtype=float32), 'probabilities': array([0.06705455, 0.93294543], dtype=float32), 'class_ids': array([1]), 'classes': array([b'1'], dtype=object), 'all_class_ids': array([0, 1], dtype=int32), 'all_classes': array([b'0', b'1'], dtype=object)}, {'logits': array([-0.6474703], dtype=float32), 'logistic': array([0.34355983], dtype=float32), 'probabilities': array([0.65644014, 0.3435598 ], dtype=float32), 'class_ids': array([0]), 'classes': array([b'0'], dtype=object), 'all_class_ids': array([0, 1], dtype=int32), 'all_classes': array([b'0', b'1'], dtype=object)}, {'logits': array([-0.314917], dtype=float32), 'logistic': array([0.42191502], dtype=float32), 'probabilities': array([0.578085  , 0.42191502], dtype=float32), 'class_ids': array([0]), 'classes': array([b'0'], dtype=object), 'all_class_ids': array([0, 1], dtype=int32), 'all_classes': array([b'0', b'1'], dtype=object)}, {'logits': array([3.562693], dtype=float32), 'logistic': array([0.9724199], dtype=float32), 'probabilities': array([0.0275801 , 0.97241986], dtype=float32), 'class_ids': array([1]), 'classes': array([b'1'], dtype=object), 'all_class_ids': array([0, 1], dtype=int32), 'all_classes': array([b'0', b'1'], dtype=object)}, {'logits': array([1.4411256], dtype=float32), 'logistic': array([0.8086289], dtype=float32), 'probabilities': array([0.1913711, 0.8086289], dtype=float32), 'class_ids': array([1]), 'classes': array([b'1'], dtype=object), 'all_class_ids': array([0, 1], dtype=int32), 'all_classes': array([b'0', b'1'], dtype=object)}, {'logits': array([-1.2450243], dtype=float32), 'logistic': array([0.22356266], dtype=float32), 'probabilities': array([0.77643734, 0.22356264], dtype=float32), 'class_ids': array([0]), 'classes': array([b'0'], dtype=object), 'all_class_ids': array([0, 1], dtype=int32), 'all_classes': array([b'0', b'1'], dtype=object)}, {'logits': array([4.558439], dtype=float32), 'logistic': array([0.98963034], dtype=float32), 'probabilities': array([0.01036975, 0.9896303 ], dtype=float32), 'class_ids': array([1]), 'classes': array([b'1'], dtype=object), 'all_class_ids': array([0, 1], dtype=int32), 'all_classes': array([b'0', b'1'], dtype=object)}, {'logits': array([2.515926], dtype=float32), 'logistic': array([0.92525077], dtype=float32), 'probabilities': array([0.07474922, 0.9252507 ], dtype=float32), 'class_ids': array([1]), 'classes': array([b'1'], dtype=object), 'all_class_ids': array([0, 1], dtype=int32), 'all_classes': array([b'0', b'1'], dtype=object)}, {'logits': array([-1.2668672], dtype=float32), 'logistic': array([0.21979403], dtype=float32), 'probabilities': array([0.780206  , 0.21979402], dtype=float32), 'class_ids': array([0]), 'classes': array([b'0'], dtype=object), 'all_class_ids': array([0, 1], dtype=int32), 'all_classes': array([b'0', b'1'], dtype=object)}, {'logits': array([1.7069408], dtype=float32), 'logistic': array([0.8464391], dtype=float32), 'probabilities': array([0.15356094, 0.84643906], dtype=float32), 'class_ids': array([1]), 'classes': array([b'1'], dtype=object), 'all_class_ids': array([0, 1], dtype=int32), 'all_classes': array([b'0', b'1'], dtype=object)}, {'logits': array([-0.37310383], dtype=float32), 'logistic': array([0.40779126], dtype=float32), 'probabilities': array([0.59220874, 0.40779123], dtype=float32), 'class_ids': array([0]), 'classes': array([b'0'], dtype=object), 'all_class_ids': array([0, 1], dtype=int32), 'all_classes': array([b'0', b'1'], dtype=object)}, {'logits': array([1.0486034], dtype=float32), 'logistic': array([0.7405066], dtype=float32), 'probabilities': array([0.25949338, 0.74050665], dtype=float32), 'class_ids': array([1]), 'classes': array([b'1'], dtype=object), 'all_class_ids': array([0, 1], dtype=int32), 'all_classes': array([b'0', b'1'], dtype=object)}]\n",
            "\n",
            "\n",
            "{'logits': array([3.0980394], dtype=float32), 'logistic': array([0.9568118], dtype=float32), 'probabilities': array([0.0431882, 0.9568118], dtype=float32), 'class_ids': array([1]), 'classes': array([b'1'], dtype=object), 'all_class_ids': array([0, 1], dtype=int32), 'all_classes': array([b'0', b'1'], dtype=object)}\n",
            "\n",
            "\n",
            "[0.0431882 0.9568118]\n",
            "\n",
            "\n",
            "female 58.0 0 0 26.55 First C Southampton y\n",
            "\n",
            "\n",
            "person number 2 actual stat in survival is 1 and predicted is 0.956811785697937\n",
            "\n",
            "\n"
          ]
        },
        {
          "output_type": "execute_result",
          "data": {
            "text/plain": [
              "<matplotlib.axes._subplots.AxesSubplot at 0x7f10dc290c50>"
            ]
          },
          "metadata": {},
          "execution_count": 41
        },
        {
          "output_type": "display_data",
          "data": {
            "text/plain": [
              "<Figure size 432x288 with 1 Axes>"
            ],
            "image/png": "[encoded data removed]"
          },
          "metadata": {
            "needs_background": "light"
          }
        }
      ]
    },
    {
      "cell_type": "code",
      "source": [],
      "metadata": {
        "id": "sZWHuZLfBz92"
      },
      "execution_count": null,
      "outputs": []
    },
    {
      "cell_type": "markdown",
      "source": [
        "###CLASSIFICATION\n",
        "the grouping of data points. In theory, data points that are in the same group should have similar properties and/or features, while data points in different groups should have highly dissimilar properties and/or features.\n",
        "\n",
        "the model gives a percentage of the probabilty of each data point being in each class"
      ],
      "metadata": {
        "id": "GpGqMy7GF7Iw"
      }
    },
    {
      "cell_type": "code",
      "source": [
        "%tensorflow_version 2.x  # this line is not required unless you are in a notebook\n",
        "\n",
        "from __future__ import absolute_import, division, print_function, unicode_literals\n",
        "\n",
        "import tensorflow as tf\n",
        "\n",
        "import pandas as pd"
      ],
      "metadata": {
        "id": "mRLC8dY8GDhu",
        "colab": {
          "base_uri": "https://localhost:8080/"
        },
        "outputId": "fb167c06-c9d7-440b-b0f0-f83bd7221ac0"
      },
      "execution_count": null,
      "outputs": [
        {
          "output_type": "stream",
          "name": "stdout",
          "text": [
            "`%tensorflow_version` only switches the major version: 1.x or 2.x.\n",
            "You set: `2.x  # this line is not required unless you are in a notebook`. This will be interpreted as: `2.x`.\n",
            "\n",
            "\n",
            "TensorFlow is already loaded. Please restart the runtime to change versions.\n"
          ]
        }
      ]
    },
    {
      "cell_type": "markdown",
      "source": [
        "####Dataset\n",
        "This specific dataset seperates flowers into 3 different classes of species.\n",
        "- Setosa\n",
        "- Versicolor\n",
        "- Virginica\n",
        "\n",
        "The information about each flower is the following.\n",
        "- sepal length\n",
        "- sepal width\n",
        "- petal length\n",
        "- petal width"
      ],
      "metadata": {
        "id": "l0UXVaSey3Yn"
      }
    },
    {
      "cell_type": "code",
      "source": [
        "# FOR THIS PARTICULAR DATASET, WE DON'T HAVE A HEADER ROW AND THE SPECIES COLUMNS IS NUMERIC VALUES INSTEAD OF CATEGORICAL\n",
        "# SO, WE NEED TO ASSIGN EACH COLUMN A NAME AND EACH SPECIES A NAME\n",
        "\n",
        "CSV_COLUMN_NAMES = ['SepalLength', 'SepalWidth', 'PetalLength', 'PetalWidth', 'Species']\n",
        "SPECIES = ['Setosa', 'Versicolor', 'Virginica']\n",
        "\n",
        "# HERE WE DOWNLOAD THE CSV FILE FROM THE LINK AND SAVE IT WITH A NAME ****.csv\n",
        "train_path = tf.keras.utils.get_file(\n",
        "    \"iris_training.csv\", \"https://storage.googleapis.com/download.tensorflow.org/data/iris_training.csv\")\n",
        "test_path = tf.keras.utils.get_file(\n",
        "    \"iris_test.csv\", \"https://storage.googleapis.com/download.tensorflow.org/data/iris_test.csv\")\n",
        "\n",
        "# HERE WE ADD THE TOP ROW THAT CONTAINS COLUMN NAMES\n",
        "# TRAINING FEATURES:\n",
        "train = pd.read_csv(train_path, names = CSV_COLUMN_NAMES, header = 0)\n",
        "# TESTING FEATURES:\n",
        "test = pd.read_csv(test_path, names = CSV_COLUMN_NAMES, header = 0)"
      ],
      "metadata": {
        "id": "uERTcU9ry7q0"
      },
      "execution_count": null,
      "outputs": []
    },
    {
      "cell_type": "code",
      "source": [
        "train.head()"
      ],
      "metadata": {
        "colab": {
          "base_uri": "https://localhost:8080/",
          "height": 206
        },
        "id": "Lgh50I2G1DMb",
        "outputId": "5ef76d28-931b-466f-f1fa-818fb0d7e85d"
      },
      "execution_count": null,
      "outputs": [
        {
          "output_type": "execute_result",
          "data": {
            "text/plain": [
              "   SepalLength  SepalWidth  PetalLength  PetalWidth  Species\n",
              "0          6.4         2.8          5.6         2.2        2\n",
              "1          5.0         2.3          3.3         1.0        1\n",
              "2          4.9         2.5          4.5         1.7        2\n",
              "3          4.9         3.1          1.5         0.1        0\n",
              "4          5.7         3.8          1.7         0.3        0"
            ],
            "text/html": [
              "\n",
              "  <div id=\"df-99f5b9e9-5545-4d0f-854a-f8ce3efc6e8c\">\n",
              "    <div class=\"colab-df-container\">\n",
              "      <div>\n",
              "<style scoped>\n",
              "    .dataframe tbody tr th:only-of-type {\n",
              "        vertical-align: middle;\n",
              "    }\n",
              "\n",
              "    .dataframe tbody tr th {\n",
              "        vertical-align: top;\n",
              "    }\n",
              "\n",
              "    .dataframe thead th {\n",
              "        text-align: right;\n",
              "    }\n",
              "</style>\n",
              "<table border=\"1\" class=\"dataframe\">\n",
              "  <thead>\n",
              "    <tr style=\"text-align: right;\">\n",
              "      <th></th>\n",
              "      <th>SepalLength</th>\n",
              "      <th>SepalWidth</th>\n",
              "      <th>PetalLength</th>\n",
              "      <th>PetalWidth</th>\n",
              "      <th>Species</th>\n",
              "    </tr>\n",
              "  </thead>\n",
              "  <tbody>\n",
              "    <tr>\n",
              "      <th>0</th>\n",
              "      <td>6.4</td>\n",
              "      <td>2.8</td>\n",
              "      <td>5.6</td>\n",
              "      <td>2.2</td>\n",
              "      <td>2</td>\n",
              "    </tr>\n",
              "    <tr>\n",
              "      <th>1</th>\n",
              "      <td>5.0</td>\n",
              "      <td>2.3</td>\n",
              "      <td>3.3</td>\n",
              "      <td>1.0</td>\n",
              "      <td>1</td>\n",
              "    </tr>\n",
              "    <tr>\n",
              "      <th>2</th>\n",
              "      <td>4.9</td>\n",
              "      <td>2.5</td>\n",
              "      <td>4.5</td>\n",
              "      <td>1.7</td>\n",
              "      <td>2</td>\n",
              "    </tr>\n",
              "    <tr>\n",
              "      <th>3</th>\n",
              "      <td>4.9</td>\n",
              "      <td>3.1</td>\n",
              "      <td>1.5</td>\n",
              "      <td>0.1</td>\n",
              "      <td>0</td>\n",
              "    </tr>\n",
              "    <tr>\n",
              "      <th>4</th>\n",
              "      <td>5.7</td>\n",
              "      <td>3.8</td>\n",
              "      <td>1.7</td>\n",
              "      <td>0.3</td>\n",
              "      <td>0</td>\n",
              "    </tr>\n",
              "  </tbody>\n",
              "</table>\n",
              "</div>\n",
              "      <button class=\"colab-df-convert\" onclick=\"convertToInteractive('df-99f5b9e9-5545-4d0f-854a-f8ce3efc6e8c')\"\n",
              "              title=\"Convert this dataframe to an interactive table.\"\n",
              "              style=\"display:none;\">\n",
              "        \n",
              "  <svg xmlns=\"http://www.w3.org/2000/svg\" height=\"24px\"viewBox=\"0 0 24 24\"\n",
              "       width=\"24px\">\n",
              "    <path d=\"M0 0h24v24H0V0z\" fill=\"none\"/>\n",
              "    <path d=\"M18.56 5.44l.94 2.06.94-2.06 2.06-.94-2.06-.94-.94-2.06-.94 2.06-2.06.94zm-11 1L8.5 8.5l.94-2.06 2.06-.94-2.06-.94L8.5 2.5l-.94 2.06-2.06.94zm10 10l.94 2.06.94-2.06 2.06-.94-2.06-.94-.94-2.06-.94 2.06-2.06.94z\"/><path d=\"M17.41 7.96l-1.37-1.37c-.4-.4-.92-.59-1.43-.59-.52 0-1.04.2-1.43.59L10.3 9.45l-7.72 7.72c-.78.78-.78 2.05 0 2.83L4 21.41c.39.39.9.59 1.41.59.51 0 1.02-.2 1.41-.59l7.78-7.78 2.81-2.81c.8-.78.8-2.07 0-2.86zM5.41 20L4 18.59l7.72-7.72 1.47 1.35L5.41 20z\"/>\n",
              "  </svg>\n",
              "      </button>\n",
              "      \n",
              "  <style>\n",
              "    .colab-df-container {\n",
              "      display:flex;\n",
              "      flex-wrap:wrap;\n",
              "      gap: 12px;\n",
              "    }\n",
              "\n",
              "    .colab-df-convert {\n",
              "      background-color: #E8F0FE;\n",
              "      border: none;\n",
              "      border-radius: 50%;\n",
              "      cursor: pointer;\n",
              "      display: none;\n",
              "      fill: #1967D2;\n",
              "      height: 32px;\n",
              "      padding: 0 0 0 0;\n",
              "      width: 32px;\n",
              "    }\n",
              "\n",
              "    .colab-df-convert:hover {\n",
              "      background-color: #E2EBFA;\n",
              "      box-shadow: 0px 1px 2px rgba(60, 64, 67, 0.3), 0px 1px 3px 1px rgba(60, 64, 67, 0.15);\n",
              "      fill: #174EA6;\n",
              "    }\n",
              "\n",
              "    [theme=dark] .colab-df-convert {\n",
              "      background-color: #3B4455;\n",
              "      fill: #D2E3FC;\n",
              "    }\n",
              "\n",
              "    [theme=dark] .colab-df-convert:hover {\n",
              "      background-color: #434B5C;\n",
              "      box-shadow: 0px 1px 3px 1px rgba(0, 0, 0, 0.15);\n",
              "      filter: drop-shadow(0px 1px 2px rgba(0, 0, 0, 0.3));\n",
              "      fill: #FFFFFF;\n",
              "    }\n",
              "  </style>\n",
              "\n",
              "      <script>\n",
              "        const buttonEl =\n",
              "          document.querySelector('#df-99f5b9e9-5545-4d0f-854a-f8ce3efc6e8c button.colab-df-convert');\n",
              "        buttonEl.style.display =\n",
              "          google.colab.kernel.accessAllowed ? 'block' : 'none';\n",
              "\n",
              "        async function convertToInteractive(key) {\n",
              "          const element = document.querySelector('#df-99f5b9e9-5545-4d0f-854a-f8ce3efc6e8c');\n",
              "          const dataTable =\n",
              "            await google.colab.kernel.invokeFunction('convertToInteractive',\n",
              "                                                     [key], {});\n",
              "          if (!dataTable) return;\n",
              "\n",
              "          const docLinkHtml = 'Like what you see? Visit the ' +\n",
              "            '<a target=\"_blank\" href=https://colab.research.google.com/notebooks/data_table.ipynb>data table notebook</a>'\n",
              "            + ' to learn more about interactive tables.';\n",
              "          element.innerHTML = '';\n",
              "          dataTable['output_type'] = 'display_data';\n",
              "          await google.colab.output.renderOutput(dataTable, element);\n",
              "          const docLink = document.createElement('div');\n",
              "          docLink.innerHTML = docLinkHtml;\n",
              "          element.appendChild(docLink);\n",
              "        }\n",
              "      </script>\n",
              "    </div>\n",
              "  </div>\n",
              "  "
            ]
          },
          "metadata": {},
          "execution_count": 26
        }
      ]
    },
    {
      "cell_type": "code",
      "source": [
        "# REMEMBER WE NEED TO SEPARATE THE LABELS COLUMNS:\n",
        "\n",
        "# TRAINING LABELS:\n",
        "train_y = train.pop('Species')\n",
        "# TESTING LABELS\n",
        "test_y = test.pop('Species')\n",
        "\n",
        "train.shape  # we have 120 entires with 4 features"
      ],
      "metadata": {
        "colab": {
          "base_uri": "https://localhost:8080/"
        },
        "id": "vu4Wu7su3h8c",
        "outputId": "e538d1ca-9863-4cef-e1be-198d942cfb51"
      },
      "execution_count": null,
      "outputs": [
        {
          "output_type": "execute_result",
          "data": {
            "text/plain": [
              "(120, 4)"
            ]
          },
          "metadata": {},
          "execution_count": 27
        }
      ]
    },
    {
      "cell_type": "code",
      "source": [
        "# LETS MAKE AN INPUT FUNC:\n",
        "## REMEMBER THE INNER INPUT FUNC RETURNS BATCHES\n",
        "def input_fn(features, labels, training = True, batch_size = 256):\n",
        "    # Convert the inputs to a Dataset.\n",
        "    dataset = tf.data.Dataset.from_tensor_slices((dict(features), labels))\n",
        "\n",
        "    # Shuffle and repeat if you are in training mode.\n",
        "    if training:\n",
        "        dataset = dataset.shuffle(1000).repeat()\n",
        "\n",
        "    return dataset.batch(batch_size)"
      ],
      "metadata": {
        "id": "t1seIHh2-40j"
      },
      "execution_count": null,
      "outputs": []
    },
    {
      "cell_type": "code",
      "source": [
        "# Feature columns describe how to use the input.\n",
        "\n",
        "my_feature_columns = []\n",
        "\n",
        "# train.keys() ===> RETURNS A LIST OF COLUMN NAMES\n",
        "# CAN BE DONE USING THE CSV_COLUMN_NAMES VARIABLE AND POPPING SPECIES OFF\n",
        "\n",
        "for key in train.keys():\n",
        "    my_feature_columns.append(tf.feature_column.numeric_column(key = key))\n",
        "\n",
        "print(*my_feature_columns, sep = '\\n')"
      ],
      "metadata": {
        "id": "QIaPH0LrC2-n",
        "colab": {
          "base_uri": "https://localhost:8080/"
        },
        "outputId": "29360b9b-0c51-4e73-b386-4920866cd612"
      },
      "execution_count": null,
      "outputs": [
        {
          "output_type": "stream",
          "name": "stdout",
          "text": [
            "NumericColumn(key='SepalLength', shape=(1,), default_value=None, dtype=tf.float32, normalizer_fn=None)\n",
            "NumericColumn(key='SepalWidth', shape=(1,), default_value=None, dtype=tf.float32, normalizer_fn=None)\n",
            "NumericColumn(key='PetalLength', shape=(1,), default_value=None, dtype=tf.float32, normalizer_fn=None)\n",
            "NumericColumn(key='PetalWidth', shape=(1,), default_value=None, dtype=tf.float32, normalizer_fn=None)\n"
          ]
        }
      ]
    },
    {
      "cell_type": "markdown",
      "source": [
        "####Building the Model\n",
        "And now we are ready to choose a model. For classification tasks there are variety of different estimators/models that we can pick from. Some options are listed below.\n",
        "- ```DNNClassifier``` (Deep Neural Network)\n",
        "- ```LinearClassifier```\n",
        "\n",
        "We can choose either model but the DNN seems to be the best choice. This is because we may not be able to find a linear coorespondence in our data.\n",
        "\n",
        "So let's build a model!"
      ],
      "metadata": {
        "id": "Bmuy9H-YQjDH"
      }
    },
    {
      "cell_type": "markdown",
      "source": [
        "We will create a deep neural network that has two hidden layers. These layers have 30 and 10 neurons respectively. This is the number of neurons the TensorFlow official tutorial uses so we'll stick with it.\n",
        "\n",
        "However, it is worth mentioning that the number of hidden neurons is an arbitrary number and many experiments and tests are usually done to determine the best choice for these values."
      ],
      "metadata": {
        "id": "w6LuhkkUR4lL"
      }
    },
    {
      "cell_type": "code",
      "metadata": {
        "id": "n7YVQowgiDak",
        "colab": {
          "base_uri": "https://localhost:8080/"
        },
        "outputId": "69895714-3468-464a-865d-4cf277aaaeda"
      },
      "source": [
        "# Build a DNN with 2 hidden layers with 30 and 10 hidden nodes each.\n",
        "# tf.estimator CONTAINS MANY PREBUILT MODELS\n",
        "classifier = tf.estimator.DNNClassifier(\n",
        "    feature_columns = my_feature_columns,\n",
        "    # Two hidden layers of 30 and 10 nodes respectively.\n",
        "    hidden_units = [30, 10],\n",
        "    # The model must choose between 3 classes (THE 3 SPECIES OF FLOWERS)\n",
        "    n_classes = 3)"
      ],
      "execution_count": null,
      "outputs": [
        {
          "output_type": "stream",
          "name": "stdout",
          "text": [
            "INFO:tensorflow:Using default config.\n",
            "WARNING:tensorflow:Using temporary folder as model directory: /tmp/tmpskc6odrs\n",
            "INFO:tensorflow:Using config: {'_model_dir': '/tmp/tmpskc6odrs', '_tf_random_seed': None, '_save_summary_steps': 100, '_save_checkpoints_steps': None, '_save_checkpoints_secs': 600, '_session_config': allow_soft_placement: true\n",
            "graph_options {\n",
            "  rewrite_options {\n",
            "    meta_optimizer_iterations: ONE\n",
            "  }\n",
            "}\n",
            ", '_keep_checkpoint_max': 5, '_keep_checkpoint_every_n_hours': 10000, '_log_step_count_steps': 100, '_train_distribute': None, '_device_fn': None, '_protocol': None, '_eval_distribute': None, '_experimental_distribute': None, '_experimental_max_worker_delay_secs': None, '_session_creation_timeout_secs': 7200, '_checkpoint_save_graph_def': True, '_service': None, '_cluster_spec': ClusterSpec({}), '_task_type': 'worker', '_task_id': 0, '_global_id_in_cluster': 0, '_master': '', '_evaluation_master': '', '_is_chief': True, '_num_ps_replicas': 0, '_num_worker_replicas': 1}\n"
          ]
        }
      ]
    },
    {
      "cell_type": "markdown",
      "source": [
        "####TRAINING"
      ],
      "metadata": {
        "id": "Cppa28CpSnUW"
      }
    },
    {
      "cell_type": "code",
      "source": [
        "# We include a lambda to avoid creating an inner function previously\n",
        "\n",
        "classifier.train(\n",
        "    input_fn = lambda: input_fn(train, train_y, training = True),\n",
        "    steps = 5000)    # STEPS IS SIMILAR TO EPOCHS\n",
        "\n",
        "# IN THE CONSOLE, WE SEE THE # OF STEP AND THE LOSS\n",
        "## THE SMALLER THE LOSS THE BETTER"
      ],
      "metadata": {
        "colab": {
          "base_uri": "https://localhost:8080/"
        },
        "id": "X5CS9vKJSpiN",
        "outputId": "6117cece-57d3-480a-ca73-845ccc50ef28"
      },
      "execution_count": null,
      "outputs": [
        {
          "output_type": "stream",
          "name": "stdout",
          "text": [
            "INFO:tensorflow:Calling model_fn.\n",
            "INFO:tensorflow:Done calling model_fn.\n",
            "INFO:tensorflow:Create CheckpointSaverHook.\n",
            "INFO:tensorflow:Graph was finalized.\n",
            "INFO:tensorflow:Restoring parameters from /tmp/tmpskc6odrs/model.ckpt-5000\n",
            "WARNING:tensorflow:From /usr/local/lib/python3.7/dist-packages/tensorflow/python/training/saver.py:1161: get_checkpoint_mtimes (from tensorflow.python.training.checkpoint_management) is deprecated and will be removed in a future version.\n",
            "Instructions for updating:\n",
            "Use standard file utilities to get mtimes.\n",
            "INFO:tensorflow:Running local_init_op.\n",
            "INFO:tensorflow:Done running local_init_op.\n",
            "INFO:tensorflow:Calling checkpoint listeners before saving checkpoint 5000...\n",
            "INFO:tensorflow:Saving checkpoints for 5000 into /tmp/tmpskc6odrs/model.ckpt.\n",
            "INFO:tensorflow:Calling checkpoint listeners after saving checkpoint 5000...\n",
            "INFO:tensorflow:loss = 0.9102694, step = 5000\n",
            "INFO:tensorflow:global_step/sec: 304.701\n",
            "INFO:tensorflow:loss = 0.9091872, step = 5100 (0.331 sec)\n",
            "INFO:tensorflow:global_step/sec: 421.731\n",
            "INFO:tensorflow:loss = 0.8935021, step = 5200 (0.241 sec)\n",
            "INFO:tensorflow:global_step/sec: 436.026\n",
            "INFO:tensorflow:loss = 0.8958547, step = 5300 (0.230 sec)\n",
            "INFO:tensorflow:global_step/sec: 402.188\n",
            "INFO:tensorflow:loss = 0.8930824, step = 5400 (0.245 sec)\n",
            "INFO:tensorflow:global_step/sec: 374.915\n",
            "INFO:tensorflow:loss = 0.89507556, step = 5500 (0.270 sec)\n",
            "INFO:tensorflow:global_step/sec: 424.06\n",
            "INFO:tensorflow:loss = 0.883214, step = 5600 (0.234 sec)\n",
            "INFO:tensorflow:global_step/sec: 411.427\n",
            "INFO:tensorflow:loss = 0.88020426, step = 5700 (0.245 sec)\n",
            "INFO:tensorflow:global_step/sec: 420.479\n",
            "INFO:tensorflow:loss = 0.8798325, step = 5800 (0.236 sec)\n",
            "INFO:tensorflow:global_step/sec: 410.602\n",
            "INFO:tensorflow:loss = 0.8772142, step = 5900 (0.241 sec)\n",
            "INFO:tensorflow:global_step/sec: 380.265\n",
            "INFO:tensorflow:loss = 0.8704456, step = 6000 (0.268 sec)\n",
            "INFO:tensorflow:global_step/sec: 373.303\n",
            "INFO:tensorflow:loss = 0.86621356, step = 6100 (0.263 sec)\n",
            "INFO:tensorflow:global_step/sec: 434.726\n",
            "INFO:tensorflow:loss = 0.8656986, step = 6200 (0.231 sec)\n",
            "INFO:tensorflow:global_step/sec: 420.543\n",
            "INFO:tensorflow:loss = 0.8743036, step = 6300 (0.245 sec)\n",
            "INFO:tensorflow:global_step/sec: 405.299\n",
            "INFO:tensorflow:loss = 0.8639102, step = 6400 (0.237 sec)\n",
            "INFO:tensorflow:global_step/sec: 462.973\n",
            "INFO:tensorflow:loss = 0.86106515, step = 6500 (0.221 sec)\n",
            "INFO:tensorflow:global_step/sec: 475.546\n",
            "INFO:tensorflow:loss = 0.85032743, step = 6600 (0.206 sec)\n",
            "INFO:tensorflow:global_step/sec: 420.755\n",
            "INFO:tensorflow:loss = 0.8509013, step = 6700 (0.242 sec)\n",
            "INFO:tensorflow:global_step/sec: 410.531\n",
            "INFO:tensorflow:loss = 0.84390795, step = 6800 (0.244 sec)\n",
            "INFO:tensorflow:global_step/sec: 459.794\n",
            "INFO:tensorflow:loss = 0.8385731, step = 6900 (0.219 sec)\n",
            "INFO:tensorflow:global_step/sec: 448.375\n",
            "INFO:tensorflow:loss = 0.83757824, step = 7000 (0.222 sec)\n",
            "INFO:tensorflow:global_step/sec: 434.099\n",
            "INFO:tensorflow:loss = 0.843094, step = 7100 (0.226 sec)\n",
            "INFO:tensorflow:global_step/sec: 458.712\n",
            "INFO:tensorflow:loss = 0.8400277, step = 7200 (0.221 sec)\n",
            "INFO:tensorflow:global_step/sec: 427.087\n",
            "INFO:tensorflow:loss = 0.8403417, step = 7300 (0.235 sec)\n",
            "INFO:tensorflow:global_step/sec: 457.686\n",
            "INFO:tensorflow:loss = 0.8380343, step = 7400 (0.218 sec)\n",
            "INFO:tensorflow:global_step/sec: 481.497\n",
            "INFO:tensorflow:loss = 0.8316636, step = 7500 (0.207 sec)\n",
            "INFO:tensorflow:global_step/sec: 441.688\n",
            "INFO:tensorflow:loss = 0.82468784, step = 7600 (0.227 sec)\n",
            "INFO:tensorflow:global_step/sec: 431.164\n",
            "INFO:tensorflow:loss = 0.82152, step = 7700 (0.232 sec)\n",
            "INFO:tensorflow:global_step/sec: 472.241\n",
            "INFO:tensorflow:loss = 0.82247514, step = 7800 (0.209 sec)\n",
            "INFO:tensorflow:global_step/sec: 441.801\n",
            "INFO:tensorflow:loss = 0.8198445, step = 7900 (0.230 sec)\n",
            "INFO:tensorflow:global_step/sec: 374.524\n",
            "INFO:tensorflow:loss = 0.8163473, step = 8000 (0.265 sec)\n",
            "INFO:tensorflow:global_step/sec: 374.072\n",
            "INFO:tensorflow:loss = 0.8148574, step = 8100 (0.267 sec)\n",
            "INFO:tensorflow:global_step/sec: 381.326\n",
            "INFO:tensorflow:loss = 0.80672795, step = 8200 (0.261 sec)\n",
            "INFO:tensorflow:global_step/sec: 347.785\n",
            "INFO:tensorflow:loss = 0.8068811, step = 8300 (0.292 sec)\n",
            "INFO:tensorflow:global_step/sec: 355.366\n",
            "INFO:tensorflow:loss = 0.8047224, step = 8400 (0.278 sec)\n",
            "INFO:tensorflow:global_step/sec: 331.508\n",
            "INFO:tensorflow:loss = 0.7925639, step = 8500 (0.301 sec)\n",
            "INFO:tensorflow:global_step/sec: 364.242\n",
            "INFO:tensorflow:loss = 0.7988389, step = 8600 (0.278 sec)\n",
            "INFO:tensorflow:global_step/sec: 363.208\n",
            "INFO:tensorflow:loss = 0.80574924, step = 8700 (0.274 sec)\n",
            "INFO:tensorflow:global_step/sec: 367.679\n",
            "INFO:tensorflow:loss = 0.7907051, step = 8800 (0.275 sec)\n",
            "INFO:tensorflow:global_step/sec: 389.663\n",
            "INFO:tensorflow:loss = 0.79104567, step = 8900 (0.255 sec)\n",
            "INFO:tensorflow:global_step/sec: 378.316\n",
            "INFO:tensorflow:loss = 0.7844963, step = 9000 (0.262 sec)\n",
            "INFO:tensorflow:global_step/sec: 363.273\n",
            "INFO:tensorflow:loss = 0.8039262, step = 9100 (0.275 sec)\n",
            "INFO:tensorflow:global_step/sec: 460.544\n",
            "INFO:tensorflow:loss = 0.78631014, step = 9200 (0.218 sec)\n",
            "INFO:tensorflow:global_step/sec: 400.813\n",
            "INFO:tensorflow:loss = 0.7945235, step = 9300 (0.256 sec)\n",
            "INFO:tensorflow:global_step/sec: 462.03\n",
            "INFO:tensorflow:loss = 0.78245604, step = 9400 (0.210 sec)\n",
            "INFO:tensorflow:global_step/sec: 422.523\n",
            "INFO:tensorflow:loss = 0.78311396, step = 9500 (0.240 sec)\n",
            "INFO:tensorflow:global_step/sec: 423.39\n",
            "INFO:tensorflow:loss = 0.78070426, step = 9600 (0.231 sec)\n",
            "INFO:tensorflow:global_step/sec: 410.342\n",
            "INFO:tensorflow:loss = 0.7686825, step = 9700 (0.247 sec)\n",
            "INFO:tensorflow:global_step/sec: 461.574\n",
            "INFO:tensorflow:loss = 0.7697834, step = 9800 (0.216 sec)\n",
            "INFO:tensorflow:global_step/sec: 461.8\n",
            "INFO:tensorflow:loss = 0.7730502, step = 9900 (0.217 sec)\n",
            "INFO:tensorflow:Calling checkpoint listeners before saving checkpoint 10000...\n",
            "INFO:tensorflow:Saving checkpoints for 10000 into /tmp/tmpskc6odrs/model.ckpt.\n",
            "INFO:tensorflow:Calling checkpoint listeners after saving checkpoint 10000...\n",
            "INFO:tensorflow:Loss for final step: 0.7619268.\n"
          ]
        },
        {
          "output_type": "execute_result",
          "data": {
            "text/plain": [
              "<tensorflow_estimator.python.estimator.canned.dnn.DNNClassifierV2 at 0x7f10dba4e590>"
            ]
          },
          "metadata": {},
          "execution_count": 50
        }
      ]
    },
    {
      "cell_type": "markdown",
      "source": [
        "####EVALUATION"
      ],
      "metadata": {
        "id": "aGsdN-dSUmrh"
      }
    },
    {
      "cell_type": "code",
      "source": [
        "eval_result = classifier.evaluate(\n",
        "    input_fn = lambda: input_fn(test, test_y, training = False))\n",
        "\n",
        "print('\\nTest set accuracy: {accuracy:0.3f}\\n'.format(**eval_result))"
      ],
      "metadata": {
        "colab": {
          "base_uri": "https://localhost:8080/"
        },
        "id": "BVRQiYlGUour",
        "outputId": "5e97d166-956a-4ecb-8018-12fbe76ab111"
      },
      "execution_count": null,
      "outputs": [
        {
          "output_type": "stream",
          "name": "stdout",
          "text": [
            "INFO:tensorflow:Calling model_fn.\n",
            "INFO:tensorflow:Done calling model_fn.\n",
            "INFO:tensorflow:Starting evaluation at 2022-07-15T14:51:54\n",
            "INFO:tensorflow:Graph was finalized.\n",
            "INFO:tensorflow:Restoring parameters from /tmp/tmpskc6odrs/model.ckpt-10000\n",
            "INFO:tensorflow:Running local_init_op.\n",
            "INFO:tensorflow:Done running local_init_op.\n",
            "INFO:tensorflow:Inference Time : 0.28586s\n",
            "INFO:tensorflow:Finished evaluation at 2022-07-15-14:51:54\n",
            "INFO:tensorflow:Saving dict for global step 10000: accuracy = 0.6666667, average_loss = 0.7720929, global_step = 10000, loss = 0.7720929\n",
            "INFO:tensorflow:Saving 'checkpoint_path' summary for global step 10000: /tmp/tmpskc6odrs/model.ckpt-10000\n",
            "\n",
            "Test set accuracy: 0.667\n",
            "\n"
          ]
        }
      ]
    },
    {
      "cell_type": "markdown",
      "source": [
        "####PREDICTION\n",
        "\n",
        "Here is some example input and expected classes you can try:\n",
        "\n",
        "predict_x =\n",
        "\n",
        "    'SepalLength': [5.1, 5.9, 6.9],\n",
        "    'SepalWidth': [3.3, 3.0, 3.1],\n",
        "    'PetalLength': [1.7, 4.2, 5.4],\n",
        "    'PetalWidth': [0.5, 1.5, 2.1],\n",
        "\n",
        "expected =\n",
        "\n",
        "    ['Setosa', 'Versicolor', 'Virginica']"
      ],
      "metadata": {
        "id": "Zm-b5pCoWMXb"
      }
    },
    {
      "cell_type": "code",
      "source": [
        "def input_fn(features, batch_size = 256):\n",
        "    # Convert the inputs to a Dataset without labels.\n",
        "    return tf.data.Dataset.from_tensor_slices(dict(features)).batch(batch_size)\n",
        "\n",
        "features = ['SepalLength', 'SepalWidth', 'PetalLength', 'PetalWidth']\n",
        "predict = {}\n",
        "\n",
        "print(\"Please type numeric values as prompted.\")\n",
        "\n",
        "# FOR EACH FEATURE, GET AN INPUT FROM USER\n",
        "for feature in features:\n",
        "  valid = True\n",
        "\n",
        "  while valid:\n",
        "    # THE CONSOLE MSG WILL BE FEATURE_NAME:\n",
        "    val = input(feature + \": \")\n",
        "\n",
        "    # IF THE INPUT VALUE IS NOT A DIGIT, REPEAT UNTIL IS\n",
        "    if not val.isdigit(): valid = False\n",
        "\n",
        "  # ADD USER INPUT TO A DICT\n",
        "  ## THE MODEL EXPECTS A LIST, THAT'S WHY EVEN IF YOU HAVE ONE ENTRY, IT HAS TO BE A LIST\n",
        "  predict[feature] = [float(val)]\n",
        "\n",
        "predictions = classifier.predict(input_fn = lambda: input_fn(predict))\n",
        "\n",
        "for pred_dict in predictions:\n",
        "    print(pred_dict)\n",
        "\n",
        "    class_id = pred_dict['class_ids'][0]\n",
        "    # WE GET PROBABILITIES IN ALL CLASSES (3 IN THIS EXAMPLE)\n",
        "    ## BUT LETS LOOK AT THE PROBABILITY AT THE PREDICTED class_id\n",
        "    probability = pred_dict['probabilities'][class_id]\n",
        "\n",
        "    print('Prediction is \"{}\" ({:.1f}%)'.format(\n",
        "        SPECIES[class_id], 100 * probability))\n"
      ],
      "metadata": {
        "colab": {
          "base_uri": "https://localhost:8080/"
        },
        "id": "6-TG5p8nWJ3o",
        "outputId": "6ffce409-1a0e-488d-b305-abe076287b66"
      },
      "execution_count": null,
      "outputs": [
        {
          "output_type": "stream",
          "name": "stdout",
          "text": [
            "Please type numeric values as prompted.\n",
            "SepalLength: 5.1\n",
            "SepalWidth: 3.3\n",
            "PetalLength: 1.7\n",
            "PetalWidth: 0.5\n",
            "INFO:tensorflow:Calling model_fn.\n",
            "INFO:tensorflow:Done calling model_fn.\n",
            "INFO:tensorflow:Graph was finalized.\n",
            "INFO:tensorflow:Restoring parameters from /tmp/tmpskc6odrs/model.ckpt-10000\n",
            "INFO:tensorflow:Running local_init_op.\n",
            "INFO:tensorflow:Done running local_init_op.\n",
            "{'logits': array([ 0.02187417, -0.43305802,  0.24503675], dtype=float32), 'probabilities': array([0.34667876, 0.21996455, 0.4333567 ], dtype=float32), 'class_ids': array([2]), 'classes': array([b'2'], dtype=object), 'all_class_ids': array([0, 1, 2], dtype=int32), 'all_classes': array([b'0', b'1', b'2'], dtype=object)}\n",
            "Prediction is \"Virginica\" (43.3%)\n"
          ]
        }
      ]
    },
    {
      "cell_type": "markdown",
      "metadata": {
        "id": "d0dfaT4esRh3"
      },
      "source": [
        "###Clustering\n",
        "Now that we've covered regression and classification it's time to talk about clustering data!\n",
        "\n",
        "Clustering is a Machine Learning technique that involves the grouping of data points. In theory, data points that are in the same group should have similar properties and/or features, while data points in different groups should have highly dissimilar properties and/or features. (https://towardsdatascience.com/the-5-clustering-algorithms-data-scientists-need-to-know-a36d136ef68)\n",
        "\n",
        "Unfortunalty there are issues with the current version of TensorFlow and the implementation for KMeans. This means we cannot use KMeans without writing the algorithm from scratch. We aren't quite at that level yet, so we'll just explain the basics of clustering for now.\n",
        "\n",
        "####Basic Algorithm for K-Means.\n",
        "- Step 1: Pick the number of clusters K (randomly or based on the understanding of data)\n",
        "- Step 2: Centroids are placed randomly among the data points\n",
        "- Step 3: Datapoint by datapoint, calculate the euclidean distance between the datapoint and each centroid.\n",
        "- Step 4: Each datapoint is assigned to the cluster (centroid) closest to it\n",
        "- Step 5: Average all the points belonging to each centroid to find the middle of those clusters (center of mass). Place the corresponding centroids into that position.\n",
        "- Step 6: Reassign every point once again to the closest centroid.\n",
        "- Step 7: Repeat steps 3-4 until no point changes which centroid it belongs to.\n",
        "\n",
        "*Please refer to the video for an explanation of KMeans clustering.*"
      ]
    },
    {
      "cell_type": "markdown",
      "source": [
        "###Hidden Markov Models\n",
        "\n",
        "Finds a hidden (unobservable) state using other dependant observable states and their probabilities.\n",
        "\n",
        "Transformation probability: the probability of one hidden state transforming into another.\n",
        "\n",
        "Observation probability: the probability of observable states for each hidden state\n",
        "\n",
        "\n",
        "####To create a hidden markov model we need.\n",
        "\n",
        "1.   States\n",
        "2.   Observation Distribution\n",
        "3.   Transition Distribution"
      ],
      "metadata": {
        "id": "MQKPgPPwnSId"
      }
    },
    {
      "cell_type": "markdown",
      "source": [
        "####Weather Model:\n",
        "\n",
        "Taken direclty from the TensorFlow documentation (https://www.tensorflow.org/probability/api_docs/python/tfp/distributions/HiddenMarkovModel).\n",
        "\n",
        "*   we cannot directly observe the weather (COLD or HOT)\n",
        "\n",
        "*   we can observe if tim is happy or sad\n",
        "\n",
        "*   we know the probabilities of tim being happy or sad in each hidden state (HOT or COLD)\n",
        "\n",
        "*   we know the transformation probabilities (i.e if yesterday was sunny, today will be 80% sunny and 20% rainy ..)\n",
        "\n",
        "*   for sunny days ==> the max temp is 25, min temp is 15, mean temp is 20\n",
        "*   for rainy days ==> the max temp is 15, min temp is -5, mean temp is 5"
      ],
      "metadata": {
        "id": "zGd3XeVHBN10"
      }
    },
    {
      "cell_type": "markdown",
      "source": [
        "We will model a simple weather system and try to predict the temperature on each day given the following information.\n",
        "1. Cold days are encoded by a 0 and hot days are encoded by a 1.\n",
        "2. The first day in our sequence has an 80% chance of being cold.\n",
        "3. A cold day has a 30% chance of being followed by a hot day.\n",
        "4. A hot day has a 20% chance of being followed by a cold day.\n",
        "5. On each day the temperature is normally distributed with mean and standard deviation 0 and 5 on a cold day and mean and standard deviation 15 and 10 on a hot day."
      ],
      "metadata": {
        "id": "yjE04GcEYqJW"
      }
    },
    {
      "cell_type": "code",
      "source": [
        "%tensorflow_version 2.x"
      ],
      "metadata": {
        "id": "uu4fz2NeWub0"
      },
      "execution_count": null,
      "outputs": []
    },
    {
      "cell_type": "code",
      "source": [
        "import tensorflow_probability as tfp\n",
        "import tensorflow as tf"
      ],
      "metadata": {
        "id": "1rNWJhVaWzg4"
      },
      "execution_count": null,
      "outputs": []
    },
    {
      "cell_type": "code",
      "source": [
        "tfd = tfp.distributions  # A SHORTHAND\n",
        "\n",
        "# WE NEED A PROBABILITY FOR EACH STATE:\n",
        "## SINCE WE HAVE 2 STATES (COLD AND HOT):\n",
        "initial_distribution = tfd.Categorical(probs = [0.8, 0.2])  # REFER TO POINT 2. ABOVE\n",
        "\n",
        "transition_distribution = tfd.Categorical(probs = [[0.7, 0.3], [0.2, 0.8]])  # REFER TO POINTS 3. AND 4. ABOVE\n",
        "\n",
        "observation_distribution = tfd.Normal(loc = [0.0, 15.0], scale = [5.0, 10.0])  # REFER TO POINT 5. ABOVE\n",
        "## loc ==> means\n",
        "## scale ==> std devs"
      ],
      "metadata": {
        "id": "RV4AjH7nd50J"
      },
      "execution_count": null,
      "outputs": []
    },
    {
      "cell_type": "code",
      "source": [
        "# LET'S BUILD THE MODEL THAT PREDICT THE AVG TEMP\n",
        "\n",
        "model = tfd.HiddenMarkovModel(\n",
        "    initial_distribution = initial_distribution,\n",
        "    transition_distribution = transition_distribution,\n",
        "    observation_distribution = observation_distribution,\n",
        "    num_steps = 7)\n",
        "\n",
        "# num_steps ==> THE NUMBER OF DAYS WE WANT TO PREDICT TEMPERATURES FOR\n",
        "## IN THIS EXAMPLE, WE WANT TO PREDICT TEMPS FOR 7 DAYS"
      ],
      "metadata": {
        "id": "XbsR3L09k2n2"
      },
      "execution_count": null,
      "outputs": []
    },
    {
      "cell_type": "code",
      "source": [
        "# TO GET THE MEAN TEMP FOR THE 7 DAYS:\n",
        "mean = model.mean()\n",
        "\n",
        "# REMEMBER, mean IS A TENSOR, SO, TO VIEW IT, CONVERT IT TO A NUMPY ARRAY USING .numpy()\n",
        "## TO PRINT THE 7-DAY PREDICTIONS, INSTEAD OF:\n",
        "print(mean)\n",
        "\n",
        "## DO:\n",
        "with tf.compat.v1.Session() as sess:\n",
        "  print(mean.numpy())\n",
        "\n",
        "## THIS ALSO WORKS FINE!\n",
        "print(mean.numpy())"
      ],
      "metadata": {
        "colab": {
          "base_uri": "https://localhost:8080/"
        },
        "id": "AR-k6EMUl5VZ",
        "outputId": "a6411750-c17c-4681-872a-6b50fc9b896c"
      },
      "execution_count": null,
      "outputs": [
        {
          "output_type": "stream",
          "name": "stdout",
          "text": [
            "tf.Tensor([2.9999998 5.9999995 7.4999995 8.25      8.625001  8.812501  8.90625  ], shape=(7,), dtype=float32)\n",
            "[2.9999998 5.9999995 7.4999995 8.25      8.625001  8.812501  8.90625  ]\n",
            "[2.9999998 5.9999995 7.4999995 8.25      8.625001  8.812501  8.90625  ]\n"
          ]
        }
      ]
    },
    {
      "cell_type": "markdown",
      "source": [],
      "metadata": {
        "id": "1_xoKm2NrnFo"
      }
    }
  ]
}