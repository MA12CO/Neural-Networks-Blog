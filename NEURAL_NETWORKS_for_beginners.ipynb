{
  "nbformat": 4,
  "nbformat_minor": 0,
  "metadata": {
    "colab": {
      "provenance": []
    },
    "kernelspec": {
      "name": "python3",
      "display_name": "Python 3"
    },
    "language_info": {
      "name": "python"
    }
  },
  "cells": [
    {
      "cell_type": "markdown",
      "source": [
        "# **NEURAL NETWORKS**\n",
        "\n",
        "![alt text](http://www.extremetech.com/wp-content/uploads/2015/07/NeuralNetwork.png)\n",
        "*Figure 1*\n",
        "\n",
        "###***INPUT LAYER ==>***\n",
        "A NEURON FOR EVERY INPUT\n",
        "It may sometimes be neccessary to modify our dataset so that it can be passed to our neural network.\n",
        "\n",
        "Some common types of data a neural network uses are listed below.\n",
        "\n",
        "- Vector Data (2D)\n",
        "- Timeseries or Sequence (3D)\n",
        "- Image Data (4D) (width, height, RGB)\n",
        "- Video Data (5D) (width, height, RGB, time)\n",
        "\n",
        "\n",
        "\n",
        "###***OUTPUT LAYER ==>***\n",
        "CAN BE ONE NEURON AND THE CLASS IS DETERMINED BASED ON ITS VAL\n",
        "\n",
        "```\n",
        "INPUT LAYER           OUTPUT LAYER\n",
        "  -> O                     O -> [0,1]\n",
        "  -> O\n",
        "  -> O\n",
        "\n",
        "```\n",
        "\n",
        "\n",
        "OR ONE NEURON FOR EACH CLASS, AND THE NEURONS VALS ARE THE PROBABILITY OF EACH CLASS\n",
        "\n",
        "```\n",
        "INPUT LAYER           OUTPUT LAYER\n",
        "  -> O                     O -> 0.9\n",
        "  -> O                     O -> 0.001\n",
        "  -> O                     O -> 0.08\n",
        "                           O -> 0.01\n",
        "                           O -> 0.009\n",
        "\n",
        "```\n",
        "\n",
        "###***HIDDEN LAYERS ==>***\n",
        "WE DON'T OBSERVE HIDDEN LAYERS\n",
        "\n",
        "```\n",
        "INPUT LAYER  HIDDEN LAYER   OUTPUT LAYER\n",
        "  -> O            O\n",
        "  -> O                          O ->\n",
        "  -> O            O\n",
        "\n",
        "\n",
        "```\n",
        "\n"
      ],
      "metadata": {
        "id": "2I2Db7vV4mZJ"
      }
    },
    {
      "cell_type": "markdown",
      "source": [
        "***Neurons***\n",
        "\n",
        "neuron is responsible for generating/holding/passing ONE numeric value.\n",
        "\n",
        "its value is equal to the weighted sum of all previous nodes that are connected to it.\n",
        "\n",
        "NEURONS ARE CONNECTED TO OTHER LAYERS USING WEIGHTS.\n",
        "\n",
        "**DENSILY CONNECTED LAYER**:\n",
        "\n",
        "A LAYER WHOSE NODES ARE CONNECTED TO EVERY NODE IN THE PREVIOUS LAYER\n"
      ],
      "metadata": {
        "id": "q4tPi6hqlwZG"
      }
    },
    {
      "cell_type": "markdown",
      "source": [
        "**TRAINABLE PARAMETERS**: THE VALS OF LINES THAT CONNECT THE NODES\n",
        "\n",
        "**WEIGHTS**: THE FUNC THAT MAPS THE INPUT OF A NODE TO ITS OUTPUT OR THE STRENGTH OF THE CONNECTION BETWEEN THE 2 NODES\n",
        "\n",
        "**BIASES**:\n",
        "- CONST NUMERIC VAL\n",
        "- ONLY ONE BIAS PER LAYER\n",
        "- AFFECTS ONLY THE NODES CONNECTED TO IT FROM NEXT LAYER.\n",
        "- IS NOT CONNECTED TO PREV LAYER (DOESN'T TAKE INPUTS IN INPUT LAYER)\n",
        "- ITS CONNECTION WIEGHT IS TYPICALLY 1.0\n",
        "\n",
        "```\n",
        "INPUT LAYER  HIDDEN LAYER   OUTPUT LAYER\n",
        "  -> O            O\n",
        "  -> O                          O ->\n",
        "  -> O            O\n",
        "     B            B\n",
        "\n",
        "```\n"
      ],
      "metadata": {
        "id": "DJSRqHXPl93V"
      }
    },
    {
      "cell_type": "markdown",
      "source": [
        "---\n",
        "\n",
        "The data at each subsequent neuron is defined as the following: (weighed sum eq)\n",
        "\n",
        "> $Y =(\\sum_{i=0}^n w_i x_i) + b$\n",
        "\n",
        "> $w$ stands for the weight of each connection to the neuron\n",
        "\n",
        "> $x$ stands for the value of the connected neuron from the previous value\n",
        "\n",
        "> $b$ stands for the bias at previous layer\n",
        "\n",
        "> $n$ is the number of connections to this neuron\n",
        "\n",
        "> $Y$ is the output of the current neuron\n",
        "\n",
        "> $\\sum$ stands for sum\n",
        "\n",
        "The bias $b$ allows us to shift the network up or down by a constant value. It is like the y-intercept of a line.\n",
        "\n",
        "But that equation is the not complete one! We need **the activation function**. This is a function that we apply to the equation seen above to add complexity and dimensionality to our network.\n",
        "\n",
        "A clear example for why activiation funcs are usefull is when we want one output node with a value between 0 and 1 with 0 being male for example and 1 being female\n",
        "\n",
        "so our equation becomes:\n",
        "\n",
        "> $Y =F((\\sum_{i=0}^n w_i x_i) + b)$\n",
        "\n",
        "> $F(x)$ is the activation func (Relu, tanh, sigmoid..)\n",
        "\n",
        "\n",
        "Our network will start with predefined activation functions (they may be different at each layer) but random weights and biases.\n",
        "\n",
        "As we train the network by feeding it data it will learn the correct weights and biases and adjust the network accordingly using a technqiue called **backpropagation** (explained below).\n",
        "\n",
        "Once the correct weights and biases have been learned our network will hopefully be able to give us meaningful predictions in the output layer."
      ],
      "metadata": {
        "id": "1vr_BGAimDg1"
      }
    },
    {
      "cell_type": "markdown",
      "source": [
        "###Activation Function\n",
        "Activation functions are simply a function that is applied to the weighed sum of a neuron.\n",
        "\n",
        "They can be anything we want but are typically higher order/degree functions that aim to add a higher dimension to our data.\n",
        "\n",
        "We would want to do this to introduce more comolexity to our model.\n",
        "\n",
        "By transforming our data to a higher dimension, we can typically make better, more complex predictions.\n",
        "\n",
        "A list of some common activation functions and their graphs can be seen below:\n",
        "\n",
        "> - Relu (Rectified Linear Unit):\n",
        "converts negative values to 0 and keeps positive values as is\n",
        "\n",
        " ![alt text](https://yashuseth.files.wordpress.com/2018/02/relu-function.png?w=309&h=274)\n",
        "\n",
        "\n",
        "> - Tanh (Hyperbolic Tangent): maps (squiches) values to [-1, 1]\n",
        "\n",
        "![alt text](http://mathworld.wolfram.com/images/interactive/TanhReal.gif)\n",
        "\n",
        "> - Sigmoid: maps (squiches) values to [0, 1]\n",
        "\n",
        "\n",
        "![alt text](https://miro.medium.com/max/970/1*Xu7B5y9gp0iL5ooBj7LtWw.png)\n",
        "\n"
      ],
      "metadata": {
        "id": "TGeorIWTmSeU"
      }
    },
    {
      "cell_type": "markdown",
      "source": [
        "####Loss/Cost Function\n",
        "In the training phase our network will make many mistakes and poor predicitions. In fact, at the start of training our network doesn't know anything (it has random weights and biases)!\n",
        "\n",
        "We need some way of evaluating if the network is doing well and how well it is doing. For our training data we have the **features (input)** and the **labels (expected output)**, because of this we can compare the output from our network to the expected output.\n",
        "\n",
        "Based on the difference between these values we can determine if our network has done a good job or poor job. If the network has done a good job, we'll make minor changes to the weights and biases. If it has done a poor job our changes may be more drastic.\n",
        "\n",
        "So, this is where the cost/loss function comes in. This function is responsible for determining how well the network did. We pass it the actual output and the expected output, and it returns to us some value representing the cost/loss of the network.\n",
        "\n",
        "**Some common loss/cost functions include.**\n",
        "- Mean Squared Error\n",
        "- Mean Absolute Error\n",
        "- Hinge Loss\n",
        "\n",
        "####Gradient Descent\n",
        "Gradient descent and backpropagation are closely related. Gradient descent is the algorithm used to find the optimal paramaters (weights and biases) for our network, while backpropagation is the process of calculating the gradient that is used in the gradient descent step.\n",
        "\n",
        "Gradient descent requires some pretty advanced calculus and linear algebra to understand so we'll stay away from that for now. Let's just read the formal definition for now.\n",
        "\n",
        "\"Gradient descent is an optimization algorithm used to minimize some function by iteratively moving in the direction of steepest descent as defined by the negative of the gradient. In machine learning, we use gradient descent to update the parameters of our model.\" (https://ml-cheatsheet.readthedocs.io/en/latest/gradient_descent.html)\n",
        "\n",
        "\n",
        "![alt text](https://cdn-images-1.medium.com/max/1000/1*iU1QCnSTKrDjIPjSAENLuQ.png)\n",
        "\n",
        "\n",
        "###Backpropagation\n",
        "Backpropagation is the fundemental algorithm behind training neural networks. It is what changes the weights and biases of our network. it uses a cost/loss function."
      ],
      "metadata": {
        "id": "jC5nM6tMrYjN"
      }
    },
    {
      "cell_type": "markdown",
      "source": [
        "###Optimizer\n",
        "You may sometimes see the term optimizer or optimization function. This is simply the function that implements the backpropagation algorithm described above. Here's a list of a few common ones.\n",
        "- Gradient Descent\n",
        "- Stochastic Gradient Descent\n",
        "- Mini-Batch Gradient Descent\n",
        "- Momentum\n",
        "- Nesterov Accelerated Gradient\n",
        "\n",
        "*This article explains them quite well is where I've pulled this list from.*\n",
        "\n",
        "(https://medium.com/@sdoshi579/optimizers-for-training-neural-network-59450d71caf6)"
      ],
      "metadata": {
        "id": "VTEaaP8Gs_F7"
      }
    },
    {
      "cell_type": "markdown",
      "source": [
        "##LET'S BUILD A NEURAL NETWORK"
      ],
      "metadata": {
        "id": "dM9RYlr7XwLw"
      }
    },
    {
      "cell_type": "code",
      "execution_count": null,
      "metadata": {
        "id": "08OwegGYusuv"
      },
      "outputs": [],
      "source": [
        "#imports:\n",
        "%tensorflow_version 2.x\n",
        "import tensorflow as tf\n",
        "from tensorflow import keras\n",
        "import numpy as np\n",
        "import matplotlib.pyplot as plt"
      ]
    },
    {
      "cell_type": "markdown",
      "source": [
        "###Dataset\n",
        "For this tutorial we will use the MNIST Fashion Dataset. This is a dataset that is included in keras.\n",
        "\n",
        "This dataset includes 60,000 (28X28) images for training and 10,000 (28X28) images for validation/testing."
      ],
      "metadata": {
        "id": "dNGI0zlPYhXl"
      }
    },
    {
      "cell_type": "code",
      "source": [
        "# load the dataset from keras\n",
        "fashion_mnist = keras.datasets.fashion_mnist\n",
        "\n",
        "# split the dataset into training and testing\n",
        "(train_images, train_labels), (test_images, test_labels) = fashion_mnist.load_data()"
      ],
      "metadata": {
        "id": "egCdubH8YWs1"
      },
      "execution_count": null,
      "outputs": []
    },
    {
      "cell_type": "code",
      "source": [
        "print(f'dataset shape is {train_images.shape}\\n\\nType is {type(train_images)}')\n"
      ],
      "metadata": {
        "colab": {
          "base_uri": "https://localhost:8080/"
        },
        "id": "GcRUDQ9-Zf0a",
        "outputId": "4f70c2e6-2701-4145-9259-b3e9d2ef0cfb"
      },
      "execution_count": null,
      "outputs": [
        {
          "output_type": "stream",
          "name": "stdout",
          "text": [
            "dataset shape is (60000, 28, 28)\n",
            "\n",
            "Type is <class 'numpy.ndarray'>\n"
          ]
        }
      ]
    },
    {
      "cell_type": "code",
      "source": [
        "# one pixel (a number between 0 and 255)\n",
        "## NOTE THAT THIS IMG IS IN GREYSCALE\n",
        "train_images[0,23,23]"
      ],
      "metadata": {
        "colab": {
          "base_uri": "https://localhost:8080/"
        },
        "id": "hb8xY6JpZuNI",
        "outputId": "939ed955-7568-4bc1-edfb-c64d2c9aa150"
      },
      "execution_count": null,
      "outputs": [
        {
          "output_type": "execute_result",
          "data": {
            "text/plain": [
              "194"
            ]
          },
          "metadata": {},
          "execution_count": 4
        }
      ]
    },
    {
      "cell_type": "code",
      "source": [
        "# LET'S LOOK AT THE FIRST 10 LABELS\n",
        "train_labels[:10]"
      ],
      "metadata": {
        "colab": {
          "base_uri": "https://localhost:8080/"
        },
        "id": "IOLNF9HD-tmJ",
        "outputId": "676e30c3-1410-4d55-b7b3-e09040778161"
      },
      "execution_count": null,
      "outputs": [
        {
          "output_type": "execute_result",
          "data": {
            "text/plain": [
              "array([9, 0, 0, 3, 0, 2, 7, 2, 5, 5], dtype=uint8)"
            ]
          },
          "metadata": {},
          "execution_count": 5
        }
      ]
    },
    {
      "cell_type": "code",
      "source": [
        "class_names = ['Tshirt/top', 'Trousers', 'Pullover', 'Dress', 'Coat',\n",
        "               'Sandal', 'Shirt', 'Sneaker', 'Bag', 'Ankle Boot']"
      ],
      "metadata": {
        "id": "N85IeaXoArN1"
      },
      "execution_count": null,
      "outputs": []
    },
    {
      "cell_type": "code",
      "source": [
        "# TO LOOK AT AN IMG:\n",
        "img_index = 1000\n",
        "\n",
        "plt.figure()\n",
        "plt.imshow(train_images[img_index])\n",
        "plt.title(class_names[train_labels[img_index]])\n",
        "plt.colorbar()\n",
        "plt.grid(False)\n",
        "plt.show()"
      ],
      "metadata": {
        "colab": {
          "base_uri": "https://localhost:8080/",
          "height": 281
        },
        "id": "wnK_OUJ2HMd9",
        "outputId": "dbe1a1f8-c9de-4c67-d81b-132562a33295"
      },
      "execution_count": null,
      "outputs": [
        {
          "output_type": "display_data",
          "data": {
            "text/plain": [
              "<Figure size 432x288 with 2 Axes>"
            ],
            "image/png": "[encoded data removed]"
          },
          "metadata": {
            "needs_background": "light"
          }
        }
      ]
    },
    {
      "cell_type": "markdown",
      "source": [
        "###Data Preprocessing\n",
        "\n",
        "in this example, the pixel values are between 0 and 255.\n",
        "\n",
        "It's always a good idea to avoid dealing with large values, let's map them to be between 0 and 1"
      ],
      "metadata": {
        "id": "imjFst1gLsGB"
      }
    },
    {
      "cell_type": "code",
      "source": [
        "train_images = train_images/ 255.0\n",
        "test_images = test_images/ 255.0"
      ],
      "metadata": {
        "id": "x75CqkJ2LkIe"
      },
      "execution_count": null,
      "outputs": []
    },
    {
      "cell_type": "markdown",
      "source": [
        "###Building the Model\n",
        "\n",
        "this model will be:\n",
        "\n",
        "- keras sequential model (feed-forward neural network i.e values pass left to right)\n",
        "- 3 layers (1 input, 1 hidden, 1 output)\n",
        "- softmax ==> MAKES SURE THAT ALL OUTPUTS ARE BETWEEN 0 AND 1 AND THAT THEY ADD UP TO 1\n",
        "\n",
        "hyper-parameters: are parameters that we can manually tune such as number of hidden layers, number of neurons, activation funcs, optimiser, loss, metrics, epochs..)\n",
        "\n",
        "weights and biases are not hyperparameters (you cannot manually tune)"
      ],
      "metadata": {
        "id": "qBVxJ4CTMyZf"
      }
    },
    {
      "cell_type": "code",
      "source": [
        "model = keras.Sequential([\n",
        "    # specify the number of neurons in each layer\n",
        "    keras.layers.Flatten(input_shape = train_images.shape[1:]),   # since the imgs are 2D, we need to flatten them to 1D to pass them in the input layer\n",
        "    keras.layers.Dense(128, activation = 'relu'),    # no answer to why we chose 128 neurons!!\n",
        "    keras.layers.Dense(len(class_names), activation = 'softmax')   # we  need a probability for each class name\n",
        "    # softmax ==> MAKES SURE THAT ALL OUTPUTS ARE BETWEEN 0 AND 1 AND THAT THEY ADD UP TO 1\n",
        "])"
      ],
      "metadata": {
        "id": "0gEVKe07NMkP"
      },
      "execution_count": null,
      "outputs": []
    },
    {
      "cell_type": "markdown",
      "source": [
        "###Compiling the Model\n",
        "\n",
        "you have to compile the model before training it.\n",
        "\n",
        "you specify the loss func, optimizer and metrics that you want to track\n",
        "\n",
        "check optimizers here:\n",
        "https://www.tensorflow.org/api_docs/python/tf/keras/optimizers\n",
        "\n",
        "check loss here:\n",
        "https://www.tensorflow.org/api_docs/python/tf/keras/losses\n",
        "\n",
        "check metrices:\n",
        "https://www.tensorflow.org/api_docs/python/tf/keras/metrics"
      ],
      "metadata": {
        "id": "n4xkMTJsTqsS"
      }
    },
    {
      "cell_type": "code",
      "source": [
        "model.compile(optimizer = 'adam',   # the gradient decent algorithm\n",
        "              loss = 'sparse_categorical_crossentropy',\n",
        "              metrics=['accuracy'])"
      ],
      "metadata": {
        "id": "mzxqLllAT7Rc"
      },
      "execution_count": null,
      "outputs": []
    },
    {
      "cell_type": "markdown",
      "source": [
        "###Training the Model"
      ],
      "metadata": {
        "id": "1veQIVPOS-hx"
      }
    },
    {
      "cell_type": "code",
      "source": [
        "model.fit(train_images, train_labels, epochs = 20)"
      ],
      "metadata": {
        "colab": {
          "base_uri": "https://localhost:8080/"
        },
        "id": "BOttU7rXTDnV",
        "outputId": "8d3e4539-20f6-4a32-bf98-b5959df189b6"
      },
      "execution_count": null,
      "outputs": [
        {
          "output_type": "stream",
          "name": "stdout",
          "text": [
            "Epoch 1/20\n",
            "1875/1875 [==============================] - 11s 5ms/step - loss: 0.5038 - accuracy: 0.8240\n",
            "Epoch 2/20\n",
            "1875/1875 [==============================] - 5s 3ms/step - loss: 0.3764 - accuracy: 0.8649\n",
            "Epoch 3/20\n",
            "1875/1875 [==============================] - 5s 3ms/step - loss: 0.3387 - accuracy: 0.8766\n",
            "Epoch 4/20\n",
            "1875/1875 [==============================] - 5s 3ms/step - loss: 0.3127 - accuracy: 0.8879\n",
            "Epoch 5/20\n",
            "1875/1875 [==============================] - 5s 3ms/step - loss: 0.2947 - accuracy: 0.8915\n",
            "Epoch 6/20\n",
            "1875/1875 [==============================] - 5s 3ms/step - loss: 0.2803 - accuracy: 0.8961\n",
            "Epoch 7/20\n",
            "1875/1875 [==============================] - 5s 3ms/step - loss: 0.2684 - accuracy: 0.9009\n",
            "Epoch 8/20\n",
            "1875/1875 [==============================] - 5s 3ms/step - loss: 0.2571 - accuracy: 0.9042\n",
            "Epoch 9/20\n",
            "1875/1875 [==============================] - 5s 3ms/step - loss: 0.2473 - accuracy: 0.9069\n",
            "Epoch 10/20\n",
            "1875/1875 [==============================] - 5s 3ms/step - loss: 0.2392 - accuracy: 0.9119\n",
            "Epoch 11/20\n",
            "1875/1875 [==============================] - 5s 3ms/step - loss: 0.2295 - accuracy: 0.9143\n",
            "Epoch 12/20\n",
            "1875/1875 [==============================] - 5s 3ms/step - loss: 0.2236 - accuracy: 0.9174\n",
            "Epoch 13/20\n",
            "1875/1875 [==============================] - 5s 3ms/step - loss: 0.2152 - accuracy: 0.9199\n",
            "Epoch 14/20\n",
            "1875/1875 [==============================] - 5s 3ms/step - loss: 0.2096 - accuracy: 0.9217\n",
            "Epoch 15/20\n",
            "1875/1875 [==============================] - 6s 3ms/step - loss: 0.2031 - accuracy: 0.9240\n",
            "Epoch 16/20\n",
            "1875/1875 [==============================] - 7s 3ms/step - loss: 0.1977 - accuracy: 0.9256\n",
            "Epoch 17/20\n",
            "1875/1875 [==============================] - 6s 3ms/step - loss: 0.1936 - accuracy: 0.9274\n",
            "Epoch 18/20\n",
            "1875/1875 [==============================] - 6s 3ms/step - loss: 0.1876 - accuracy: 0.9306\n",
            "Epoch 19/20\n",
            "1875/1875 [==============================] - 6s 3ms/step - loss: 0.1837 - accuracy: 0.9308\n",
            "Epoch 20/20\n",
            "1875/1875 [==============================] - 6s 3ms/step - loss: 0.1790 - accuracy: 0.9316\n"
          ]
        },
        {
          "output_type": "execute_result",
          "data": {
            "text/plain": [
              "<keras.callbacks.History at 0x7f446c5a1bd0>"
            ]
          },
          "metadata": {},
          "execution_count": 11
        }
      ]
    },
    {
      "cell_type": "markdown",
      "source": [
        "###Evaluating/ Testing the Model\n",
        "\n",
        "indications for overfitting are:\n",
        "- when the accuracy of test data is lower than training data\n",
        "- when training accuracy is very very high"
      ],
      "metadata": {
        "id": "nOgY6C3iZoBw"
      }
    },
    {
      "cell_type": "code",
      "source": [
        "test_loss, test_acc = model.evaluate(test_images, test_labels, verbose = 1)\n",
        "# verbose is how much is being printed on console\n",
        "\n",
        "print('test accuracy:', test_acc)"
      ],
      "metadata": {
        "colab": {
          "base_uri": "https://localhost:8080/"
        },
        "id": "3FIyJChcZsxs",
        "outputId": "e3d453fd-36c8-404a-e5e2-ec6dc31ca0d8"
      },
      "execution_count": null,
      "outputs": [
        {
          "output_type": "stream",
          "name": "stdout",
          "text": [
            "313/313 [==============================] - 1s 2ms/step - loss: 0.3551 - accuracy: 0.8838\n",
            "test accuracy: 0.8838000297546387\n"
          ]
        }
      ]
    },
    {
      "cell_type": "markdown",
      "source": [
        "###Predictions\n",
        "\n",
        "now let's use our model to make predictions"
      ],
      "metadata": {
        "id": "-4YSWOkKcA4r"
      }
    },
    {
      "cell_type": "code",
      "source": [
        "predictions = model.predict(test_images)\n",
        "\n",
        "# to view the values of the output layer (the predictions of all classes names):\n",
        "img_index = 0\n",
        "print(predictions[img_index])\n",
        "\n",
        "# .predict expects a list, if you wan to predict for one img only do:\n",
        "# prediction = model.predict([test_images[0]])\n"
      ],
      "metadata": {
        "colab": {
          "base_uri": "https://localhost:8080/"
        },
        "id": "sO1TRN9icHds",
        "outputId": "9b20ccf1-8a20-4d52-ed2f-a0799f708aff"
      },
      "execution_count": null,
      "outputs": [
        {
          "output_type": "stream",
          "name": "stdout",
          "text": [
            "[6.8994609e-13 6.5003417e-15 3.5920901e-15 2.6683761e-15 3.9686147e-13\n",
            " 3.1115727e-07 9.6846517e-11 1.2253209e-03 1.2739622e-12 9.9877435e-01]\n"
          ]
        }
      ]
    },
    {
      "cell_type": "code",
      "source": [
        "img_index = 909\n",
        "\n",
        "# to view the most probable class name:\n",
        "## this will be the index of the biggest value in the list of predictions\n",
        "print(np.argmax(predictions[img_index]))\n",
        "\n",
        "# now let's try show the class name itself\n",
        "print(class_names[np.argmax(predictions[img_index])])\n",
        "\n",
        "# let's view the img:\n",
        "plt.figure()\n",
        "plt.imshow(test_images[img_index])\n",
        "plt.title(f'actual: {class_names[test_labels[img_index]]}\\npredicted: {class_names[np.argmax(predictions[img_index])]}')\n",
        "plt.colorbar()\n",
        "plt.grid(False)\n",
        "plt.show()"
      ],
      "metadata": {
        "colab": {
          "base_uri": "https://localhost:8080/",
          "height": 331
        },
        "id": "9J3UKmz-ezh3",
        "outputId": "5498e8de-1cbc-4baa-d0ef-19e81732974b"
      },
      "execution_count": null,
      "outputs": [
        {
          "output_type": "stream",
          "name": "stdout",
          "text": [
            "6\n",
            "Shirt\n"
          ]
        },
        {
          "output_type": "display_data",
          "data": {
            "text/plain": [
              "<Figure size 432x288 with 2 Axes>"
            ],
            "image/png": "[encoded data removed]"
          },
          "metadata": {
            "needs_background": "light"
          }
        }
      ]
    },
    {
      "cell_type": "code",
      "source": [
        "# THIS IS A COOL SCRIPT THAT TAKES AN IMG INDEX AS INPUT AND SHOWS THE ACTUAL CLASS NAME VS THE PREDICTED CLASS NAME\n",
        "\n",
        "COLOR = 'white'\n",
        "plt.rcParams['text.color'] = COLOR\n",
        "plt.rcParams['axes.labelcolor'] = COLOR\n",
        "\n",
        "def predict(model, image, correct_label):\n",
        "  class_names = ['T-shirt/top', 'Trouser', 'Pullover', 'Dress', 'Coat',\n",
        "               'Sandal', 'Shirt', 'Sneaker', 'Bag', 'Ankle boot']\n",
        "  prediction = model.predict(np.array([image]))\n",
        "  predicted_class = class_names[np.argmax(prediction)]\n",
        "\n",
        "  show_image(image, class_names[correct_label], predicted_class)\n",
        "\n",
        "\n",
        "def show_image(img, label, guess):\n",
        "  plt.figure()\n",
        "  plt.imshow(img, cmap=plt.cm.binary)\n",
        "  plt.title(\"Excpected: \" + label)\n",
        "  plt.xlabel(\"Guess: \" + guess)\n",
        "  plt.colorbar()\n",
        "  plt.grid(False)\n",
        "  plt.show()\n",
        "\n",
        "\n",
        "def get_number():\n",
        "  while True:\n",
        "    num = input(\"Pick a number: \")\n",
        "    if num.isdigit():\n",
        "      num = int(num)\n",
        "      if 0 <= num <= 1000:\n",
        "        return int(num)\n",
        "    else:\n",
        "      print(\"Try again...\")\n",
        "\n",
        "num = get_number()\n",
        "image = test_images[num]\n",
        "label = test_labels[num]\n",
        "predict(model, image, label)\n"
      ],
      "metadata": {
        "id": "Aa5uqAFThokS"
      },
      "execution_count": null,
      "outputs": []
    }
  ]
}